{
 "cells": [
  {
   "cell_type": "markdown",
   "metadata": {},
   "source": [
    "# Purpose"
   ]
  },
  {
   "cell_type": "markdown",
   "metadata": {},
   "source": [
    "\n",
    "This notebook demonstrates the data pipeline from raw tables to analytical datasets. At the end of this activity, train & test data sets are created from raw data.\n",
    "\n"
   ]
  },
  {
   "cell_type": "markdown",
   "metadata": {},
   "source": [
    "## Imports"
   ]
  },
  {
   "cell_type": "code",
   "execution_count": 6,
   "metadata": {},
   "outputs": [],
   "source": [
    "from pprint import pprint\n",
    "import os\n",
    "import os.path as op\n",
    "import shutil\n",
    "\n",
    "# standard third party imports\n",
    "import numpy as np\n",
    "import pandas as pd\n",
    "from sklearn.model_selection import train_test_split\n",
    "pd.options.mode.use_inf_as_na = True\n"
   ]
  },
  {
   "cell_type": "code",
   "execution_count": 7,
   "metadata": {},
   "outputs": [],
   "source": [
    "%load_ext autoreload\n",
    "%autoreload 2"
   ]
  },
  {
   "cell_type": "code",
   "execution_count": 8,
   "metadata": {},
   "outputs": [],
   "source": [
    "# standard code-template imports\n",
    "from ta_lib.core.api import (\n",
    "    create_context, get_dataframe, get_feature_names_from_column_transformer, get_package_path,\n",
    "    display_as_tabs, string_cleaning, merge_info, initialize_environment,\n",
    "    list_datasets, load_dataset, save_dataset\n",
    ")\n",
    "import ta_lib.eda.api as eda"
   ]
  },
  {
   "cell_type": "code",
   "execution_count": 9,
   "metadata": {},
   "outputs": [],
   "source": [
    "initialize_environment(debug=False, hide_warnings=True)"
   ]
  },
  {
   "cell_type": "markdown",
   "metadata": {},
   "source": [
    "## Utility functions"
   ]
  },
  {
   "cell_type": "markdown",
   "metadata": {},
   "source": [
    "# 1. Initialization"
   ]
  },
  {
   "cell_type": "code",
   "execution_count": 10,
   "metadata": {},
   "outputs": [
    {
     "name": "stdout",
     "output_type": "stream",
     "text": [
      "['/raw/house',\n",
      " '/raw/orders',\n",
      " '/raw/product',\n",
      " '/cleaned/house',\n",
      " '/cleaned/orders',\n",
      " '/cleaned/product',\n",
      " '/cleaned/sales',\n",
      " '/processed/sales',\n",
      " '/processed/house',\n",
      " '/train/sales/features',\n",
      " '/train/sales/target',\n",
      " '/train/house/features',\n",
      " '/train/house/target',\n",
      " '/test/sales/features',\n",
      " '/test/sales/target',\n",
      " '/test/house/features',\n",
      " '/test/house/target',\n",
      " '/score/sales/output',\n",
      " '/score/house/output']\n"
     ]
    }
   ],
   "source": [
    "config_path = op.join('conf', 'config.yml')\n",
    "context = create_context(config_path)\n",
    "pprint(list_datasets(context))\n",
    "\n",
    "housing_df = load_dataset(context, 'raw/house')"
   ]
  },
  {
   "cell_type": "markdown",
   "metadata": {},
   "source": [
    "# 2. Data cleaning and consolidation"
   ]
  },
  {
   "cell_type": "markdown",
   "metadata": {},
   "source": [
    "**<u>NOTES</u>**\n",
    "\n",
    "The focus here is to create a cleaned dataset that is appropriate for solving the DS problem at hand from the raw data.\n",
    "\n",
    "**1. Do**\n",
    "* clean dataframe column names\n",
    "* ensure dtypes are set properly\n",
    "* join with other tables etc to create features\n",
    "* transform, if appropriate, datetime like columns to generate additional features (weekday etc)\n",
    "* transform, if appropriate, string columns to generate additional features\n",
    "* discard cols that are not useful for training the model (IDs, constant cols, duplicate cols etc)\n",
    "* additional features generated from existing columns\n",
    "\n",
    "\n",
    "**2. Don't**\n",
    "* handle missing values or outliers here. mark them and leave them for processing downstream.\n"
   ]
  },
  {
   "cell_type": "markdown",
   "metadata": {},
   "source": [
    "## 2.1 Clean individual tables "
   ]
  },
  {
   "cell_type": "markdown",
   "metadata": {},
   "source": [
    "### Products Table\n",
    "\n",
    "From data discovery, we know the following\n",
    "\n",
    "* all columns are strings : nothing to fix. Apply generic cleaning (strip extra whitespace etc)\n",
    "* ensure all `invalid` string entries are mapped to np.NaN\n",
    "* some column are duplicates (eg. color, Ext_Color). Better to `coalesce` them instead of an outright discard of one of the columns.\n",
    "* SKU is key column : ensure no duplicate values\n",
    "* This will go into production code\n"
   ]
  },
  {
   "cell_type": "code",
   "execution_count": 11,
   "metadata": {},
   "outputs": [
    {
     "data": {
      "text/html": [
       "<div>\n",
       "<style scoped>\n",
       "    .dataframe tbody tr th:only-of-type {\n",
       "        vertical-align: middle;\n",
       "    }\n",
       "\n",
       "    .dataframe tbody tr th {\n",
       "        vertical-align: top;\n",
       "    }\n",
       "\n",
       "    .dataframe thead th {\n",
       "        text-align: right;\n",
       "    }\n",
       "</style>\n",
       "<table border=\"1\" class=\"dataframe\">\n",
       "  <thead>\n",
       "    <tr style=\"text-align: right;\">\n",
       "      <th></th>\n",
       "      <th>longitude</th>\n",
       "      <th>latitude</th>\n",
       "      <th>housing_median_age</th>\n",
       "      <th>total_rooms</th>\n",
       "      <th>total_bedrooms</th>\n",
       "      <th>population</th>\n",
       "      <th>households</th>\n",
       "      <th>median_income</th>\n",
       "      <th>median_house_value</th>\n",
       "      <th>ocean_proximity</th>\n",
       "    </tr>\n",
       "  </thead>\n",
       "  <tbody>\n",
       "    <tr>\n",
       "      <th>0</th>\n",
       "      <td>-122.23</td>\n",
       "      <td>37.88</td>\n",
       "      <td>41.0</td>\n",
       "      <td>880.0</td>\n",
       "      <td>129.0</td>\n",
       "      <td>322.0</td>\n",
       "      <td>126.0</td>\n",
       "      <td>8.3252</td>\n",
       "      <td>452600.0</td>\n",
       "      <td>NEAR BAY</td>\n",
       "    </tr>\n",
       "    <tr>\n",
       "      <th>1</th>\n",
       "      <td>-122.22</td>\n",
       "      <td>37.86</td>\n",
       "      <td>21.0</td>\n",
       "      <td>7099.0</td>\n",
       "      <td>1106.0</td>\n",
       "      <td>2401.0</td>\n",
       "      <td>1138.0</td>\n",
       "      <td>8.3014</td>\n",
       "      <td>358500.0</td>\n",
       "      <td>NEAR BAY</td>\n",
       "    </tr>\n",
       "    <tr>\n",
       "      <th>2</th>\n",
       "      <td>-122.24</td>\n",
       "      <td>37.85</td>\n",
       "      <td>52.0</td>\n",
       "      <td>1467.0</td>\n",
       "      <td>190.0</td>\n",
       "      <td>496.0</td>\n",
       "      <td>177.0</td>\n",
       "      <td>7.2574</td>\n",
       "      <td>352100.0</td>\n",
       "      <td>NEAR BAY</td>\n",
       "    </tr>\n",
       "    <tr>\n",
       "      <th>3</th>\n",
       "      <td>-122.25</td>\n",
       "      <td>37.85</td>\n",
       "      <td>52.0</td>\n",
       "      <td>1274.0</td>\n",
       "      <td>235.0</td>\n",
       "      <td>558.0</td>\n",
       "      <td>219.0</td>\n",
       "      <td>5.6431</td>\n",
       "      <td>341300.0</td>\n",
       "      <td>NEAR BAY</td>\n",
       "    </tr>\n",
       "    <tr>\n",
       "      <th>4</th>\n",
       "      <td>-122.25</td>\n",
       "      <td>37.85</td>\n",
       "      <td>52.0</td>\n",
       "      <td>1627.0</td>\n",
       "      <td>280.0</td>\n",
       "      <td>565.0</td>\n",
       "      <td>259.0</td>\n",
       "      <td>3.8462</td>\n",
       "      <td>342200.0</td>\n",
       "      <td>NEAR BAY</td>\n",
       "    </tr>\n",
       "  </tbody>\n",
       "</table>\n",
       "</div>"
      ],
      "text/plain": [
       "   longitude  latitude  housing_median_age  total_rooms  total_bedrooms  \\\n",
       "0    -122.23     37.88                41.0        880.0           129.0   \n",
       "1    -122.22     37.86                21.0       7099.0          1106.0   \n",
       "2    -122.24     37.85                52.0       1467.0           190.0   \n",
       "3    -122.25     37.85                52.0       1274.0           235.0   \n",
       "4    -122.25     37.85                52.0       1627.0           280.0   \n",
       "\n",
       "   population  households  median_income  median_house_value ocean_proximity  \n",
       "0       322.0       126.0         8.3252            452600.0        NEAR BAY  \n",
       "1      2401.0      1138.0         8.3014            358500.0        NEAR BAY  \n",
       "2       496.0       177.0         7.2574            352100.0        NEAR BAY  \n",
       "3       558.0       219.0         5.6431            341300.0        NEAR BAY  \n",
       "4       565.0       259.0         3.8462            342200.0        NEAR BAY  "
      ]
     },
     "execution_count": 11,
     "metadata": {},
     "output_type": "execute_result"
    }
   ],
   "source": [
    "housing_df_clean = (\n",
    "    housing_df\n",
    "    # while iterating on testing, it's good to copy the dataset(or a subset)\n",
    "    # as the following steps will mutate the input dataframe. The copy should be\n",
    "    # removed in the production code to avoid introducing perf. bottlenecks.\n",
    "    .copy()\n",
    "\n",
    "    # set dtypes : nothing to do here\n",
    "    .passthrough()\n",
    "\n",
    "    .transform_columns(['ocean_proximity'], string_cleaning, elementwise=False)\n",
    "    \n",
    "    .replace({'': np.NaN})\n",
    "    \n",
    "    .clean_names(case_type='snake')\n",
    "    \n",
    ")\n",
    "housing_df_clean.head()"
   ]
  },
  {
   "cell_type": "markdown",
   "metadata": {},
   "source": [
    "### NOTE\n",
    "\n",
    "It's always a good idea to save cleaned tabular data using a storage format that supports the following \n",
    "\n",
    "1. preserves the type information\n",
    "2. language agnostic storage format\n",
    "3. Supports compression\n",
    "4. Supports customizing storage to optimize different data access patterns\n",
    "\n",
    "For larger datasets, the last two points become crucial.\n",
    "\n",
    "`Parquet` is one such file format that is very popular for storing tabular data. It has some nice properties:\n",
    "- Similar to pickles & RDS datasets, but compatible with all languages\n",
    "- Preserves the datatypes\n",
    "- Compresses the data and reduces the filesize\n",
    "- Good library support in Python and other languages\n",
    "- As a columnar storage we can efficiently read fewer columns\n",
    "- It also supports chunking data by groups of columns (for instance, by dates or a particular value of a key column) that makes loading subsets of the data fast."
   ]
  },
  {
   "cell_type": "code",
   "execution_count": 12,
   "metadata": {},
   "outputs": [],
   "source": [
    "save_dataset(context, housing_df_clean, 'cleaned/house')"
   ]
  },
  {
   "cell_type": "code",
   "execution_count": 13,
   "metadata": {},
   "outputs": [
    {
     "name": "stderr",
     "output_type": "stream",
     "text": [
      "tzname OCEAN identified but not understood.  Pass `tzinfos` argument in order to correctly return a timezone-aware datetime.  In a future version, this will raise an exception.\n"
     ]
    },
    {
     "data": {},
     "metadata": {},
     "output_type": "display_data"
    },
    {
     "data": {
      "application/vnd.holoviews_exec.v0+json": "",
      "text/html": [
       "<div id='1001'>\n",
       "\n",
       "\n",
       "\n",
       "\n",
       "\n",
       "  <div class=\"bk-root\" id=\"26c39bf4-aef9-40a2-af20-76bd3950d698\" data-root-id=\"1001\"></div>\n",
       "</div>\n",
       "<script type=\"application/javascript\">(function(root) {\n",
       "  function embed_document(root) {\n",
       "  var docs_json = {\"4521dde5-0a71-4d1c-8463-eb86e6d3c5b9\":{\"roots\":{\"references\":[{\"attributes\":{},\"id\":\"1011\",\"type\":\"StringEditor\"},{\"attributes\":{},\"id\":\"1016\",\"type\":\"StringEditor\"},{\"attributes\":{\"editor\":{\"id\":\"1026\"},\"field\":\"Samples\",\"formatter\":{\"id\":\"1025\"},\"title\":\"Samples\",\"width\":null},\"id\":\"1027\",\"type\":\"TableColumn\"},{\"attributes\":{},\"id\":\"1085\",\"type\":\"StringFormatter\"},{\"attributes\":{\"columns\":[{\"id\":\"1007\"},{\"id\":\"1012\"},{\"id\":\"1017\"},{\"id\":\"1022\"},{\"id\":\"1027\"}],\"editable\":true,\"fit_columns\":true,\"height\":280,\"index_position\":null,\"margin\":[5,10,5,10],\"name\":\"Variable summary\",\"source\":{\"id\":\"1004\"},\"view\":{\"id\":\"1031\"}},\"id\":\"1030\",\"type\":\"DataTable\"},{\"attributes\":{\"editor\":{\"id\":\"1006\"},\"field\":\"index\",\"formatter\":{\"id\":\"1005\"},\"title\":\"index\",\"width\":null},\"id\":\"1007\",\"type\":\"TableColumn\"},{\"attributes\":{\"source\":{\"id\":\"1069\"}},\"id\":\"1101\",\"type\":\"CDSView\"},{\"attributes\":{\"columns\":[{\"id\":\"1072\"},{\"id\":\"1077\"},{\"id\":\"1082\"},{\"id\":\"1087\"},{\"id\":\"1092\"},{\"id\":\"1097\"}],\"editable\":true,\"fit_columns\":true,\"height\":280,\"index_position\":null,\"margin\":[5,10,5,10],\"name\":\"tail\",\"source\":{\"id\":\"1069\"},\"view\":{\"id\":\"1101\"}},\"id\":\"1100\",\"type\":\"DataTable\"},{\"attributes\":{},\"id\":\"1026\",\"type\":\"StringEditor\"},{\"attributes\":{},\"id\":\"1025\",\"type\":\"StringFormatter\"},{\"attributes\":{},\"id\":\"1015\",\"type\":\"StringFormatter\"},{\"attributes\":{},\"id\":\"1081\",\"type\":\"StringEditor\"},{\"attributes\":{},\"id\":\"1021\",\"type\":\"StringEditor\"},{\"attributes\":{},\"id\":\"1061\",\"type\":\"StringEditor\"},{\"attributes\":{},\"id\":\"1060\",\"type\":\"StringFormatter\"},{\"attributes\":{\"editor\":{\"id\":\"1051\"},\"field\":\"2\",\"formatter\":{\"id\":\"1050\"},\"title\":\"2\",\"width\":null},\"id\":\"1052\",\"type\":\"TableColumn\"},{\"attributes\":{\"editor\":{\"id\":\"1016\"},\"field\":\"Datatype\",\"formatter\":{\"id\":\"1015\"},\"title\":\"Datatype\",\"width\":null},\"id\":\"1017\",\"type\":\"TableColumn\"},{\"attributes\":{\"editor\":{\"id\":\"1071\"},\"field\":\"index\",\"formatter\":{\"id\":\"1070\"},\"title\":\"index\",\"width\":null},\"id\":\"1072\",\"type\":\"TableColumn\"},{\"attributes\":{\"editor\":{\"id\":\"1061\"},\"field\":\"4\",\"formatter\":{\"id\":\"1060\"},\"title\":\"4\",\"width\":null},\"id\":\"1062\",\"type\":\"TableColumn\"},{\"attributes\":{\"editor\":{\"id\":\"1056\"},\"field\":\"3\",\"formatter\":{\"id\":\"1055\"},\"title\":\"3\",\"width\":null},\"id\":\"1057\",\"type\":\"TableColumn\"},{\"attributes\":{\"data\":{\"0\":[\"-122.23\",\"37.88\",\"41.0\",\"880.0\",\"129.0\",\"322.0\",\"126.0\",\"8.3252\",\"452600.0\",\"NEAR BAY\"],\"1\":[\"-122.22\",\"37.86\",\"21.0\",\"7099.0\",\"1106.0\",\"2401.0\",\"1138.0\",\"8.3014\",\"358500.0\",\"NEAR BAY\"],\"2\":[\"-122.24\",\"37.85\",\"52.0\",\"1467.0\",\"190.0\",\"496.0\",\"177.0\",\"7.2574\",\"352100.0\",\"NEAR BAY\"],\"3\":[\"-122.25\",\"37.85\",\"52.0\",\"1274.0\",\"235.0\",\"558.0\",\"219.0\",\"5.6431\",\"341300.0\",\"NEAR BAY\"],\"4\":[\"-122.25\",\"37.85\",\"52.0\",\"1627.0\",\"280.0\",\"565.0\",\"259.0\",\"3.8462\",\"342200.0\",\"NEAR BAY\"],\"index\":[\"longitude\",\"latitude\",\"housing_median_age\",\"total_rooms\",\"total_bedrooms\",\"population\",\"households\",\"median_income\",\"median_house_value\",\"ocean_proximity\"]},\"selected\":{\"id\":\"1067\"},\"selection_policy\":{\"id\":\"1106\"}},\"id\":\"1034\",\"type\":\"ColumnDataSource\"},{\"attributes\":{\"editor\":{\"id\":\"1091\"},\"field\":\"20638\",\"formatter\":{\"id\":\"1090\"},\"title\":\"20638\",\"width\":null},\"id\":\"1092\",\"type\":\"TableColumn\"},{\"attributes\":{\"css_classes\":[\"markdown\"],\"margin\":[5,5,5,5],\"name\":\"Summary\",\"text\":\"&lt;p&gt;Length: 20640, Columns: 10&lt;/p&gt;\"},\"id\":\"1002\",\"type\":\"panel.models.markup.HTML\"},{\"attributes\":{\"child\":{\"id\":\"1030\"},\"name\":\"Variable summary\",\"title\":\"Variable summary\"},\"id\":\"1033\",\"type\":\"Panel\"},{\"attributes\":{\"data\":{\"Datatype\":[\"float64\",\"float64\",\"float64\",\"float64\",\"float64\",\"float64\",\"float64\",\"float64\",\"float64\",\"object\"],\"No of Unique\":[\"844\",\"862\",\"52\",\"5926\",\"1923\",\"3888\",\"1815\",\"12928\",\"3842\",\"5\"],\"Samples\":[\"[-122.23, -122.22, -122.24, -122.25, -122.26]\",\"[37.88, 37.86, 37.85, 37.84, 37.83]\",\"[41.0, 21.0, 52.0, 42.0, 50.0]\",\"[880.0, 7099.0, 1467.0, 1274.0, 1627.0]\",\"[129.0, 1106.0, 190.0, 235.0, 280.0]\",\"[322.0, 2401.0, 496.0, 558.0, 565.0]\",\"[126.0, 1138.0, 177.0, 219.0, 259.0]\",\"[8.3252, 8.3014, 7.2574, 5.6431, 3.8462]\",\"[452600.0, 358500.0, 352100.0, 341300.0, 342200.0]\",\"['NEAR BAY', '1H OCEAN', 'INLAND', 'NEAR OCEAN', 'ISLAND']\"],\"Variable Name\":[\"longitude\",\"latitude\",\"housing_median_age\",\"total_rooms\",\"total_bedrooms\",\"population\",\"households\",\"median_income\",\"median_house_value\",\"ocean_proximity\"],\"index\":[\"longitude\",\"latitude\",\"housing_median_age\",\"total_rooms\",\"total_bedrooms\",\"population\",\"households\",\"median_income\",\"median_house_value\",\"ocean_proximity\"]},\"selected\":{\"id\":\"1032\"},\"selection_policy\":{\"id\":\"1104\"}},\"id\":\"1004\",\"type\":\"ColumnDataSource\"},{\"attributes\":{},\"id\":\"1051\",\"type\":\"StringEditor\"},{\"attributes\":{\"editor\":{\"id\":\"1086\"},\"field\":\"20637\",\"formatter\":{\"id\":\"1085\"},\"title\":\"20637\",\"width\":null},\"id\":\"1087\",\"type\":\"TableColumn\"},{\"attributes\":{},\"id\":\"1055\",\"type\":\"StringFormatter\"},{\"attributes\":{},\"id\":\"1050\",\"type\":\"StringFormatter\"},{\"attributes\":{\"margin\":[0,0,0,0],\"tabs\":[{\"id\":\"1003\"},{\"id\":\"1033\"},{\"id\":\"1068\"},{\"id\":\"1103\"}]},\"id\":\"1001\",\"type\":\"Tabs\"},{\"attributes\":{},\"id\":\"1040\",\"type\":\"StringFormatter\"},{\"attributes\":{},\"id\":\"1102\",\"type\":\"Selection\"},{\"attributes\":{},\"id\":\"1056\",\"type\":\"StringEditor\"},{\"attributes\":{\"editor\":{\"id\":\"1096\"},\"field\":\"20639\",\"formatter\":{\"id\":\"1095\"},\"title\":\"20639\",\"width\":null},\"id\":\"1097\",\"type\":\"TableColumn\"},{\"attributes\":{},\"id\":\"1020\",\"type\":\"StringFormatter\"},{\"attributes\":{},\"id\":\"1045\",\"type\":\"StringFormatter\"},{\"attributes\":{\"child\":{\"id\":\"1100\"},\"name\":\"tail\",\"title\":\"tail\"},\"id\":\"1103\",\"type\":\"Panel\"},{\"attributes\":{},\"id\":\"1096\",\"type\":\"StringEditor\"},{\"attributes\":{},\"id\":\"1108\",\"type\":\"UnionRenderers\"},{\"attributes\":{},\"id\":\"1090\",\"type\":\"StringFormatter\"},{\"attributes\":{\"editor\":{\"id\":\"1021\"},\"field\":\"No of Unique\",\"formatter\":{\"id\":\"1020\"},\"title\":\"No of Unique\",\"width\":null},\"id\":\"1022\",\"type\":\"TableColumn\"},{\"attributes\":{\"editor\":{\"id\":\"1011\"},\"field\":\"Variable Name\",\"formatter\":{\"id\":\"1010\"},\"title\":\"Variable Name\",\"width\":null},\"id\":\"1012\",\"type\":\"TableColumn\"},{\"attributes\":{\"editor\":{\"id\":\"1081\"},\"field\":\"20636\",\"formatter\":{\"id\":\"1080\"},\"title\":\"20636\",\"width\":null},\"id\":\"1082\",\"type\":\"TableColumn\"},{\"attributes\":{},\"id\":\"1070\",\"type\":\"StringFormatter\"},{\"attributes\":{},\"id\":\"1104\",\"type\":\"UnionRenderers\"},{\"attributes\":{},\"id\":\"1005\",\"type\":\"StringFormatter\"},{\"attributes\":{},\"id\":\"1076\",\"type\":\"StringEditor\"},{\"attributes\":{},\"id\":\"1046\",\"type\":\"StringEditor\"},{\"attributes\":{},\"id\":\"1080\",\"type\":\"StringFormatter\"},{\"attributes\":{},\"id\":\"1035\",\"type\":\"StringFormatter\"},{\"attributes\":{},\"id\":\"1032\",\"type\":\"Selection\"},{\"attributes\":{},\"id\":\"1086\",\"type\":\"StringEditor\"},{\"attributes\":{},\"id\":\"1091\",\"type\":\"StringEditor\"},{\"attributes\":{\"child\":{\"id\":\"1065\"},\"name\":\"head\",\"title\":\"head\"},\"id\":\"1068\",\"type\":\"Panel\"},{\"attributes\":{\"editor\":{\"id\":\"1036\"},\"field\":\"index\",\"formatter\":{\"id\":\"1035\"},\"title\":\"index\",\"width\":null},\"id\":\"1037\",\"type\":\"TableColumn\"},{\"attributes\":{},\"id\":\"1071\",\"type\":\"StringEditor\"},{\"attributes\":{\"columns\":[{\"id\":\"1037\"},{\"id\":\"1042\"},{\"id\":\"1047\"},{\"id\":\"1052\"},{\"id\":\"1057\"},{\"id\":\"1062\"}],\"editable\":true,\"fit_columns\":true,\"height\":280,\"index_position\":null,\"margin\":[5,10,5,10],\"name\":\"head\",\"source\":{\"id\":\"1034\"},\"view\":{\"id\":\"1066\"}},\"id\":\"1065\",\"type\":\"DataTable\"},{\"attributes\":{\"editor\":{\"id\":\"1076\"},\"field\":\"20635\",\"formatter\":{\"id\":\"1075\"},\"title\":\"20635\",\"width\":null},\"id\":\"1077\",\"type\":\"TableColumn\"},{\"attributes\":{\"source\":{\"id\":\"1034\"}},\"id\":\"1066\",\"type\":\"CDSView\"},{\"attributes\":{},\"id\":\"1075\",\"type\":\"StringFormatter\"},{\"attributes\":{},\"id\":\"1067\",\"type\":\"Selection\"},{\"attributes\":{\"editor\":{\"id\":\"1041\"},\"field\":\"0\",\"formatter\":{\"id\":\"1040\"},\"title\":\"0\",\"width\":null},\"id\":\"1042\",\"type\":\"TableColumn\"},{\"attributes\":{\"data\":{\"20635\":[\"-121.09\",\"39.48\",\"25.0\",\"1665.0\",\"374.0\",\"845.0\",\"330.0\",\"1.5603\",\"78100.0\",\"INLAND\"],\"20636\":[\"-121.21\",\"39.49\",\"18.0\",\"697.0\",\"150.0\",\"356.0\",\"114.0\",\"2.5568\",\"77100.0\",\"INLAND\"],\"20637\":[\"-121.22\",\"39.43\",\"17.0\",\"2254.0\",\"485.0\",\"1007.0\",\"433.0\",\"1.7\",\"92300.0\",\"INLAND\"],\"20638\":[\"-121.32\",\"39.43\",\"18.0\",\"1860.0\",\"409.0\",\"741.0\",\"349.0\",\"1.8672\",\"84700.0\",\"INLAND\"],\"20639\":[\"-121.24\",\"39.37\",\"16.0\",\"2785.0\",\"616.0\",\"1387.0\",\"530.0\",\"2.3886\",\"89400.0\",\"INLAND\"],\"index\":[\"longitude\",\"latitude\",\"housing_median_age\",\"total_rooms\",\"total_bedrooms\",\"population\",\"households\",\"median_income\",\"median_house_value\",\"ocean_proximity\"]},\"selected\":{\"id\":\"1102\"},\"selection_policy\":{\"id\":\"1108\"}},\"id\":\"1069\",\"type\":\"ColumnDataSource\"},{\"attributes\":{},\"id\":\"1095\",\"type\":\"StringFormatter\"},{\"attributes\":{\"client_comm_id\":\"cc831cddcc754edf8066e493c5cc198e\",\"comm_id\":\"35a8bf7284cc4e7faead142c2063535c\",\"plot_id\":\"1001\"},\"id\":\"1122\",\"type\":\"panel.models.comm_manager.CommManager\"},{\"attributes\":{\"editor\":{\"id\":\"1046\"},\"field\":\"1\",\"formatter\":{\"id\":\"1045\"},\"title\":\"1\",\"width\":null},\"id\":\"1047\",\"type\":\"TableColumn\"},{\"attributes\":{},\"id\":\"1041\",\"type\":\"StringEditor\"},{\"attributes\":{\"child\":{\"id\":\"1002\"},\"name\":\"Summary\",\"title\":\"Summary\"},\"id\":\"1003\",\"type\":\"Panel\"},{\"attributes\":{},\"id\":\"1010\",\"type\":\"StringFormatter\"},{\"attributes\":{},\"id\":\"1106\",\"type\":\"UnionRenderers\"},{\"attributes\":{\"source\":{\"id\":\"1004\"}},\"id\":\"1031\",\"type\":\"CDSView\"},{\"attributes\":{},\"id\":\"1036\",\"type\":\"StringEditor\"},{\"attributes\":{},\"id\":\"1006\",\"type\":\"StringEditor\"}],\"root_ids\":[\"1001\",\"1122\"]},\"title\":\"Bokeh Application\",\"version\":\"2.2.3\"}};\n",
       "  var render_items = [{\"docid\":\"4521dde5-0a71-4d1c-8463-eb86e6d3c5b9\",\"root_ids\":[\"1001\"],\"roots\":{\"1001\":\"26c39bf4-aef9-40a2-af20-76bd3950d698\"}}];\n",
       "  root.Bokeh.embed.embed_items_notebook(docs_json, render_items);\n",
       "  }\n",
       "if (root.Bokeh !== undefined) {\n",
       "    embed_document(root);\n",
       "  } else {\n",
       "    var attempts = 0;\n",
       "    var timer = setInterval(function(root) {\n",
       "      if (root.Bokeh !== undefined) {\n",
       "        clearInterval(timer);\n",
       "        embed_document(root);\n",
       "      } else if (document.readyState == \"complete\") {\n",
       "        attempts++;\n",
       "        if (attempts > 100) {\n",
       "          clearInterval(timer);\n",
       "          console.log(\"Bokeh: ERROR: Unable to run BokehJS code because BokehJS library is missing\");\n",
       "        }\n",
       "      }\n",
       "    }, 10, root)\n",
       "  }\n",
       "})(window);</script>"
      ],
      "text/plain": [
       "Tabs\n",
       "    [0] Markdown(str, name='Summary')\n",
       "    [1] DataFrame(name='Variable summary', value=                         V...)\n",
       "    [2] DataFrame(name='head', value=              ...)\n",
       "    [3] DataFrame(name='tail', value=              ...)"
      ]
     },
     "execution_count": 13,
     "metadata": {
      "application/vnd.holoviews_exec.v0+json": {
       "id": "1001"
      }
     },
     "output_type": "execute_result"
    }
   ],
   "source": [
    "# create a sample dataframe with minimal processing\n",
    "\n",
    "housing_df_processed = (\n",
    "    housing_df_clean\n",
    "    \n",
    "    # tweak to test pipeline quickly or profile performance\n",
    "    #.sample(frac=1, replace=False)\n",
    "    \n",
    "    # any additional processing/cleaning\n",
    ")\n",
    "\n",
    "# Any verifications on the data\n",
    "from ta_lib.eda.api import get_variable_summary\n",
    "display_as_tabs([\n",
    "    (\"Summary\", f\"Length: {len(housing_df_clean)}, Columns: {len(housing_df_clean.columns)}\"),\n",
    "    (\"Variable summary\", get_variable_summary(housing_df_clean)),\n",
    "    (\"head\", housing_df_clean.head(5).T),\n",
    "    (\"tail\", housing_df_clean.tail(5).T),\n",
    "])"
   ]
  },
  {
   "cell_type": "code",
   "execution_count": 14,
   "metadata": {},
   "outputs": [],
   "source": [
    "save_dataset(context, housing_df_processed, 'cleaned/house')"
   ]
  },
  {
   "cell_type": "code",
   "execution_count": null,
   "metadata": {},
   "outputs": [],
   "source": []
  },
  {
   "cell_type": "markdown",
   "metadata": {},
   "source": [
    "# 3. Generate Train, Validation and Test datasets\n",
    "\n"
   ]
  },
  {
   "cell_type": "markdown",
   "metadata": {},
   "source": [
    "- We split the data into train, test (optionally, also a validation dataset)\n",
    "- In this example, we are binning the target into 10 quantiles and then use a Stratified Shuffle to split the data.\n",
    "- See sklearn documentation on the various available splitters\n",
    "- https://scikit-learn.org/stable/modules/classes.html#splitter-classes\n",
    "- This will go into production code (training only)"
   ]
  },
  {
   "cell_type": "code",
   "execution_count": 20,
   "metadata": {},
   "outputs": [
    {
     "data": {
      "text/plain": [
       "0    5\n",
       "1    5\n",
       "2    5\n",
       "3    4\n",
       "4    3\n",
       "Name: income_cat, dtype: category\n",
       "Categories (5, int64): [1 < 2 < 3 < 4 < 5]"
      ]
     },
     "execution_count": 20,
     "metadata": {},
     "output_type": "execute_result"
    },
    {
     "data": {
      "image/png": "[encoded data removed]",
      "text/plain": [
       "<Figure size 432x288 with 1 Axes>"
      ]
     },
     "metadata": {
      "needs_background": "light"
     },
     "output_type": "display_data"
    }
   ],
   "source": [
    "import numpy as np\n",
    "housing_df_clean[\"income_cat\"] = pd.cut(housing_df_clean[\"median_income\"],bins=[0., 1.5, 3.0, 4.5, 6., np.inf],labels=[1, 2, 3, 4, 5])\n",
    "housing_df_clean[\"income_cat\"].hist()\n",
    "housing_df_clean[\"income_cat\"].head()"
   ]
  },
  {
   "cell_type": "code",
   "execution_count": 21,
   "metadata": {},
   "outputs": [],
   "source": [
    "from sklearn.model_selection import StratifiedShuffleSplit\n",
    "split = StratifiedShuffleSplit(n_splits=1, test_size=0.2, random_state=42)\n",
    "for train_index, test_index in split.split(housing_df_clean, housing_df_clean[\"income_cat\"]):\n",
    "    housing_df_train = housing_df_clean.loc[train_index]\n",
    "    housing_df_test = housing_df_clean.loc[test_index]"
   ]
  },
  {
   "cell_type": "code",
   "execution_count": null,
   "metadata": {},
   "outputs": [],
   "source": [
    "for set_ in (housing_df_train, housing_df_test):\n",
    "    set_.drop(\"income_cat\", axis=1, inplace=True)"
   ]
  },
  {
   "cell_type": "code",
   "execution_count": 15,
   "metadata": {},
   "outputs": [],
   "source": [
    "from sklearn.model_selection import StratifiedShuffleSplit\n",
    "from ta_lib.core.api import custom_train_test_split  # helper function to customize splitting\n",
    "from scripts import *\n",
    "def binned_median_price(df):\n",
    "    \"\"\"Helper function to use for splitting the data when using Stratified splitter.\n",
    "    \n",
    "    The ``Stratified`` filter does a stratified sampling on categorical data and splits the data such that\n",
    "    each split has a distribution (of the categories) similiar to the original data.\n",
    "    \"\"\"\n",
    "    return pd.qcut(df[\"median_income\"], q=4)\n",
    "housing_df_clean[\"median_house_value\"] = pd.to_numeric(housing_df_clean[\"median_house_value\"])\n",
    "splitter = StratifiedShuffleSplit(n_splits=1, test_size=0.2, random_state=context.random_seed)\n",
    "housing_df_train, housing_df_test = custom_train_test_split(housing_df_clean, splitter, by=binned_median_price)"
   ]
  },
  {
   "cell_type": "code",
   "execution_count": null,
   "metadata": {},
   "outputs": [],
   "source": []
  },
  {
   "cell_type": "code",
   "execution_count": null,
   "metadata": {},
   "outputs": [],
   "source": []
  },
  {
   "cell_type": "code",
   "execution_count": 16,
   "metadata": {},
   "outputs": [],
   "source": [
    "\n",
    "target_col = \"median_house_value\"\n",
    "\n",
    "train_X, train_y = (\n",
    "    housing_df_train\n",
    "    \n",
    "    # split the dataset to train and test\n",
    "    .get_features_targets(target_column_names=target_col)\n",
    ")\n",
    "save_dataset(context, train_X, 'train/house/features')\n",
    "save_dataset(context, train_y, 'train/house/target')\n",
    "\n",
    "\n",
    "test_X, test_y = (\n",
    "    housing_df_test\n",
    "    \n",
    "    # split the dataset to train and test\n",
    "    .get_features_targets(target_column_names=target_col)\n",
    ")\n",
    "save_dataset(context, test_X, 'test/house/features')\n",
    "save_dataset(context, test_y, 'test/house/target')"
   ]
  },
  {
   "cell_type": "code",
   "execution_count": 19,
   "metadata": {},
   "outputs": [
    {
     "name": "stdout",
     "output_type": "stream",
     "text": [
      "13849     74300.0\n",
      "7049     161800.0\n",
      "11726     99300.0\n",
      "12630     78200.0\n",
      "14512    214600.0\n",
      "           ...   \n",
      "17492    342500.0\n",
      "1939     217100.0\n",
      "9264      62300.0\n",
      "10340    290300.0\n",
      "13691     87500.0\n",
      "Name: median_house_value, Length: 16512, dtype: float64\n"
     ]
    }
   ],
   "source": [
    "print(train_y)"
   ]
  },
  {
   "cell_type": "code",
   "execution_count": null,
   "metadata": {},
   "outputs": [],
   "source": []
  }
 ],
 "metadata": {
  "kernelspec": {
   "display_name": "Python 3",
   "language": "python",
   "name": "python3"
  },
  "language_info": {
   "codemirror_mode": {
    "name": "ipython",
    "version": 3
   },
   "file_extension": ".py",
   "mimetype": "text/x-python",
   "name": "python",
   "nbconvert_exporter": "python",
   "pygments_lexer": "ipython3",
   "version": "3.8.11"
  }
 },
 "nbformat": 4,
 "nbformat_minor": 4
}
