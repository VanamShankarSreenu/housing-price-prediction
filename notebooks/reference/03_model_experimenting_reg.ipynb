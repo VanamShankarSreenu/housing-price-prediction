{
 "cells": [
  {
   "cell_type": "markdown",
   "metadata": {},
   "source": [
    "# Purpose"
   ]
  },
  {
   "cell_type": "markdown",
   "metadata": {},
   "source": [
    "This notebook demonstrates the model experimentation and finalization. It covers EDA, outlier treatment, transformation, training, model evaluation and comparison across models."
   ]
  },
  {
   "cell_type": "markdown",
   "metadata": {},
   "source": [
    "## Imports"
   ]
  },
  {
   "cell_type": "code",
   "execution_count": 44,
   "metadata": {},
   "outputs": [],
   "source": [
    "import os\n",
    "import os.path as op\n",
    "import shutil\n",
    "\n",
    "# standard third party imports\n",
    "import numpy as np\n",
    "import pandas as pd\n",
    "from matplotlib import pyplot as plt\n",
    "from sklearn.pipeline import Pipeline\n",
    "from sklearn.feature_selection import SelectFromModel\n",
    "from sklearn.model_selection import GridSearchCV\n",
    "from sklearn.preprocessing import FunctionTransformer\n",
    "from sklearn.compose import ColumnTransformer\n",
    "\n",
    "# impute missing values\n",
    "from sklearn.experimental import enable_iterative_imputer  # noqa\n",
    "from sklearn.impute import KNNImputer, IterativeImputer, SimpleImputer\n",
    "from sklearn.tree import DecisionTreeRegressor\n",
    "from category_encoders import TargetEncoder\n"
   ]
  },
  {
   "cell_type": "code",
   "execution_count": 45,
   "metadata": {},
   "outputs": [
    {
     "name": "stdout",
     "output_type": "stream",
     "text": [
      "The autoreload extension is already loaded. To reload it, use:\n",
      "  %reload_ext autoreload\n"
     ]
    }
   ],
   "source": [
    "%load_ext autoreload\n",
    "%autoreload 2"
   ]
  },
  {
   "cell_type": "code",
   "execution_count": 46,
   "metadata": {},
   "outputs": [],
   "source": [
    "# standard code-template imports\n",
    "from ta_lib.core.api import (\n",
    "    create_context, get_dataframe, get_feature_names_from_column_transformer, string_cleaning,\n",
    "    get_package_path, display_as_tabs, save_pipeline, load_pipeline, initialize_environment,\n",
    "    load_dataset, save_dataset, DEFAULT_ARTIFACTS_PATH\n",
    ")\n",
    "\n",
    "import ta_lib.eda.api as eda\n",
    "from xgboost import XGBRegressor\n",
    "from ta_lib.regression.api import SKLStatsmodelOLS\n",
    "from ta_lib.regression.api import RegressionComparison, RegressionReport\n",
    "import ta_lib.reports.api as reports\n",
    "from ta_lib.data_processing.api import Outlier\n",
    "from ta_lib.core import context\n",
    "\n",
    "initialize_environment(debug=False, hide_warnings=True)"
   ]
  },
  {
   "cell_type": "markdown",
   "metadata": {},
   "source": [
    "# Initialization"
   ]
  },
  {
   "cell_type": "code",
   "execution_count": 47,
   "metadata": {},
   "outputs": [],
   "source": [
    "artifacts_folder = DEFAULT_ARTIFACTS_PATH"
   ]
  },
  {
   "cell_type": "code",
   "execution_count": 48,
   "metadata": {},
   "outputs": [
    {
     "name": "stdout",
     "output_type": "stream",
     "text": [
      "{'learning_rate': 0.1, 'evaluation_metric': 'rmse'}\n"
     ]
    }
   ],
   "source": [
    "config_path = op.join('conf', 'config.yml')\n",
    "context = create_context(config_path)\n",
    "params = context.config[\"job_catalog\"]['jobs'][2]['stages'][0]['tasks'][0]['params']\n",
    "print(params)"
   ]
  },
  {
   "cell_type": "markdown",
   "metadata": {},
   "source": [
    "# 3 Feature Engineering\n",
    "\n",
    "The focus here is the `Pipeline` and not the model. Though the model would inform the pipeline that is needed to train the model, our focus is to set it up in such a way that it can be saved/loaded, tweaked for different model choices and so on."
   ]
  },
  {
   "cell_type": "markdown",
   "metadata": {},
   "source": [
    "## 3.1 Read the Train and Test Data"
   ]
  },
  {
   "cell_type": "code",
   "execution_count": 80,
   "metadata": {},
   "outputs": [
    {
     "name": "stdout",
     "output_type": "stream",
     "text": [
      "(16512, 9) (16512, 1)\n",
      "(4128, 9) (4128, 1)\n"
     ]
    }
   ],
   "source": [
    "train_X = load_dataset(context, 'train/house/features')\n",
    "train_y = load_dataset(context, 'train/house/target')\n",
    "print(train_X.shape, train_y.shape)\n",
    "\n",
    "test_X = load_dataset(context, 'test/house/features')\n",
    "test_y = load_dataset(context, 'test/house/target')\n",
    "print(test_X.shape, test_y.shape)"
   ]
  },
  {
   "cell_type": "markdown",
   "metadata": {},
   "source": [
    "## 3.2 Feature Engineering Pipelines\n"
   ]
  },
  {
   "cell_type": "markdown",
   "metadata": {},
   "source": [
    "**Dev NOTES**\n",
    "\n",
    "For Feature Engineering and Model Building sklearn.pipeline.Pipeline are leveraged because of the following advantages\n",
    "<details>\n",
    "    \n",
    "1. It helps in automating workflows and are easier to read and comprehend.\n",
    "2. Right Sequence can be ensured and (for example always encodes before imputing)\n",
    "3. Reproducibility is very convenient with pipelines\n",
    "4. Pipelines help you prevent data leakage in your test data\n",
    "5. Code is near implementation ready"
   ]
  },
  {
   "cell_type": "markdown",
   "metadata": {},
   "source": [
    "#### General Steps in the Feature Transformation are as follows\n",
    " - Outlier Treatment\n",
    " - Encoding of Categorical Columns\n",
    " - Missing Values Imputation"
   ]
  },
  {
   "cell_type": "markdown",
   "metadata": {},
   "source": [
    "#### Outlier Handling\n",
    "- A Custom Transformer is used to handle outliers. It is not included as part of the pipeline as outliers handling are optional for test data\n",
    "- An option to either drop or cap the outliers can be passed during the transform call\n",
    "- If we want to treat outliers for some columns them we can pass cols argument to the Transformer\n",
    "- This will go into production code"
   ]
  },
  {
   "cell_type": "code",
   "execution_count": 81,
   "metadata": {},
   "outputs": [
    {
     "name": "stdout",
     "output_type": "stream",
     "text": [
      "(16512, 9)\n",
      "(16512, 9)\n"
     ]
    }
   ],
   "source": [
    "outlier_transformer = Outlier(method='mean')\n",
    "print(train_X.shape)\n",
    "train_X = outlier_transformer.fit_transform(train_X)\n",
    "print(train_X.shape)"
   ]
  },
  {
   "cell_type": "markdown",
   "metadata": {},
   "source": [
    "#### Encoding\n"
   ]
  },
  {
   "cell_type": "markdown",
   "metadata": {},
   "source": [
    "Some sample pipelines showcasing how to create column specific pipelines and integrating them overall is presented below\n",
    "\n",
    "- Commonly target encoding is done for categorical variables with too many levels.\n",
    "- We also group sparse levels. For fewer levels one hot encoding/label encoding is preferred.\n",
    "- If there is one dominant level, we can use binary encoding.\n",
    "- This will go into production code"
   ]
  },
  {
   "cell_type": "code",
   "execution_count": 82,
   "metadata": {},
   "outputs": [],
   "source": [
    "from sklearn.pipeline import Pipeline\n",
    "from sklearn.preprocessing import StandardScaler\n",
    "from sklearn.compose import ColumnTransformer\n",
    "from sklearn.impute import SimpleImputer\n",
    "from sklearn.preprocessing import OneHotEncoder\n",
    "from scripts import CombinedAttributesAdder"
   ]
  },
  {
   "cell_type": "code",
   "execution_count": 83,
   "metadata": {},
   "outputs": [],
   "source": [
    "# collecting different types of columns for transformations\n",
    "cat_attrib = train_X.select_dtypes('object').columns\n",
    "num_attrib = train_X.select_dtypes('number').columns\n",
    "\n",
    "num_pipeline = Pipeline([\n",
    "    ('imputer',SimpleImputer(strategy=\"median\")),\n",
    "    ('attribs_adder', CombinedAttributesAdder()),\n",
    "    ('std_scaler',StandardScaler())\n",
    "    ])\n",
    "\n",
    "features_transformer = ColumnTransformer([\n",
    "            ('num',num_pipeline,list(num_attrib)),\n",
    "            (\"cat\",OneHotEncoder(),list(cat_attrib))\n",
    "             ])\n",
    "        \n",
    "train_X= features_transformer.fit_transform(train_X,train_y)\n",
    "extra_attrib = [\"rooms_per_household\",\"population_per_household\",\n",
    "                \"bedrooms_per_room\"]\n",
    "cat_encoder = features_transformer.named_transformers_[\"cat\"]\n",
    "cat_1hot_attrib = list(cat_encoder.categories_[0])\n",
    "att = list(num_attrib)+extra_attrib+cat_1hot_attrib\n",
    "train_X=pd.DataFrame(data=train_X,columns=att)\n",
    "\n",
    "scaler = StandardScaler()\n",
    "train_y=scaler.fit_transform(train_y)\n",
    "train_y=pd.DataFrame(data=train_y,columns=[\"median_house_value\"])"
   ]
  },
  {
   "cell_type": "markdown",
   "metadata": {},
   "source": [
    "**Dev notes(Encoding):**\n",
    "<details>\n",
    "\n",
    "    Some common practices followed in Categorical Feature Encoding are\n",
    "    * For categorical variables with too many levels, target encoding can be done.\n",
    "    * For fewer levels, one hot encoding can be done.\n",
    "    * If one very dominant level is observed, binary encoding can be used.\n",
    "    \n",
    "    \n",
    "</details>"
   ]
  },
  {
   "cell_type": "code",
   "execution_count": 84,
   "metadata": {},
   "outputs": [],
   "source": [
    "test_X = features_transformer.transform(test_X)\n",
    "test_X = pd.DataFrame(data=test_X,columns=att)"
   ]
  },
  {
   "cell_type": "code",
   "execution_count": 85,
   "metadata": {},
   "outputs": [],
   "source": [
    "test_y=scaler.transform(test_y)\n",
    "test_y=pd.DataFrame(data=test_y,columns=[\"median_house_value\"])"
   ]
  },
  {
   "cell_type": "markdown",
   "metadata": {},
   "source": [
    "## 3.2 Feature analysis\n",
    "\n",
    "Using the pipeline above analyze the features and decide on additional features to add/remove from the pipeline. This section will not be part of the production code, unless input data drifts etc. are explicitly demanded in the project.\n",
    "\n",
    "Here we are primarily focused on feature selection/elimination based on business rules, prior knowledge, data analysis.\n",
    "\n",
    "**We are not building any models at this point.**\n"
   ]
  },
  {
   "cell_type": "markdown",
   "metadata": {},
   "source": [
    "- we create some sample data to analyze that we assume represent the population\n",
    "- train the features transformer and do the analysis as below"
   ]
  },
  {
   "cell_type": "markdown",
   "metadata": {},
   "source": [
    "Running the features transformer on the complete data"
   ]
  },
  {
   "cell_type": "markdown",
   "metadata": {},
   "source": [
    "### 3.2.1 Univariate\n",
    "\n",
    "\n",
    "- Look at each variable independently. This is useful if your models have assumptions on the distribution and/or bounds on the features/target"
   ]
  },
  {
   "cell_type": "code",
   "execution_count": 86,
   "metadata": {},
   "outputs": [
    {
     "data": {},
     "metadata": {},
     "output_type": "display_data"
    },
    {
     "data": {
      "application/vnd.holoviews_exec.v0+json": "",
      "text/html": [
       "<div id='102011'>\n",
       "\n",
       "\n",
       "\n",
       "\n",
       "\n",
       "  <div class=\"bk-root\" id=\"1a148b52-198e-4c1f-b35a-6f345a1ca877\" data-root-id=\"102011\"></div>\n",
       "</div>\n",
       "<script type=\"application/javascript\">(function(root) {\n",
       "  function embed_document(root) {\n",
       "  var docs_json = {\"266dda2a-b959-4f68-be93-a053507bfc68\":{\"roots\":{\"references\":[{\"attributes\":{\"children\":[{\"id\":\"102012\"},{\"id\":\"102214\"},{\"id\":\"102341\"}],\"margin\":[0,0,0,0],\"name\":\"Row265713\",\"tags\":[\"embedded\"]},\"id\":\"102011\",\"type\":\"Row\"},{\"attributes\":{},\"id\":\"102035\",\"type\":\"WheelZoomTool\"},{\"attributes\":{\"children\":[[{\"id\":\"102016\"},0,0],[{\"id\":\"102194\"},1,0]]},\"id\":\"102211\",\"type\":\"GridBox\"},{\"attributes\":{},\"id\":\"102021\",\"type\":\"LinearScale\"},{\"attributes\":{\"data\":{\"x\":{\"__ndarray__\":\"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\",\"dtype\":\"float64\",\"order\":\"little\",\"shape\":[200]},\"y\":{\"__ndarray__\":\"AAAAAAAAAAAAAAAAAAAAAAAAAAAAAAAAAAAAAAAAAAAAAAAAAAAAAAAAAAAAAAAAAAAAAAAAAAAAAAAAAAAAAAAAAAAAAAAAAAAAAAAAAAAAAAAAAAAAAAAAAAAAAAAAAAAAAAAAAAAAAAAAAAAAAAAAAAAAAAAAAAAAAAAAAAAAAAAAAAAAAAAAAAAAAAAAAAAAAAAAAAAAAAAAAAAAAAAAAAAAAAAAAAAAAAAAAAAAAAAAAAAAAAAAAAAAAAAAAAAAAAAAAAAAAAAAAAAAAAAAAAAAAAAAAAAAAAAAAAAAAAAAAAAAAAAAAAAAAAAAAAAAAAAAAAAAAAAAAAAAAAAAAAAAAAAAAAAAAAAAAAAAAAAAAAAAAAAAAAAAAAAAAAAAAAAAAAAAAAAAAAAAAAAAAAAAAAAAAAAAAAAAAAAAAAAAAAAAAAAAAAAAAAAAAAAAAAAAAAAAAAAAAAAAAAAAAAAAAAAAAAAAAAAAAAAAAAAAAAAAAAAAAAAAAAAAAAAAAAAAAAAAAAAAAAAAAAAAAAAAAAAAAAAAAAAAAAAAAAAAAAAAAAAAAAAAAAAAAAAAAAAAAAAAAAAAAAAAAAAAAAAAAAAAAAAAAAAAAAAAAAAAAAAAAAAAAAAAAAAAAAAAAAAAAAAAAAAAAAAAAAAAAAAAAAAAAAAAAAAAAAAAAAAAAAAAAAAAAAAAAAAAAAAAAAAAAAAAAAAAAAAAAAAAAAAAAAAAAAAAAAAAAAAAAAAAAAAAAAAAAAAAAAAAAAAAAAAAAAAAAAAAAAAAAAAAAAAAAAAAAAAAAAAAAAAAAAAAAAAAAAAAAAAAAAAAAAAAAAAAAAAAAAAAAAAAAAAAAAAAAAAAAAAAAAAAAAAAAAAAAAAAAAAAAAAAAAAAAAAAAAAAAAAAAAAAAAAAAAAAAAAAAAAAAAAAAAAAAAAAAAAAAAAAAAAAAAAAAAAAAAAAAAAAAAAAAAAAAAAAAAAAAAAAAAAAAAAAAAAAAAAAAAAAAAAAAAAAAAAAAAAAAAAAAAAAAAAAAAAAAAAAAAAAAAAAAAAAAAAAAAAAAABUjnXHi7JBP8G8pTqF7Fw/nfV/FPTCcz8ja12m4ZWGP8vi8OqVmpU/Pzn5dIFQoT9Ic8+v/0ynPwYs51eWbao/F81u5qp2qT8JYNfqujKlP8W5Wr1Ep58/jxyrs8/clj/NGskH/emRP7n8712fg5A/K+A3bzhskT97+zaVoHuTPxtF4aS8+5U/5xFPTo6YmD9LzcHNyjebP3ZmYy8G2p0/2RE1t+JAoD8MITTVuY6hPwB+DWZ3wKI/VASHmM27oz+dX/7ZaXGkP7u+5BXi56Q/PZBiQfc9pT+oM8JiwqalPxH6j0UpY6Y/0agFMxa4pz/ry/SlOd2pP3qnkT5L5Kw/+AZSmbpTsD8H4OY8rmqyPxWUOuunjrQ/tIBSBq+ttj8NKlIS68y4P61DYYWH8Lo/JqwixXkDvT/swuUJeeC+PyktiPm4PsA/DI5aipsGwT8TfgyYF/bBP+TOiwsNM8M/nJMV/IjGxD/Ey63ad57GPyquGIdemMg/woW1J9yHyj9XtKkSX0DMPzBewFN1q80/JlkYeNHczj+kb726LgXQPyXkVu9ltdA/zDS/iDSO0T+ObvgGOZTSP9dAwDXHxtM/lyJkicAa1T8xm4SuHXLWP9Kj4sRipNc/2Bmcv8SY2D+ZvsMI+VbZPyJQYct0+tk/dEwpJqWY2j9LGRjZmjjbPxziiTs83Ns/dpwb8rWA3D8QT/ChFBHdP9R1w6KVZ90/GU4tTFds3T+/2vSMdTHdP0Aw5AFH5dw/h8wWQ1Gl3D8azTxvSWTcP7OjhrMm/Ns/trvdLPlP2z8Xv8NSAVjaPybNxDEfGNk/LkH71lCY1z+aKDKb6eXVPw8Gx6jQENQ/J+Y3K+kh0j95ZaHYkxjQP5mg3Zsf7Ms/BU17+BGTxz+TAcb3GlzDP6/Ys9q89r4/THXLhlEguD9vBIUx4UqyP3PY8mBg7Ko/KBWbpTQuoz/sdchvJmSaP17WN7vjeJE/IA8FaxEchj8saRfYQ2d6PweUmMfANm0/56VNTYlPXT/RpUXv4h1KPyFgQafuTjQ/9/s7wQEzGz8Lg4BNlxP/Pg==\",\"dtype\":\"float64\",\"order\":\"little\",\"shape\":[200]}},\"selected\":{\"id\":\"102059\"},\"selection_policy\":{\"id\":\"102078\"}},\"id\":\"102058\",\"type\":\"ColumnDataSource\"},{\"attributes\":{},\"id\":\"102180\",\"type\":\"NumberEditor\"},{\"attributes\":{\"align\":null,\"below\":[{\"id\":\"102025\"}],\"center\":[{\"id\":\"102028\"},{\"id\":\"102032\"}],\"extra_y_ranges\":{\"twiny\":{\"id\":\"102066\"}},\"left\":[{\"id\":\"102029\"}],\"margin\":null,\"min_border_bottom\":10,\"min_border_left\":10,\"min_border_right\":10,\"min_border_top\":10,\"plot_height\":300,\"renderers\":[{\"id\":\"102056\"},{\"id\":\"102064\"}],\"right\":[{\"id\":\"102067\"}],\"sizing_mode\":\"fixed\",\"title\":{\"id\":\"102017\"},\"toolbar\":{\"id\":\"102039\"},\"toolbar_location\":null,\"x_range\":{\"id\":\"102013\"},\"x_scale\":{\"id\":\"102021\"},\"y_range\":{\"id\":\"102014\"},\"y_scale\":{\"id\":\"102023\"}},\"id\":\"102016\",\"subtype\":\"Figure\",\"type\":\"Plot\"},{\"attributes\":{},\"id\":\"102033\",\"type\":\"SaveTool\"},{\"attributes\":{\"axis_label\":\"Frequency\",\"bounds\":\"auto\",\"formatter\":{\"id\":\"102049\"},\"major_label_orientation\":\"horizontal\",\"ticker\":{\"id\":\"102030\"}},\"id\":\"102029\",\"type\":\"LinearAxis\"},{\"attributes\":{},\"id\":\"102153\",\"type\":\"Selection\"},{\"attributes\":{},\"id\":\"102209\",\"type\":\"UnionRenderers\"},{\"attributes\":{\"callback\":null,\"renderers\":[{\"id\":\"102064\"}],\"tags\":[\"hv_created\"],\"tooltips\":[[\"median_income\",\"@{median_income}\"],[\"Density\",\"@{median_income_density}\"]]},\"id\":\"102015\",\"type\":\"HoverTool\"},{\"attributes\":{\"data\":{\"left\":{\"__ndarray__\":\"xJA6KpVN/r8QIe1gOC36v1yxn5fbDPa/qEFSzn7s8b/oowkKRJjrv4DEbneKV+O/MMqnyaEt1r+ALciRurC2v+BmhwGJqsU/QHL5pbdW2z+ImJdlFezlP/B3MvjOLO4/rKtmRcQ28z9gG7QOIVf3PxSLAdh9d/s/yPpOodqX/z8+NU61G9wBQBjt9BlK7ANA8qSbfnj8BUDMXELjpgwIQA==\",\"dtype\":\"float64\",\"order\":\"little\",\"shape\":[20]},\"right\":{\"__ndarray__\":\"ECHtYDgt+r9csZ+X2wz2v6hBUs5+7PG/6KMJCkSY67+AxG53ilfjvzDKp8mhLda/gC3Ikbqwtr/gZocBiarFP0By+aW3Vts/iJiXZRXs5T/wdzL4zizuP6yrZkXENvM/YBu0DiFX9z8UiwHYfXf7P8j6TqHal/8/PjVOtRvcAUAY7fQZSuwDQPKkm354/AVAzFxC46YMCEClFOlH1RwKQA==\",\"dtype\":\"float64\",\"order\":\"little\",\"shape\":[20]},\"top\":[102,409,1034,1597,1936,1986,1838,1700,1366,1059,921,633,535,368,212,164,163,107,61,321]},\"selected\":{\"id\":\"102051\"},\"selection_policy\":{\"id\":\"102076\"}},\"id\":\"102050\",\"type\":\"ColumnDataSource\"},{\"attributes\":{\"end\":2005.8600000000001,\"reset_end\":2184.5999970363114,\"reset_start\":0.0,\"tags\":[[[\"Frequency\",\"Frequency\",null]]]},\"id\":\"102014\",\"type\":\"Range1d\"},{\"attributes\":{\"bottom\":{\"value\":0},\"fill_color\":{\"value\":\"#00fff0\"},\"left\":{\"field\":\"left\"},\"right\":{\"field\":\"right\"},\"top\":{\"field\":\"top\"}},\"id\":\"102053\",\"type\":\"Quad\"},{\"attributes\":{},\"id\":\"102175\",\"type\":\"NumberEditor\"},{\"attributes\":{},\"id\":\"102076\",\"type\":\"UnionRenderers\"},{\"attributes\":{\"format\":\"0,0.0[00000]\"},\"id\":\"102189\",\"type\":\"NumberFormatter\"},{\"attributes\":{\"fill_alpha\":0.5,\"fill_color\":\"#1f77b3\",\"line_alpha\":1,\"x\":{\"field\":\"x\"},\"y\":{\"field\":\"y\"}},\"id\":\"102062\",\"type\":\"Patch\"},{\"attributes\":{\"bottom\":{\"value\":0},\"fill_alpha\":{\"value\":0.2},\"fill_color\":{\"value\":\"#00fff0\"},\"left\":{\"field\":\"left\"},\"line_alpha\":{\"value\":0.2},\"right\":{\"field\":\"right\"},\"top\":{\"field\":\"top\"}},\"id\":\"102055\",\"type\":\"Quad\"},{\"attributes\":{\"end\":0.46433498633908354},\"id\":\"102066\",\"type\":\"Range1d\"},{\"attributes\":{\"axis\":{\"id\":\"102025\"},\"grid_line_color\":null,\"ticker\":null},\"id\":\"102028\",\"type\":\"Grid\"},{\"attributes\":{\"format\":\"0,0.0[00000]\"},\"id\":\"102179\",\"type\":\"NumberFormatter\"},{\"attributes\":{\"axis\":{\"id\":\"102029\"},\"dimension\":1,\"grid_line_color\":null,\"ticker\":null},\"id\":\"102032\",\"type\":\"Grid\"},{\"attributes\":{},\"id\":\"102165\",\"type\":\"NumberEditor\"},{\"attributes\":{\"data_source\":{\"id\":\"102050\"},\"glyph\":{\"id\":\"102053\"},\"hover_glyph\":null,\"muted_glyph\":{\"id\":\"102055\"},\"nonselection_glyph\":{\"id\":\"102054\"},\"selection_glyph\":null,\"view\":{\"id\":\"102057\"}},\"id\":\"102056\",\"type\":\"GlyphRenderer\"},{\"attributes\":{\"margin\":[5,5,5,5],\"name\":\"HSpacer265717\",\"sizing_mode\":\"stretch_width\"},\"id\":\"102012\",\"type\":\"Spacer\"},{\"attributes\":{\"source\":{\"id\":\"102058\"}},\"id\":\"102065\",\"type\":\"CDSView\"},{\"attributes\":{\"editor\":{\"id\":\"102190\"},\"field\":\"max\",\"formatter\":{\"id\":\"102189\"},\"title\":\"max\"},\"id\":\"102191\",\"type\":\"TableColumn\"},{\"attributes\":{\"format\":\"0,0.0[00000]\"},\"id\":\"102174\",\"type\":\"NumberFormatter\"},{\"attributes\":{\"text\":\"Density Plot for median_income\",\"text_color\":{\"value\":\"black\"},\"text_font_size\":{\"value\":\"12pt\"}},\"id\":\"102017\",\"type\":\"Title\"},{\"attributes\":{},\"id\":\"102170\",\"type\":\"NumberEditor\"},{\"attributes\":{\"toolbars\":[{\"id\":\"102039\"}],\"tools\":[{\"id\":\"102015\"},{\"id\":\"102033\"},{\"id\":\"102034\"},{\"id\":\"102035\"},{\"id\":\"102036\"},{\"id\":\"102037\"}]},\"id\":\"102212\",\"type\":\"ProxyToolbar\"},{\"attributes\":{},\"id\":\"102023\",\"type\":\"LinearScale\"},{\"attributes\":{\"fill_alpha\":0.2,\"fill_color\":\"#1f77b3\",\"line_alpha\":0.2,\"x\":{\"field\":\"x\"},\"y\":{\"field\":\"y\"}},\"id\":\"102063\",\"type\":\"Patch\"},{\"attributes\":{},\"id\":\"102185\",\"type\":\"NumberEditor\"},{\"attributes\":{},\"id\":\"102160\",\"type\":\"NumberEditor\"},{\"attributes\":{\"bottom\":{\"value\":0},\"fill_alpha\":{\"value\":0.1},\"fill_color\":{\"value\":\"#00fff0\"},\"left\":{\"field\":\"left\"},\"line_alpha\":{\"value\":0.1},\"right\":{\"field\":\"right\"},\"top\":{\"field\":\"top\"}},\"id\":\"102054\",\"type\":\"Quad\"},{\"attributes\":{\"columns\":[{\"id\":\"102156\"},{\"id\":\"102161\"},{\"id\":\"102166\"},{\"id\":\"102171\"},{\"id\":\"102176\"},{\"id\":\"102181\"},{\"id\":\"102186\"},{\"id\":\"102191\"}],\"height\":60,\"reorderable\":false,\"source\":{\"id\":\"102152\"},\"view\":{\"id\":\"102195\"}},\"id\":\"102194\",\"type\":\"DataTable\"},{\"attributes\":{\"format\":\"0,0.0[00000]\"},\"id\":\"102184\",\"type\":\"NumberFormatter\"},{\"attributes\":{\"end\":3.995095140794961,\"reset_end\":3.995095140794961,\"reset_start\":-2.6249575476739873,\"start\":-2.6249575476739873,\"tags\":[[[\"x\",\"x\",null]]]},\"id\":\"102013\",\"type\":\"Range1d\"},{\"attributes\":{\"overlay\":{\"id\":\"102038\"}},\"id\":\"102036\",\"type\":\"BoxZoomTool\"},{\"attributes\":{\"margin\":[5,5,5,5],\"name\":\"HSpacer265718\",\"sizing_mode\":\"stretch_width\"},\"id\":\"102341\",\"type\":\"Spacer\"},{\"attributes\":{\"axis_label\":\"median_income\",\"bounds\":\"auto\",\"formatter\":{\"id\":\"102047\"},\"major_label_orientation\":\"horizontal\",\"ticker\":{\"id\":\"102026\"}},\"id\":\"102025\",\"type\":\"LinearAxis\"},{\"attributes\":{},\"id\":\"102049\",\"type\":\"BasicTickFormatter\"},{\"attributes\":{\"editor\":{\"id\":\"102180\"},\"field\":\"A_50_percent\",\"formatter\":{\"id\":\"102179\"},\"title\":\"50%\"},\"id\":\"102181\",\"type\":\"TableColumn\"},{\"attributes\":{},\"id\":\"102047\",\"type\":\"BasicTickFormatter\"},{\"attributes\":{},\"id\":\"102030\",\"type\":\"BasicTicker\"},{\"attributes\":{\"data\":{\"A_25_percent\":{\"__ndarray__\":\"CtejcD0K578=\",\"dtype\":\"float64\",\"order\":\"little\",\"shape\":[1]},\"A_50_percent\":{\"__ndarray__\":\"w/UoXI/Cxb8=\",\"dtype\":\"float64\",\"order\":\"little\",\"shape\":[1]},\"A_75_percent\":{\"__ndarray__\":\"UrgehetR4D8=\",\"dtype\":\"float64\",\"order\":\"little\",\"shape\":[1]},\"count\":{\"__ndarray__\":\"AAAAAAAg0EA=\",\"dtype\":\"float64\",\"order\":\"little\",\"shape\":[1]},\"max\":{\"__ndarray__\":\"FK5H4XoUCkA=\",\"dtype\":\"float64\",\"order\":\"little\",\"shape\":[1]},\"mean\":{\"__ndarray__\":\"AAAAAAAAAIA=\",\"dtype\":\"float64\",\"order\":\"little\",\"shape\":[1]},\"min\":{\"__ndarray__\":\"PQrXo3A9/r8=\",\"dtype\":\"float64\",\"order\":\"little\",\"shape\":[1]},\"std\":{\"__ndarray__\":\"AAAAAAAA8D8=\",\"dtype\":\"float64\",\"order\":\"little\",\"shape\":[1]}},\"selected\":{\"id\":\"102153\"},\"selection_policy\":{\"id\":\"102209\"}},\"id\":\"102152\",\"type\":\"ColumnDataSource\"},{\"attributes\":{\"bottom_units\":\"screen\",\"fill_alpha\":0.5,\"fill_color\":\"lightgrey\",\"left_units\":\"screen\",\"level\":\"overlay\",\"line_alpha\":1.0,\"line_color\":\"black\",\"line_dash\":[4,4],\"line_width\":2,\"right_units\":\"screen\",\"top_units\":\"screen\"},\"id\":\"102038\",\"type\":\"BoxAnnotation\"},{\"attributes\":{},\"id\":\"102190\",\"type\":\"NumberEditor\"},{\"attributes\":{\"editor\":{\"id\":\"102155\"},\"field\":\"count\",\"formatter\":{\"id\":\"102154\"},\"title\":\"count\"},\"id\":\"102156\",\"type\":\"TableColumn\"},{\"attributes\":{\"format\":\"0,0.0[00000]\"},\"id\":\"102169\",\"type\":\"NumberFormatter\"},{\"attributes\":{},\"id\":\"102155\",\"type\":\"NumberEditor\"},{\"attributes\":{},\"id\":\"102078\",\"type\":\"UnionRenderers\"},{\"attributes\":{\"format\":\"0,0.0[00000]\"},\"id\":\"102164\",\"type\":\"NumberFormatter\"},{\"attributes\":{\"fill_alpha\":0.5,\"fill_color\":\"#1f77b3\",\"x\":{\"field\":\"x\"},\"y\":{\"field\":\"y\"}},\"id\":\"102061\",\"type\":\"Patch\"},{\"attributes\":{\"editor\":{\"id\":\"102175\"},\"field\":\"A_25_percent\",\"formatter\":{\"id\":\"102174\"},\"title\":\"25%\"},\"id\":\"102176\",\"type\":\"TableColumn\"},{\"attributes\":{\"source\":{\"id\":\"102050\"}},\"id\":\"102057\",\"type\":\"CDSView\"},{\"attributes\":{\"source\":{\"id\":\"102152\"}},\"id\":\"102195\",\"type\":\"CDSView\"},{\"attributes\":{\"editor\":{\"id\":\"102160\"},\"field\":\"mean\",\"formatter\":{\"id\":\"102159\"},\"title\":\"mean\"},\"id\":\"102161\",\"type\":\"TableColumn\"},{\"attributes\":{\"editor\":{\"id\":\"102170\"},\"field\":\"min\",\"formatter\":{\"id\":\"102169\"},\"title\":\"min\"},\"id\":\"102171\",\"type\":\"TableColumn\"},{\"attributes\":{\"format\":\"0,0.0[00000]\"},\"id\":\"102159\",\"type\":\"NumberFormatter\"},{\"attributes\":{},\"id\":\"102051\",\"type\":\"Selection\"},{\"attributes\":{\"editor\":{\"id\":\"102185\"},\"field\":\"A_75_percent\",\"formatter\":{\"id\":\"102184\"},\"title\":\"75%\"},\"id\":\"102186\",\"type\":\"TableColumn\"},{\"attributes\":{},\"id\":\"102074\",\"type\":\"BasicTickFormatter\"},{\"attributes\":{\"format\":\"0,0.0[00000]\"},\"id\":\"102154\",\"type\":\"NumberFormatter\"},{\"attributes\":{\"children\":[{\"id\":\"102213\"},{\"id\":\"102211\"}]},\"id\":\"102214\",\"type\":\"Column\"},{\"attributes\":{},\"id\":\"102059\",\"type\":\"Selection\"},{\"attributes\":{},\"id\":\"102073\",\"type\":\"BasicTicker\"},{\"attributes\":{},\"id\":\"102037\",\"type\":\"ResetTool\"},{\"attributes\":{},\"id\":\"102026\",\"type\":\"BasicTicker\"},{\"attributes\":{\"active_drag\":\"auto\",\"active_inspect\":\"auto\",\"active_multi\":null,\"active_scroll\":\"auto\",\"active_tap\":\"auto\",\"tools\":[{\"id\":\"102015\"},{\"id\":\"102033\"},{\"id\":\"102034\"},{\"id\":\"102035\"},{\"id\":\"102036\"},{\"id\":\"102037\"}]},\"id\":\"102039\",\"type\":\"Toolbar\"},{\"attributes\":{\"toolbar\":{\"id\":\"102212\"},\"toolbar_location\":\"above\"},\"id\":\"102213\",\"type\":\"ToolbarBox\"},{\"attributes\":{\"editor\":{\"id\":\"102165\"},\"field\":\"std\",\"formatter\":{\"id\":\"102164\"},\"title\":\"std\"},\"id\":\"102166\",\"type\":\"TableColumn\"},{\"attributes\":{},\"id\":\"102034\",\"type\":\"PanTool\"},{\"attributes\":{\"data_source\":{\"id\":\"102058\"},\"glyph\":{\"id\":\"102061\"},\"hover_glyph\":null,\"muted_glyph\":{\"id\":\"102063\"},\"nonselection_glyph\":{\"id\":\"102062\"},\"selection_glyph\":null,\"view\":{\"id\":\"102065\"},\"y_range_name\":\"twiny\"},\"id\":\"102064\",\"type\":\"GlyphRenderer\"},{\"attributes\":{\"axis_label\":\"y, median_income_density\",\"formatter\":{\"id\":\"102074\"},\"ticker\":{\"id\":\"102073\"},\"y_range_name\":\"twiny\"},\"id\":\"102067\",\"type\":\"LinearAxis\"}],\"root_ids\":[\"102011\"]},\"title\":\"Bokeh Application\",\"version\":\"2.2.3\"}};\n",
       "  var render_items = [{\"docid\":\"266dda2a-b959-4f68-be93-a053507bfc68\",\"root_ids\":[\"102011\"],\"roots\":{\"102011\":\"1a148b52-198e-4c1f-b35a-6f345a1ca877\"}}];\n",
       "  root.Bokeh.embed.embed_items_notebook(docs_json, render_items);\n",
       "  }\n",
       "if (root.Bokeh !== undefined) {\n",
       "    embed_document(root);\n",
       "  } else {\n",
       "    var attempts = 0;\n",
       "    var timer = setInterval(function(root) {\n",
       "      if (root.Bokeh !== undefined) {\n",
       "        clearInterval(timer);\n",
       "        embed_document(root);\n",
       "      } else if (document.readyState == \"complete\") {\n",
       "        attempts++;\n",
       "        if (attempts > 100) {\n",
       "          clearInterval(timer);\n",
       "          console.log(\"Bokeh: ERROR: Unable to run BokehJS code because BokehJS library is missing\");\n",
       "        }\n",
       "      }\n",
       "    }, 10, root)\n",
       "  }\n",
       "})(window);</script>"
      ],
      "text/plain": [
       ":Layout\n",
       "   .Overlay.I :Overlay\n",
       "      .Histogram.I    :Histogram   [x]   (Frequency)\n",
       "      .Distribution.I :Distribution   [median_income]   (Density)\n",
       "   .Table.I   :Table   [count,mean,std,min,25%,50%,75%,max]"
      ]
     },
     "execution_count": 86,
     "metadata": {
      "application/vnd.holoviews_exec.v0+json": {
       "id": "102011"
      }
     },
     "output_type": "execute_result"
    }
   ],
   "source": [
    "out = eda.get_density_plots(train_X, cols=['median_house_value', 'median_income'])\n",
    "out"
   ]
  },
  {
   "cell_type": "code",
   "execution_count": 87,
   "metadata": {},
   "outputs": [],
   "source": [
    "# save the plots are html\n",
    "reports.create_report({'univariate': out}, name='feature_analysis_univariate')"
   ]
  },
  {
   "cell_type": "markdown",
   "metadata": {},
   "source": [
    "A report containing the above plot is available [here](https://drive.google.com/file/d/1oqlhJ_GifdEXOT0mOqnGoOIwBt1e5jd2/view?usp=sharing)\n"
   ]
  },
  {
   "cell_type": "markdown",
   "metadata": {},
   "source": [
    "Alternatively, the above plots can be generated as a single html as below. The output from this is available [here](https://drive.google.com/file/d/1mWvPLC2eAEIfNqIYDKpWuAwP6kInkMbw/view?usp=sharing)"
   ]
  },
  {
   "cell_type": "code",
   "execution_count": 88,
   "metadata": {},
   "outputs": [
    {
     "name": "stderr",
     "output_type": "stream",
     "text": [
      "p-value may not be accurate for N > 5000.\n"
     ]
    }
   ],
   "source": [
    "reports.feature_analysis(train_X,'./feature_analysis_report.html')"
   ]
  },
  {
   "cell_type": "markdown",
   "metadata": {},
   "source": [
    "### 3.2.2 Bivariate - mutual interactions"
   ]
  },
  {
   "cell_type": "markdown",
   "metadata": {},
   "source": [
    "- Find columns with high correlations and drop them"
   ]
  },
  {
   "cell_type": "code",
   "execution_count": 89,
   "metadata": {},
   "outputs": [
    {
     "data": {
      "text/html": [
       "<div>\n",
       "<style scoped>\n",
       "    .dataframe tbody tr th:only-of-type {\n",
       "        vertical-align: middle;\n",
       "    }\n",
       "\n",
       "    .dataframe tbody tr th {\n",
       "        vertical-align: top;\n",
       "    }\n",
       "\n",
       "    .dataframe thead th {\n",
       "        text-align: right;\n",
       "    }\n",
       "</style>\n",
       "<table border=\"1\" class=\"dataframe\">\n",
       "  <thead>\n",
       "    <tr style=\"text-align: right;\">\n",
       "      <th></th>\n",
       "      <th>Variable 1</th>\n",
       "      <th>Variable 2</th>\n",
       "      <th>Corr Coef</th>\n",
       "      <th>Abs Corr Coef</th>\n",
       "    </tr>\n",
       "  </thead>\n",
       "  <tbody>\n",
       "    <tr>\n",
       "      <th>0</th>\n",
       "      <td>households</td>\n",
       "      <td>total_bedrooms</td>\n",
       "      <td>0.973096</td>\n",
       "      <td>0.973096</td>\n",
       "    </tr>\n",
       "    <tr>\n",
       "      <th>1</th>\n",
       "      <td>latitude</td>\n",
       "      <td>longitude</td>\n",
       "      <td>-0.923566</td>\n",
       "      <td>0.923566</td>\n",
       "    </tr>\n",
       "    <tr>\n",
       "      <th>2</th>\n",
       "      <td>total_bedrooms</td>\n",
       "      <td>total_rooms</td>\n",
       "      <td>0.919360</td>\n",
       "      <td>0.919360</td>\n",
       "    </tr>\n",
       "    <tr>\n",
       "      <th>3</th>\n",
       "      <td>households</td>\n",
       "      <td>total_rooms</td>\n",
       "      <td>0.913811</td>\n",
       "      <td>0.913811</td>\n",
       "    </tr>\n",
       "    <tr>\n",
       "      <th>4</th>\n",
       "      <td>households</td>\n",
       "      <td>population</td>\n",
       "      <td>0.908919</td>\n",
       "      <td>0.908919</td>\n",
       "    </tr>\n",
       "    <tr>\n",
       "      <th>5</th>\n",
       "      <td>population</td>\n",
       "      <td>total_bedrooms</td>\n",
       "      <td>0.873188</td>\n",
       "      <td>0.873188</td>\n",
       "    </tr>\n",
       "    <tr>\n",
       "      <th>6</th>\n",
       "      <td>population</td>\n",
       "      <td>total_rooms</td>\n",
       "      <td>0.845597</td>\n",
       "      <td>0.845597</td>\n",
       "    </tr>\n",
       "    <tr>\n",
       "      <th>7</th>\n",
       "      <td>1H OCEAN</td>\n",
       "      <td>INLAND</td>\n",
       "      <td>-0.606608</td>\n",
       "      <td>0.606608</td>\n",
       "    </tr>\n",
       "  </tbody>\n",
       "</table>\n",
       "</div>"
      ],
      "text/plain": [
       "       Variable 1      Variable 2  Corr Coef  Abs Corr Coef\n",
       "0      households  total_bedrooms   0.973096       0.973096\n",
       "1        latitude       longitude  -0.923566       0.923566\n",
       "2  total_bedrooms     total_rooms   0.919360       0.919360\n",
       "3      households     total_rooms   0.913811       0.913811\n",
       "4      households      population   0.908919       0.908919\n",
       "5      population  total_bedrooms   0.873188       0.873188\n",
       "6      population     total_rooms   0.845597       0.845597\n",
       "7        1H OCEAN          INLAND  -0.606608       0.606608"
      ]
     },
     "execution_count": 89,
     "metadata": {},
     "output_type": "execute_result"
    }
   ],
   "source": [
    "out = eda.get_correlation_table(train_X)\n",
    "out[out[\"Abs Corr Coef\"] > 0.6]"
   ]
  },
  {
   "cell_type": "code",
   "execution_count": 61,
   "metadata": {},
   "outputs": [
    {
     "data": {
      "text/html": [
       "<div>\n",
       "<style scoped>\n",
       "    .dataframe tbody tr th:only-of-type {\n",
       "        vertical-align: middle;\n",
       "    }\n",
       "\n",
       "    .dataframe tbody tr th {\n",
       "        vertical-align: top;\n",
       "    }\n",
       "\n",
       "    .dataframe thead th {\n",
       "        text-align: right;\n",
       "    }\n",
       "</style>\n",
       "<table border=\"1\" class=\"dataframe\">\n",
       "  <thead>\n",
       "    <tr style=\"text-align: right;\">\n",
       "      <th></th>\n",
       "      <th>Variable 1</th>\n",
       "      <th>Variable 2</th>\n",
       "      <th>Corr Coef</th>\n",
       "      <th>Abs Corr Coef</th>\n",
       "    </tr>\n",
       "  </thead>\n",
       "  <tbody>\n",
       "  </tbody>\n",
       "</table>\n",
       "</div>"
      ],
      "text/plain": [
       "Empty DataFrame\n",
       "Columns: [Variable 1, Variable 2, Corr Coef, Abs Corr Coef]\n",
       "Index: []"
      ]
     },
     "execution_count": 61,
     "metadata": {},
     "output_type": "execute_result"
    }
   ],
   "source": [
    "# channel and source_channel highly correlated. So discarding source_channel\n",
    "# brand and manufacturer are almost same so discarding manufacturer.\n",
    "# Similarly keeping sku between inventory and sku\n",
    "# Similarly keeping condition between conditions and ext_grade\n",
    "# Similarly keeping model_family between platforms, ext_model_family and model_family\n",
    "# Discarding selling price & selling cost as they are multiples of unit price/cost & quantity.\n",
    "# Discarding gp as it is the of selling price and selling cost\n",
    "# order_no, line, invoice_no & customername cannot be IDVs\n",
    "curated_columns = list(\n",
    "    set(train_X.columns.to_list()) \n",
    "    - set(['population','households','latitude','total_bedrooms'])\n",
    ")\n",
    "\n",
    "train_X = train_X[curated_columns]\n",
    "\n",
    "out = eda.get_correlation_table(train_X)\n",
    "out[out[\"Abs Corr Coef\"] > 0.6]"
   ]
  },
  {
   "cell_type": "code",
   "execution_count": 90,
   "metadata": {},
   "outputs": [
    {
     "data": {},
     "metadata": {},
     "output_type": "display_data"
    },
    {
     "data": {
      "application/vnd.holoviews_exec.v0+json": "",
      "text/html": [
       "<div id='112709'>\n",
       "\n",
       "\n",
       "\n",
       "\n",
       "\n",
       "  <div class=\"bk-root\" id=\"cf545d1d-0715-4a45-84b8-9b27d938afdf\" data-root-id=\"112709\"></div>\n",
       "</div>\n",
       "<script type=\"application/javascript\">(function(root) {\n",
       "  function embed_document(root) {\n",
       "  var docs_json = {\"ab7a4687-3e05-4f23-bbae-d445ee0d9e4a\":{\"roots\":{\"references\":[{\"attributes\":{\"axis_label\":\"median_income\",\"bounds\":\"auto\",\"formatter\":{\"id\":\"112745\"},\"major_label_orientation\":\"horizontal\",\"ticker\":{\"id\":\"112724\"}},\"id\":\"112723\",\"type\":\"LinearAxis\"},{\"attributes\":{\"margin\":[5,5,5,5],\"name\":\"HSpacer289327\",\"sizing_mode\":\"stretch_width\"},\"id\":\"112710\",\"type\":\"Spacer\"},{\"attributes\":{\"aspect_scale\":1.0191804887876845,\"fill_alpha\":{\"value\":0.2},\"fill_color\":{\"field\":\"Count\",\"transform\":{\"id\":\"112748\"}},\"line_alpha\":{\"value\":0.2},\"line_color\":{\"field\":\"Count\",\"transform\":{\"id\":\"112748\"}},\"q\":{\"field\":\"q\"},\"r\":{\"field\":\"r\"},\"size\":0.07009270798799},\"id\":\"112754\",\"type\":\"HexTile\"},{\"attributes\":{},\"id\":\"112765\",\"type\":\"BasicTickFormatter\"},{\"attributes\":{},\"id\":\"112728\",\"type\":\"BasicTicker\"},{\"attributes\":{\"source\":{\"id\":\"112749\"}},\"id\":\"112756\",\"type\":\"CDSView\"},{\"attributes\":{\"end\":4.326001793952936,\"reset_end\":4.326001793952936,\"reset_start\":-1.9823419249661653,\"start\":-1.9823419249661653,\"tags\":[[[\"total_rooms\",\"total_rooms\",null]]]},\"id\":\"112712\",\"type\":\"Range1d\"},{\"attributes\":{\"data_source\":{\"id\":\"112749\"},\"glyph\":{\"id\":\"112752\"},\"hover_glyph\":null,\"muted_glyph\":{\"id\":\"112754\"},\"nonselection_glyph\":{\"id\":\"112753\"},\"selection_glyph\":null,\"view\":{\"id\":\"112756\"}},\"id\":\"112755\",\"type\":\"GlyphRenderer\"},{\"attributes\":{\"text\":\"Correlation: 0.235\",\"text_color\":{\"value\":\"black\"},\"text_font_size\":{\"value\":\"12pt\"}},\"id\":\"112715\",\"type\":\"Title\"},{\"attributes\":{},\"id\":\"112731\",\"type\":\"SaveTool\"},{\"attributes\":{},\"id\":\"112757\",\"type\":\"BasicTicker\"},{\"attributes\":{\"aspect_scale\":1.0191804887876845,\"fill_color\":{\"field\":\"Count\",\"transform\":{\"id\":\"112748\"}},\"line_color\":{\"field\":\"Count\",\"transform\":{\"id\":\"112748\"}},\"q\":{\"field\":\"q\"},\"r\":{\"field\":\"r\"},\"size\":0.07009270798799},\"id\":\"112752\",\"type\":\"HexTile\"},{\"attributes\":{\"bottom_units\":\"screen\",\"fill_alpha\":0.5,\"fill_color\":\"lightgrey\",\"left_units\":\"screen\",\"level\":\"overlay\",\"line_alpha\":1.0,\"line_color\":\"black\",\"line_dash\":[4,4],\"line_width\":2,\"right_units\":\"screen\",\"top_units\":\"screen\"},\"id\":\"112736\",\"type\":\"BoxAnnotation\"},{\"attributes\":{\"data\":{\"Count\":[6,55,51,23,19,17,47,35,47,26,36,5,12,40,12,70,12,65,3,51,2,56,13,24,11,60,50,31,5,7,45,8,70,13,4,4,25,67,47,7,81,37,38,19,8,51,42,52,8,34,14,5,50,11,59,2,37,26,5,19,50,32,3,23,52,17,3,16,5,75,32,41,24,34,37,18,21,60,42,34,46,36,45,11,23,4,40,41,40,12,22,14,56,68,47,10,51,4,39,21,6,40,34,23,32,40,18,6,4,10,50,68,16,23,10,35,50,6,23,4,28,31,11,3,10,2,3,5,26,9,76,13,4,11,55,29,57,5,37,12,12,18,14,54,54,61,18,57,33,43,47,52,44,7,8,61,65,13,17,24,15,26,23,44,41,2,12,16,68,55,17,30,3,33,15,33,59,25,43,22,15,61,38,2,26,47,25,31,9,16,34,11,29,9,22,3,37,35,23,4,8,8,37,2,14,3,1,10,2,38,46,26,34,52,55,49,1,3,52,27,40,49,19,14,66,2,3,13,2,53,7,76,38,6,72,11,20,20,7,57,1,56,18,48,41,29,28,63,4,13,2,16,40,40,5,28,10,2,3,37,19,68,33,45,22,23,31,33,23,1,18,6,11,18,36,43,41,18,2,9,65,13,49,10,28,14,22,26,1,43,40,6,68,65,19,7,21,6,15,68,6,68,51,21,14,20,3,12,27,5,4,6,1,6,5,5,7,21,3,39,33,18,23,36,4,5,49,3,11,25,13,29,13,23,45,59,13,56,14,8,11,23,4,22,1,70,6,5,4,21,24,4,11,10,8,28,19,37,8,4,3,3,2,4,17,18,7,3,3,4,10,10,3,36,3,12,18,39,10,4,66,4,12,6,7,8,27,20,8,27,11,38,8,5,11,20,18,35,3,6,27,16,71,49,56,5,23,1,6,12,16,17,15,1,3,5,8,1,9,10,55,3,7,21,8,5,6,8,7,9,9,17,9,9,19,1,7,28,58,8,4,30,3,36,20,15,14,18,5,1,42,5,10,30,4,34,11,2,6,25,14,3,12,22,6,4,39,2,7,5,11,11,2,2,35,17,16,19,2,15,7,3,16,8,17,8,6,19,7,7,8,12,37,14,9,17,5,35,3,10,32,15,3,7,1,31,11,1,11,16,4,5,11,14,6,14,4,29,5,1,26,4,18,5,24,6,25,14,11,10,30,31,3,4,39,4,4,13,13,5,3,16,2,14,25,3,17,2,11,12,10,6,3,3,5,4,8,7,10,13,2,26,15,9,21,5,10,23,12,13,3,39,1,30,5,21,2,41,2,4,2,17,9,5,5,16,9,3,27,5,21,17,3,3,19,11,10,2,3,10,5,14,6,31,14,7,1,1,22,1,12,8,3,4,2,9,9,2,12,3,11,5,4,2,7,11,30,1,7,14,19,6,4,2,10,12,5,6,4,6,18,1,14,7,13,14,9,8,4,24,2,1,1,25,8,13,11,1,1,6,4,2,6,16,1,1,3,10,4,1,8,4,6,13,1,3,2,5,17,3,2,15,33,23,23,5,30,3,6,4,4,7,4,3,37,3,6,15,5,4,3,4,11,6,3,11,13,6,4,2,4,1,8,2,7,4,1,4,6,10,4,11,4,1,4,14,8,15,4,9,7,9,18,5,16,1,10,5,6,9,1,15,4,2,1,9,11,3,8,4,7,5,8,10,7,4,3,2,7,2,14,4,12,15,6,13,11,11,2,1,8,14,10,3,8,5,2,30,7,5,4,1,12,1,2,1,5,4,2,1,10,6,1,16,1,3,2,9,4,6,8,22,14,4,3,12,12,3,10,11,6,9,1,9,7,9,6,1,2,12,4,3,3,2,2,14,5,9,2,3,8,1,8,10,7,1,3,12,1,10,3,1,3,8,6,6,8,7,6,6,2,14,10,3,9,2,13,13,7,7,5,4,2,1,34,3,4,21,9,9,5,4,2,9,3,4,3,30,4,3,10,6,1,4,5,2,1,2,16,4,28,2,4,5,18,1,8,21,4,15,23,7,13,6,2,5,10,2,7,7,3,1,7,2,3,5,4,7,3,3,3,2,10,7,5,5,2,4,7,4,7,4,4,2,3,1,6,3,4,5,2,2,11,3,7,2,3,2,1,2,4,1,2,4,4,6,1,2,7,1,6,4,4,15,1,4,2,3,9,7,2,1,2,14,1,3,3,8,1,1,8,9,1,3,1,1,9,3,1,3,2,3,2,1,6,1,2,1,1,1,2,2,7,8,10,10,6,2,4,5,5,2,2,8,6,5,9,1,7,2,1,3,5,3,3,1,4,1,3,1,2,2,1,9,4,2,1,2,3,1,1,1,2,2,1,2,4,13,3,3,2,3,2,1,5,1,1,1,2,1,2,3,3,3,2,2,2,2,3,5,3,3,7,1,2,2,9,5,3,2,2,1,5,1,10,9,1,6,1,2,5,5,4,3,2,2,2,2,3,1,2,3,2,3,1,2,1,2,2,2,2,1,1,3,3,3,4,6,4,2,3,8,2,3,2,5,2,2,1,5,8,5,3,7,2,1,2,1,2,5,4,2,1,1,1,4,2,2,4,3,4,2,1,1,1,2,1,1,2,5,2,16,2,1,6,1,1,2,1,1,2,1,1,3,2,1,4,4,11,4,2,1,2,5,1,5,3,2,3,4,2,1,6,3,4,3,4,1,2,3,2,2,1,3,1,1,1,1,1,4,1,5,4,1,2,3,1,2,1,1,3,1,4,1,5,2,1,2,2,1,3,2,2,1,3,1,1,4,1,5,1,3,3,3,5,5,4,2,3,4,2,1,1,2,4,1,3,1,1,2,6,1,1,1,1,2,2,3,1,2,2,2,1,2,2,1,1,1,1,2,1,4,2,4,1,1,2,2,1,1,2,5,4,1,3,1,2,1,2,1,2,1,3,1,5,2,3,1,2,1,1,1,2,2,2,3,1,4,2,4,1,5,4,2,1,2,1,1,3,1,2,2,1,1,1,1,1,1,2,3,2,3,1,1,1,1,10,2,1,2,2,2,1,3,2,4,3,2,2,1,1,2,1,3,1,3,1,3,2,3,1,4,1,3,1,1,1,1,1,1,1,1,1,2,3,3,2,1,2,1,1,2,2,1,1,1,4,2,2,2,2,2,1,1,1,2,2,2,4,1,1,4,1,1,1,2,1,1,1,1,1,2,1,1,1,1,1,2,1,1,1,1,1,1,1,2,1,1,1,1,1,1,2,2,1,1,1,3,1,2,2,1,2,2,2,1,3,1,1,2,1,1,2,1,1,1,1,1,1,1,4,1,1,1,1,2,1,1,1,1,1,2,3,1,1,1,1,1,1,1,1,3,1,1,2,1,2,3,1,1,1,3,1,1,1,1,1,1,3,1,1,1,1,2,1,1,1,2,1,1,1,2,1,2,1,1,1,1,1,1,1,1,1,1,2,1,1,1,1,1,1,1,2,1,1,1,1,2,1,2,1,1,1,1,1,1,1,1,1,1,1],\"q\":[2,-7,-12,-2,8,-8,-9,-13,-1,7,0,12,4,0,3,-2,-10,-3,34,-9,-5,-10,12,3,15,-13,-5,3,22,0,-1,14,-5,12,30,6,6,-5,-13,13,-9,1,2,3,-6,-11,-2,-7,8,-8,24,14,-5,13,-12,14,-14,0,-17,2,-6,-5,23,-15,0,-2,23,11,10,-6,-1,-3,5,3,-11,21,5,-1,-10,-11,-10,4,1,12,-15,20,-5,-3,3,5,6,-18,-10,-10,0,-16,-2,5,2,5,11,-7,-1,-3,2,-3,6,16,20,12,-1,-2,2,-4,-19,-6,-12,10,4,-2,-15,2,9,-10,30,20,17,4,-15,27,-9,-3,4,16,-7,-13,-4,13,4,10,18,-17,6,-8,-4,-6,0,-5,-11,2,-6,-3,-5,-6,8,-8,-4,-5,-13,-6,-5,4,-11,0,-8,27,6,28,-5,-7,26,4,16,-4,22,-7,-2,0,-1,8,-17,-7,-8,3,3,1,5,-2,-7,2,4,12,-3,10,-1,18,-12,2,1,15,-20,18,1,12,11,-16,15,23,4,2,-12,6,1,-9,-4,1,23,9,-3,-3,-13,-14,7,7,-7,6,-5,-10,19,-12,12,-11,-1,12,-9,5,4,-1,-2,-4,35,-6,3,-9,-14,-8,0,-6,21,-3,17,-3,0,-4,14,6,16,2,15,1,7,-5,-11,-5,-2,-16,0,5,4,29,-7,16,-11,-7,-3,-6,-3,-12,20,11,-7,-16,-8,-7,-9,-15,2,-4,35,-2,-8,16,-4,-8,-9,9,-13,-8,7,-11,-17,-11,-13,-8,3,-15,16,-14,7,4,17,18,37,15,2,9,-4,1,16,-1,-2,-4,2,0,17,12,-14,-2,13,-16,7,1,5,2,-2,-8,-3,-10,7,2,12,8,5,5,17,-8,15,20,11,6,-4,19,7,11,9,-3,8,-15,-12,-7,15,25,15,23,-17,12,17,18,16,14,6,5,20,-7,23,4,8,1,5,13,-6,21,10,-4,1,7,-15,2,0,0,3,-2,5,7,1,4,-16,-10,1,19,7,30,-12,-10,-11,4,-1,31,8,11,6,25,8,9,17,-21,13,17,-3,6,-1,19,13,6,3,-1,5,7,-2,27,-11,0,29,4,3,23,15,3,0,4,21,4,2,4,19,4,1,5,20,37,-4,21,-7,2,21,-2,7,12,5,-4,-6,11,11,-14,6,10,-13,9,16,1,-8,7,21,21,-12,9,5,4,39,24,8,25,11,9,6,8,-19,8,-4,12,14,5,-11,15,11,-2,8,-13,11,31,-14,-18,16,5,29,-3,-1,21,7,9,20,13,5,10,12,5,9,5,35,3,-7,8,-10,18,-14,-11,1,7,-15,9,-9,-6,17,16,-2,14,22,25,28,14,0,-16,24,-14,3,27,7,23,13,14,-9,10,14,13,-10,13,15,21,-18,1,14,2,-16,1,-3,21,3,-6,12,-2,-22,-2,25,3,8,-14,18,-3,22,1,9,8,-10,20,9,10,1,6,-10,12,0,7,0,13,4,27,12,11,31,-1,-20,11,11,-4,-2,16,17,37,8,10,29,-2,14,18,24,9,17,4,-5,17,20,10,-18,-3,9,10,-1,15,16,8,-16,17,-6,19,-1,6,14,13,5,14,4,22,11,0,-12,-1,6,13,18,5,23,0,26,-6,6,11,-4,15,9,17,16,4,11,12,19,7,-4,10,15,25,-5,10,13,6,-12,-8,11,16,-5,-22,20,-10,3,1,3,22,0,16,14,11,11,-8,8,-13,1,23,1,0,17,19,13,4,-5,14,10,-6,11,0,21,23,4,-16,-19,22,11,17,11,16,15,11,18,9,12,23,-1,8,12,-9,11,-13,8,6,-12,8,-4,11,-23,5,6,9,16,8,20,15,17,12,-14,12,15,3,-1,16,-13,13,6,-8,14,35,16,20,2,4,13,26,19,9,-17,-9,10,38,10,17,25,8,-19,16,43,-9,19,21,17,21,2,25,7,37,13,8,-2,-8,-4,9,23,-12,29,19,-4,-7,14,-16,-18,2,-18,14,4,10,-9,-15,14,-5,11,14,21,6,4,9,3,16,22,-8,15,34,20,17,20,24,11,2,21,10,11,10,10,8,-2,31,-6,6,8,-9,5,-2,19,9,9,-6,-19,9,5,33,6,9,10,17,28,12,21,6,-10,10,-1,7,14,29,1,20,16,-5,12,8,22,13,3,32,8,24,21,-7,16,5,-11,1,-12,11,-9,-8,21,4,5,10,3,4,5,8,-17,20,16,-5,33,0,9,11,11,12,42,32,5,15,16,-10,15,24,8,5,-6,6,16,6,19,17,9,7,7,-18,14,17,27,15,-8,-14,11,0,-5,23,22,7,0,12,-17,7,14,28,7,25,20,10,6,12,26,4,37,32,19,16,26,24,3,-1,3,18,-9,13,29,-17,21,20,16,13,9,-20,16,31,9,-13,23,-2,16,31,23,26,1,14,28,6,5,12,10,18,16,14,3,19,19,26,14,29,10,3,-20,-5,24,22,6,9,3,-17,15,22,-14,7,7,22,13,10,13,23,7,29,19,22,28,8,-3,13,18,15,12,13,40,26,36,23,14,2,18,3,5,22,10,13,0,10,24,-1,4,27,17,-6,-1,-9,40,24,10,17,6,0,21,18,17,24,27,9,33,16,6,15,42,22,19,15,0,26,10,22,22,8,9,2,18,4,3,11,-6,28,10,-1,45,-13,21,21,-1,3,18,16,23,18,13,20,40,25,26,20,14,12,30,26,8,13,9,24,-3,27,-7,20,-3,24,3,12,8,-15,17,23,21,18,18,15,10,21,15,-2,7,15,-11,10,18,28,17,5,23,2,29,20,18,34,3,2,-1,-7,9,20,5,9,-5,20,25,-8,28,7,26,-3,11,26,19,27,-21,12,0,15,27,-9,17,36,-6,22,14,6,7,2,-15,-11,26,-20,12,14,22,-4,23,-20,20,13,25,35,14,7,8,23,18,22,28,15,-5,18,8,14,15,-4,11,11,11,-12,14,18,2,33,15,16,-11,38,31,-8,-7,3,-12,26,15,14,22,13,13,12,-11,6,1,12,19,-10,-4,3,16,37,24,13,25,18,16,-7,1,34,18,10,17,25,11,20,23,22,12,27,12,17,13,36,21,34,26,16,22,18,22,9,-18,40,21,2,9,1,26,18,24,22,23,-1,32,23,5,16,26,-21,21,13,22,6,21,-4,39,31,17,24,16,18,14,25,21,28,-3,24,12,21,17,-15,15,17,1,7,14,10,15,25,15,17,-2,10,12,19,25,8,20,17,19,28,14,13,10,2,10,-1,19,39,26,23,38,20,-6,15,-19,20,45,9,13,30,-1,12,1,38,14,-14,9,21,30,7,23,23,10,10,19,-7,29,6,30,20,13,32,22,5,30,25,21,12,-13,1,37,25,-13,8,24,24,18,-7,24,26,-1,13,16,27,37,8,3,32,-3,25,-15,17,24,31,30,19,24,-2,-5,3,28,5,0,12,29,13,21,31,27,-15,34,17,28,-3,7,16,19,15,-13,18,26,17,-3,24,9,-1,13,30,28,2,25,17,7,3,32,18,24,22,28,24,27,32,18,7,27,41,4,9,23,-16,-2,26,26,23,12,18,10,-3,-9,11,17,31,13,27,7,21,26,19,41,14,29,15,0,30,20,17,12,22,41,19,31,8,5,21,6,4,14,13,34,33,24,-11,8,26,27,43,29,21,21,9,-2,31,19,17,-21,23,23,15,26,27,24,19,20,11,-4,28,23,13,31,28,22,19,33,10,-6,12,20,15,19,4,30,15,19,22,28,-4,26,20,23,19,23,17,42,10,16,-18,19,21,25,18,26],\"r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},\"selected\":{\"id\":\"112750\"},\"selection_policy\":{\"id\":\"112767\"}},\"id\":\"112749\",\"type\":\"ColumnDataSource\"},{\"attributes\":{\"axis\":{\"id\":\"112727\"},\"dimension\":1,\"grid_line_color\":null,\"ticker\":null},\"id\":\"112730\",\"type\":\"Grid\"},{\"attributes\":{},\"id\":\"112747\",\"type\":\"BasicTickFormatter\"},{\"attributes\":{},\"id\":\"112767\",\"type\":\"UnionRenderers\"},{\"attributes\":{\"align\":null,\"below\":[{\"id\":\"112723\"}],\"center\":[{\"id\":\"112726\"},{\"id\":\"112730\"}],\"left\":[{\"id\":\"112727\"}],\"margin\":null,\"min_border_bottom\":10,\"min_border_left\":10,\"min_border_right\":10,\"min_border_top\":10,\"plot_height\":300,\"renderers\":[{\"id\":\"112755\"}],\"right\":[{\"id\":\"112758\"}],\"sizing_mode\":\"fixed\",\"title\":{\"id\":\"112715\"},\"toolbar\":{\"id\":\"112737\"},\"x_range\":{\"id\":\"112711\"},\"x_scale\":{\"id\":\"112719\"},\"y_range\":{\"id\":\"112712\"},\"y_scale\":{\"id\":\"112721\"}},\"id\":\"112714\",\"subtype\":\"Figure\",\"type\":\"Plot\"},{\"attributes\":{\"aspect_scale\":1.0191804887876845,\"fill_alpha\":{\"value\":0.1},\"fill_color\":{\"field\":\"Count\",\"transform\":{\"id\":\"112748\"}},\"line_alpha\":{\"value\":0.1},\"line_color\":{\"field\":\"Count\",\"transform\":{\"id\":\"112748\"}},\"q\":{\"field\":\"q\"},\"r\":{\"field\":\"r\"},\"size\":0.07009270798799},\"id\":\"112753\",\"type\":\"HexTile\"},{\"attributes\":{\"axis\":{\"id\":\"112723\"},\"grid_line_color\":null,\"ticker\":null},\"id\":\"112726\",\"type\":\"Grid\"},{\"attributes\":{},\"id\":\"112719\",\"type\":\"LinearScale\"},{\"attributes\":{},\"id\":\"112732\",\"type\":\"PanTool\"},{\"attributes\":{},\"id\":\"112724\",\"type\":\"BasicTicker\"},{\"attributes\":{},\"id\":\"112750\",\"type\":\"Selection\"},{\"attributes\":{\"margin\":[5,5,5,5],\"name\":\"HSpacer289328\",\"sizing_mode\":\"stretch_width\"},\"id\":\"112841\",\"type\":\"Spacer\"},{\"attributes\":{\"active_drag\":\"auto\",\"active_inspect\":\"auto\",\"active_multi\":null,\"active_scroll\":\"auto\",\"active_tap\":\"auto\",\"tools\":[{\"id\":\"112713\"},{\"id\":\"112731\"},{\"id\":\"112732\"},{\"id\":\"112733\"},{\"id\":\"112734\"},{\"id\":\"112735\"}]},\"id\":\"112737\",\"type\":\"Toolbar\"},{\"attributes\":{\"children\":[{\"id\":\"112710\"},{\"id\":\"112714\"},{\"id\":\"112841\"}],\"margin\":[0,0,0,0],\"name\":\"Row289323\",\"tags\":[\"embedded\"]},\"id\":\"112709\",\"type\":\"Row\"},{\"attributes\":{\"axis_label\":\"total_rooms\",\"bounds\":\"auto\",\"formatter\":{\"id\":\"112747\"},\"major_label_orientation\":\"horizontal\",\"ticker\":{\"id\":\"112728\"}},\"id\":\"112727\",\"type\":\"LinearAxis\"},{\"attributes\":{},\"id\":\"112733\",\"type\":\"WheelZoomTool\"},{\"attributes\":{\"bar_line_color\":\"black\",\"color_mapper\":{\"id\":\"112748\"},\"formatter\":{\"id\":\"112765\"},\"label_standoff\":8,\"location\":[0,0],\"major_tick_line_color\":\"black\",\"ticker\":{\"id\":\"112757\"}},\"id\":\"112758\",\"type\":\"ColorBar\"},{\"attributes\":{},\"id\":\"112735\",\"type\":\"ResetTool\"},{\"attributes\":{\"callback\":null,\"renderers\":[{\"id\":\"112755\"}],\"tags\":[\"hv_created\"],\"tooltips\":[[\"Count\",\"@{Count}\"]]},\"id\":\"112713\",\"type\":\"HoverTool\"},{\"attributes\":{\"end\":3.5219796639808574,\"reset_end\":3.5219796639808574,\"reset_start\":-2.1518420708598835,\"start\":-2.1518420708598835,\"tags\":[[[\"median_income\",\"median_income\",null]]]},\"id\":\"112711\",\"type\":\"Range1d\"},{\"attributes\":{\"high\":81,\"low\":1,\"palette\":[\"#b3fef5\",\"#b0fef5\",\"#adfdf5\",\"#a9fcf5\",\"#a6fbf6\",\"#a3faf6\",\"#a0faf6\",\"#9df9f6\",\"#9af8f6\",\"#97f7f6\",\"#93f7f6\",\"#90f6f6\",\"#8df5f6\",\"#8af4f7\",\"#87f3f7\",\"#83f2f7\",\"#80f2f7\",\"#7df1f7\",\"#79f0f7\",\"#76eff7\",\"#73eef7\",\"#6fedf8\",\"#6cecf8\",\"#68ecf8\",\"#65ebf8\",\"#61eaf8\",\"#5ee9f8\",\"#5ae8f8\",\"#57e7f8\",\"#53e6f8\",\"#50e5f9\",\"#4ce4f9\",\"#49e3f9\",\"#45e2f9\",\"#42e1f9\",\"#3ee0f9\",\"#3bdff9\",\"#38def9\",\"#35ddf9\",\"#32dcf9\",\"#30dbfa\",\"#2ed9fa\",\"#2dd8fa\",\"#2cd7fa\",\"#2bd6fa\",\"#2bd5fa\",\"#2ad3fa\",\"#2ad2fa\",\"#29d1fa\",\"#29d0fb\",\"#29cffb\",\"#28cdfb\",\"#28ccfb\",\"#28cbfb\",\"#28cafb\",\"#28c8fb\",\"#28c7fb\",\"#29c6fb\",\"#29c5fb\",\"#29c4fb\",\"#29c2fb\",\"#2ac1fb\",\"#2ac0fb\",\"#2bbffb\",\"#2bbdfc\",\"#2cbcfc\",\"#2dbbfc\",\"#2db9fc\",\"#2eb8fc\",\"#2fb7fc\",\"#2fb6fc\",\"#30b4fc\",\"#31b3fc\",\"#32b2fc\",\"#32b0fc\",\"#33affc\",\"#33aefc\",\"#34adfc\",\"#34abfc\",\"#34aafc\",\"#35a9fc\",\"#35a8fc\",\"#35a6fc\",\"#35a5fc\",\"#35a4fc\",\"#35a3fc\",\"#35a1fc\",\"#35a0fc\",\"#359ffc\",\"#359dfc\",\"#359cfc\",\"#359bfc\",\"#349afd\",\"#3498fd\",\"#3497fd\",\"#3396fd\",\"#3395fd\",\"#3293fd\",\"#3292fd\",\"#3191fd\",\"#3090fd\",\"#308ffd\",\"#2f8dfd\",\"#2f8cfd\",\"#2e8bfd\",\"#2e8afd\",\"#2d88fd\",\"#2d87fd\",\"#2c86fd\",\"#2c84fd\",\"#2c83fd\",\"#2c82fd\",\"#2b81fd\",\"#2b7ffd\",\"#2b7efd\",\"#2b7dfd\",\"#2b7bfd\",\"#2b7afd\",\"#2b79fd\",\"#2b77fd\",\"#2b76fd\",\"#2b75fd\",\"#2b73fd\",\"#2c72fd\",\"#2c71fd\",\"#2c6ffd\",\"#2c6efd\",\"#2d6cfd\",\"#2d6bfd\",\"#2d6afc\",\"#2e68fc\",\"#2e67fc\",\"#2e65fc\",\"#2e64fc\",\"#2f62fc\",\"#2f61fc\",\"#2f5ffc\",\"#2f5efc\",\"#2f5dfc\",\"#2f5bfc\",\"#2f5afc\",\"#2f58fb\",\"#2f57fb\",\"#2f55fb\",\"#2f53fb\",\"#2f52fb\",\"#2f50fb\",\"#2f4ffb\",\"#2f4dfb\",\"#2e4cfb\",\"#2e4afb\",\"#2e48fb\",\"#2e47fa\",\"#2d45fa\",\"#2d43fa\",\"#2d42fa\",\"#2d40fa\",\"#2c3efa\",\"#2c3dfa\",\"#2b3bf9\",\"#2b39f9\",\"#2a37f9\",\"#2a36f8\",\"#2934f8\",\"#2832f7\",\"#2831f7\",\"#272ff6\",\"#262ef5\",\"#252cf5\",\"#252af4\",\"#2429f3\",\"#2327f2\",\"#2226f1\",\"#2124f0\",\"#2023ef\",\"#1f22ee\",\"#1e20ed\",\"#1d1feb\",\"#1c1eea\",\"#1b1ce9\",\"#1a1be7\",\"#181ae6\",\"#1719e5\",\"#1618e3\",\"#1417e1\",\"#1316e0\",\"#1215de\",\"#1014dc\",\"#0f13db\",\"#0e12d9\",\"#0d11d7\",\"#0c10d5\",\"#0b0fd3\",\"#0a0ed1\",\"#090dd0\",\"#080dce\",\"#080ccc\",\"#070bca\",\"#070ac8\",\"#0709c6\",\"#0708c4\",\"#0707c2\",\"#0707bf\",\"#0806bd\",\"#0806bb\",\"#0905b9\",\"#0904b7\",\"#0a04b5\",\"#0a04b2\",\"#0b03b0\",\"#0c03ae\",\"#0d02ab\",\"#0e02a9\",\"#0e02a7\",\"#0f02a4\",\"#0f01a2\",\"#1001a0\",\"#10019d\",\"#10019b\",\"#100199\",\"#100197\",\"#100194\",\"#0f0192\",\"#0f0190\",\"#0f018e\",\"#0e018b\",\"#0e0189\",\"#0d0187\",\"#0d0185\",\"#0c0183\",\"#0b0181\",\"#0b017e\",\"#0a017c\",\"#09017a\",\"#090178\",\"#080276\",\"#070274\",\"#060272\",\"#060270\",\"#05026e\",\"#04026c\",\"#030269\",\"#030267\",\"#020265\",\"#010263\",\"#010261\",\"#00025f\",\"#00025d\",\"#00025b\",\"#000259\",\"#000257\",\"#000255\",\"#000154\",\"#000152\",\"#000150\",\"#00004e\"]},\"id\":\"112748\",\"type\":\"LinearColorMapper\"},{\"attributes\":{},\"id\":\"112721\",\"type\":\"LinearScale\"},{\"attributes\":{\"overlay\":{\"id\":\"112736\"}},\"id\":\"112734\",\"type\":\"BoxZoomTool\"},{\"attributes\":{},\"id\":\"112745\",\"type\":\"BasicTickFormatter\"}],\"root_ids\":[\"112709\"]},\"title\":\"Bokeh Application\",\"version\":\"2.2.3\"}};\n",
       "  var render_items = [{\"docid\":\"ab7a4687-3e05-4f23-bbae-d445ee0d9e4a\",\"root_ids\":[\"112709\"],\"roots\":{\"112709\":\"cf545d1d-0715-4a45-84b8-9b27d938afdf\"}}];\n",
       "  root.Bokeh.embed.embed_items_notebook(docs_json, render_items);\n",
       "  }\n",
       "if (root.Bokeh !== undefined) {\n",
       "    embed_document(root);\n",
       "  } else {\n",
       "    var attempts = 0;\n",
       "    var timer = setInterval(function(root) {\n",
       "      if (root.Bokeh !== undefined) {\n",
       "        clearInterval(timer);\n",
       "        embed_document(root);\n",
       "      } else if (document.readyState == \"complete\") {\n",
       "        attempts++;\n",
       "        if (attempts > 100) {\n",
       "          clearInterval(timer);\n",
       "          console.log(\"Bokeh: ERROR: Unable to run BokehJS code because BokehJS library is missing\");\n",
       "        }\n",
       "      }\n",
       "    }, 10, root)\n",
       "  }\n",
       "})(window);</script>"
      ],
      "text/plain": [
       ":HexTiles   [median_income,total_rooms]"
      ]
     },
     "execution_count": 90,
     "metadata": {
      "application/vnd.holoviews_exec.v0+json": {
       "id": "112709"
      }
     },
     "output_type": "execute_result"
    }
   ],
   "source": [
    "out = eda.get_bivariate_plots(train_X, x_cols=['median_income'], y_cols=['total_rooms'])\n",
    "out"
   ]
  },
  {
   "cell_type": "code",
   "execution_count": 91,
   "metadata": {},
   "outputs": [
    {
     "name": "stdout",
     "output_type": "stream",
     "text": [
      "CPU times: user 50.6 s, sys: 172 ms, total: 50.8 s\n",
      "Wall time: 45.4 s\n"
     ]
    }
   ],
   "source": [
    "%%time\n",
    "# create reports as needed\n",
    "cols = train_X.columns.to_list()\n",
    "all_plots = {}\n",
    "for ii, col1 in enumerate(cols): \n",
    "    for jj in range(ii+1, len(cols)):\n",
    "        col2 = cols[jj]\n",
    "        out = eda.get_bivariate_plots(train_X, x_cols=[col1], y_cols=[col2])\n",
    "        all_plots.update({f'{col2} vs {col1}': out})\n",
    "\n",
    "reports.create_report(all_plots, name='feature_analysis_bivariate')"
   ]
  },
  {
   "cell_type": "markdown",
   "metadata": {},
   "source": [
    "A report containing the bivariate plot is available [here](https://drive.google.com/file/d/1S3JXE1TTwuALugqL5I4zsRpjYy9vIXZy/view?usp=sharing)\n",
    "\n",
    "Alternatively, the above plots can be generated as a single html as below. The output from this is available [here](https://drive.google.com/file/d/12o2Q7O6q2Zck0cHBQ36WDeWuy7b4athM/view?usp=sharing)"
   ]
  },
  {
   "cell_type": "code",
   "execution_count": 79,
   "metadata": {},
   "outputs": [],
   "source": [
    "reports.feature_interactions(train_X,'./feature_interaction_report.html')"
   ]
  },
  {
   "cell_type": "markdown",
   "metadata": {},
   "source": [
    "### 3.2.3 Key Drivers - Interaction with Target variable"
   ]
  },
  {
   "cell_type": "code",
   "execution_count": 92,
   "metadata": {},
   "outputs": [
    {
     "data": {},
     "metadata": {},
     "output_type": "display_data"
    },
    {
     "data": {},
     "metadata": {},
     "output_type": "display_data"
    },
    {
     "data": {
      "application/vnd.holoviews_exec.v0+json": "",
      "text/html": [
       "<div id='129418'>\n",
       "\n",
       "\n",
       "\n",
       "\n",
       "\n",
       "  <div class=\"bk-root\" id=\"96801490-f5b8-48ee-8d97-ab2c79f1884b\" data-root-id=\"129418\"></div>\n",
       "</div>\n",
       "<script type=\"application/javascript\">(function(root) {\n",
       "  function embed_document(root) {\n",
       "  var docs_json = {\"b906b630-2f85-4435-bc1c-344036830ae9\":{\"roots\":{\"references\":[{\"attributes\":{\"active_drag\":\"auto\",\"active_inspect\":\"auto\",\"active_multi\":null,\"active_scroll\":\"auto\",\"active_tap\":\"auto\",\"tools\":[{\"id\":\"129421\"},{\"id\":\"129438\"},{\"id\":\"129439\"},{\"id\":\"129440\"},{\"id\":\"129441\"},{\"id\":\"129442\"}]},\"id\":\"129444\",\"type\":\"Toolbar\"},{\"attributes\":{},\"id\":\"129439\",\"type\":\"PanTool\"},{\"attributes\":{\"source\":{\"id\":\"129451\"}},\"id\":\"129458\",\"type\":\"CDSView\"},{\"attributes\":{\"client_comm_id\":\"4af2e8782b7041408a8916b8f4c530b8\",\"comm_id\":\"e9f022dcebb6497fbdfb840a16532010\",\"plot_id\":\"129418\"},\"id\":\"129504\",\"type\":\"panel.models.comm_manager.CommManager\"},{\"attributes\":{},\"id\":\"129429\",\"type\":\"CategoricalScale\"},{\"attributes\":{},\"id\":\"129438\",\"type\":\"SaveTool\"},{\"attributes\":{\"data_source\":{\"id\":\"129451\"},\"glyph\":{\"id\":\"129454\"},\"hover_glyph\":null,\"muted_glyph\":{\"id\":\"129456\"},\"nonselection_glyph\":{\"id\":\"129455\"},\"selection_glyph\":null,\"view\":{\"id\":\"129458\"}},\"id\":\"129457\",\"type\":\"GlyphRenderer\"},{\"attributes\":{\"bottom_units\":\"screen\",\"fill_alpha\":0.5,\"fill_color\":\"lightgrey\",\"left_units\":\"screen\",\"level\":\"overlay\",\"line_alpha\":1.0,\"line_color\":\"black\",\"line_dash\":[4,4],\"line_width\":2,\"right_units\":\"screen\",\"top_units\":\"screen\"},\"id\":\"129443\",\"type\":\"BoxAnnotation\"},{\"attributes\":{\"fill_alpha\":{\"value\":0.2},\"fill_color\":{\"value\":\"#1f77b3\"},\"height\":{\"value\":0.8},\"line_alpha\":{\"value\":0.2},\"right\":{\"field\":\"Pearson_correlation_with_Target\"},\"y\":{\"field\":\"index\"}},\"id\":\"129456\",\"type\":\"HBar\"},{\"attributes\":{\"fill_alpha\":{\"value\":0.1},\"fill_color\":{\"value\":\"#1f77b3\"},\"height\":{\"value\":0.8},\"line_alpha\":{\"value\":0.1},\"right\":{\"field\":\"Pearson_correlation_with_Target\"},\"y\":{\"field\":\"index\"}},\"id\":\"129455\",\"type\":\"HBar\"},{\"attributes\":{\"axis_label\":\"\",\"bounds\":\"auto\",\"formatter\":{\"id\":\"129461\"},\"major_label_orientation\":\"horizontal\",\"ticker\":{\"id\":\"129436\"}},\"id\":\"129435\",\"type\":\"CategoricalAxis\"},{\"attributes\":{\"factors\":[\"INLAND\",\"bedrooms_per_room\",\"latitude\",\"longitude\",\"population_per_household\",\"population\",\"ISLAND\",\"total_bedrooms\",\"households\",\"housing_median_age\",\"NEAR OCEAN\",\"rooms_per_household\",\"total_rooms\",\"NEAR BAY\",\"1H OCEAN\",\"median_income\"],\"tags\":[[[\"index\",\"index\",null]]]},\"id\":\"129420\",\"type\":\"FactorRange\"},{\"attributes\":{\"data\":{\"Pearson_correlation_with_Target\":{\"__ndarray__\":\"J1kRT7Ir379cm/Vh6yjNv67plBp5lMK/STowUoJVqL/CODFnA/adv8qFzpjPWpy/IaxP7LprlT+uq3JVnBOtP7IAdawVI7M/8HbxzF6ouT+EYVOxCRTCP7PHljN8PsM/B8H1rzIDxD9KTsATU27EP7R9a5igktA/JsNTg44u5j8=\",\"dtype\":\"float64\",\"order\":\"little\",\"shape\":[16]},\"index\":[\"INLAND\",\"bedrooms_per_room\",\"latitude\",\"longitude\",\"population_per_household\",\"population\",\"ISLAND\",\"total_bedrooms\",\"households\",\"housing_median_age\",\"NEAR OCEAN\",\"rooms_per_household\",\"total_rooms\",\"NEAR BAY\",\"1H OCEAN\",\"median_income\"]},\"selected\":{\"id\":\"129452\"},\"selection_policy\":{\"id\":\"129469\"}},\"id\":\"129451\",\"type\":\"ColumnDataSource\"},{\"attributes\":{\"overlay\":{\"id\":\"129443\"}},\"id\":\"129441\",\"type\":\"BoxZoomTool\"},{\"attributes\":{\"align\":null,\"below\":[{\"id\":\"129431\"}],\"center\":[{\"id\":\"129434\"},{\"id\":\"129437\"}],\"left\":[{\"id\":\"129435\"}],\"margin\":null,\"min_border_bottom\":10,\"min_border_left\":10,\"min_border_right\":10,\"min_border_top\":10,\"plot_height\":300,\"plot_width\":700,\"renderers\":[{\"id\":\"129457\"}],\"sizing_mode\":\"fixed\",\"title\":{\"id\":\"129423\"},\"toolbar\":{\"id\":\"129444\"},\"x_range\":{\"id\":\"129419\"},\"x_scale\":{\"id\":\"129427\"},\"y_range\":{\"id\":\"129420\"},\"y_scale\":{\"id\":\"129429\"}},\"id\":\"129422\",\"subtype\":\"Figure\",\"type\":\"Plot\"},{\"attributes\":{\"margin\":[0,0,0,0],\"tabs\":[{\"id\":\"129479\"}]},\"id\":\"129418\",\"type\":\"Tabs\"},{\"attributes\":{},\"id\":\"129432\",\"type\":\"BasicTicker\"},{\"attributes\":{},\"id\":\"129452\",\"type\":\"Selection\"},{\"attributes\":{\"end\":0.811205711240516,\"reset_end\":0.811205711240516,\"reset_start\":-0.6050645452365117,\"start\":-0.6050645452365117,\"tags\":[[[\"Pearson_correlation_with_Target\",\"Pearson_correlation_with_Target\",null]]]},\"id\":\"129419\",\"type\":\"Range1d\"},{\"attributes\":{},\"id\":\"129460\",\"type\":\"BasicTickFormatter\"},{\"attributes\":{},\"id\":\"129440\",\"type\":\"WheelZoomTool\"},{\"attributes\":{},\"id\":\"129427\",\"type\":\"LinearScale\"},{\"attributes\":{\"axis\":{\"id\":\"129435\"},\"dimension\":1,\"grid_line_color\":null,\"ticker\":null},\"id\":\"129437\",\"type\":\"Grid\"},{\"attributes\":{},\"id\":\"129461\",\"type\":\"CategoricalTickFormatter\"},{\"attributes\":{\"text\":\"Feature Correlation with Target Function\",\"text_color\":{\"value\":\"black\"},\"text_font_size\":{\"value\":\"12pt\"}},\"id\":\"129423\",\"type\":\"Title\"},{\"attributes\":{},\"id\":\"129442\",\"type\":\"ResetTool\"},{\"attributes\":{},\"id\":\"129469\",\"type\":\"UnionRenderers\"},{\"attributes\":{\"axis\":{\"id\":\"129431\"},\"grid_line_color\":null,\"ticker\":null},\"id\":\"129434\",\"type\":\"Grid\"},{\"attributes\":{},\"id\":\"129436\",\"type\":\"CategoricalTicker\"},{\"attributes\":{\"callback\":null,\"renderers\":[{\"id\":\"129457\"}],\"tags\":[\"hv_created\"],\"tooltips\":[[\"index\",\"@{index}\"],[\"Pearson_correlation_with_Target\",\"@{Pearson_correlation_with_Target}\"]]},\"id\":\"129421\",\"type\":\"HoverTool\"},{\"attributes\":{\"child\":{\"id\":\"129422\"},\"name\":\"feature_correlation\",\"title\":\"feature_correlation\"},\"id\":\"129479\",\"type\":\"Panel\"},{\"attributes\":{\"fill_color\":{\"value\":\"#1f77b3\"},\"height\":{\"value\":0.8},\"right\":{\"field\":\"Pearson_correlation_with_Target\"},\"y\":{\"field\":\"index\"}},\"id\":\"129454\",\"type\":\"HBar\"},{\"attributes\":{\"axis_label\":\"Pearson_correlation_with_Target\",\"bounds\":\"auto\",\"formatter\":{\"id\":\"129460\"},\"major_label_orientation\":\"horizontal\",\"ticker\":{\"id\":\"129432\"}},\"id\":\"129431\",\"type\":\"LinearAxis\"}],\"root_ids\":[\"129418\",\"129504\"]},\"title\":\"Bokeh Application\",\"version\":\"2.2.3\"}};\n",
       "  var render_items = [{\"docid\":\"b906b630-2f85-4435-bc1c-344036830ae9\",\"root_ids\":[\"129418\"],\"roots\":{\"129418\":\"96801490-f5b8-48ee-8d97-ab2c79f1884b\"}}];\n",
       "  root.Bokeh.embed.embed_items_notebook(docs_json, render_items);\n",
       "  }\n",
       "if (root.Bokeh !== undefined) {\n",
       "    embed_document(root);\n",
       "  } else {\n",
       "    var attempts = 0;\n",
       "    var timer = setInterval(function(root) {\n",
       "      if (root.Bokeh !== undefined) {\n",
       "        clearInterval(timer);\n",
       "        embed_document(root);\n",
       "      } else if (document.readyState == \"complete\") {\n",
       "        attempts++;\n",
       "        if (attempts > 100) {\n",
       "          clearInterval(timer);\n",
       "          console.log(\"Bokeh: ERROR: Unable to run BokehJS code because BokehJS library is missing\");\n",
       "        }\n",
       "      }\n",
       "    }, 10, root)\n",
       "  }\n",
       "})(window);</script>"
      ],
      "text/plain": [
       "Tabs\n",
       "    [0] HoloViews(Bars, name='feature_correlation')"
      ]
     },
     "execution_count": 92,
     "metadata": {
      "application/vnd.holoviews_exec.v0+json": {
       "id": "129418"
      }
     },
     "output_type": "execute_result"
    }
   ],
   "source": [
    "out = eda.get_target_correlation(train_X, train_y)\n",
    "display_as_tabs([(k, v) for k,v in out.items()])"
   ]
  },
  {
   "cell_type": "code",
   "execution_count": 93,
   "metadata": {},
   "outputs": [
    {
     "data": {},
     "metadata": {},
     "output_type": "display_data"
    },
    {
     "data": {},
     "metadata": {},
     "output_type": "display_data"
    },
    {
     "data": {
      "application/vnd.holoviews_exec.v0+json": "",
      "text/html": [
       "<div id='129545'>\n",
       "\n",
       "\n",
       "\n",
       "\n",
       "\n",
       "  <div class=\"bk-root\" id=\"8e31e828-1d7c-4192-855f-d030202eb401\" data-root-id=\"129545\"></div>\n",
       "</div>\n",
       "<script type=\"application/javascript\">(function(root) {\n",
       "  function embed_document(root) {\n",
       "  var docs_json = {\"9451ac6b-2897-4b52-9c37-d99f1b677aa1\":{\"roots\":{\"references\":[{\"attributes\":{\"align\":null,\"below\":[{\"id\":\"129558\"}],\"center\":[{\"id\":\"129561\"},{\"id\":\"129564\"}],\"left\":[{\"id\":\"129562\"}],\"margin\":null,\"min_border_bottom\":10,\"min_border_left\":10,\"min_border_right\":10,\"min_border_top\":10,\"plot_height\":300,\"plot_width\":700,\"renderers\":[{\"id\":\"129584\"}],\"sizing_mode\":\"fixed\",\"title\":{\"id\":\"129550\"},\"toolbar\":{\"id\":\"129571\"},\"x_range\":{\"id\":\"129546\"},\"x_scale\":{\"id\":\"129554\"},\"y_range\":{\"id\":\"129547\"},\"y_scale\":{\"id\":\"129556\"}},\"id\":\"129549\",\"subtype\":\"Figure\",\"type\":\"Plot\"},{\"attributes\":{},\"id\":\"129579\",\"type\":\"Selection\"},{\"attributes\":{\"margin\":[0,0,0,0],\"tabs\":[{\"id\":\"129606\"},{\"id\":\"129608\"}]},\"id\":\"129545\",\"type\":\"Tabs\"},{\"attributes\":{},\"id\":\"129587\",\"type\":\"BasicTickFormatter\"},{\"attributes\":{},\"id\":\"129567\",\"type\":\"WheelZoomTool\"},{\"attributes\":{\"data\":{\"importance\":{\"__ndarray__\":\"jR0XzUDFTsDaQGtVgnZNwG7/AH0LxEfA/86mMQ2kK8BMY1VHoR0iwB7+wdHcMOW/AAAAAAAAAAAAAAAAAAAAACUEWwXecsA/NkYKw2AT5j8YsH9SHLAFQK79lIZy/R5Ah0yNXS8QMEAJL1/vYlIxQIw8/Gbm70VAJdO3B4lYU0A=\",\"dtype\":\"float64\",\"order\":\"little\",\"shape\":[16]},\"index\":[\"latitude\",\"longitude\",\"population\",\"INLAND\",\"total_rooms\",\"NEAR BAY\",\"1H OCEAN\",\"ISLAND\",\"population_per_household\",\"NEAR OCEAN\",\"rooms_per_household\",\"bedrooms_per_room\",\"housing_median_age\",\"total_bedrooms\",\"households\",\"median_income\"]},\"selected\":{\"id\":\"129579\"},\"selection_policy\":{\"id\":\"129596\"}},\"id\":\"129578\",\"type\":\"ColumnDataSource\"},{\"attributes\":{\"callback\":null,\"renderers\":[{\"id\":\"129584\"}],\"tags\":[\"hv_created\"],\"tooltips\":[[\"index\",\"@{index}\"],[\"importance\",\"@{importance}\"]]},\"id\":\"129548\",\"type\":\"HoverTool\"},{\"attributes\":{\"child\":{\"id\":\"129607\"},\"name\":\"shap_values\",\"title\":\"shap_values\"},\"id\":\"129608\",\"type\":\"Panel\"},{\"attributes\":{\"bottom_units\":\"screen\",\"fill_alpha\":0.5,\"fill_color\":\"lightgrey\",\"left_units\":\"screen\",\"level\":\"overlay\",\"line_alpha\":1.0,\"line_color\":\"black\",\"line_dash\":[4,4],\"line_width\":2,\"right_units\":\"screen\",\"top_units\":\"screen\"},\"id\":\"129570\",\"type\":\"BoxAnnotation\"},{\"attributes\":{\"source\":{\"id\":\"129578\"}},\"id\":\"129585\",\"type\":\"CDSView\"},{\"attributes\":{\"client_comm_id\":\"994dcfeb2f3d4b81bbdc620a85b6afba\",\"comm_id\":\"7bbe3ed86f9d44cda16915ddfa61ba71\",\"plot_id\":\"129545\"},\"id\":\"129633\",\"type\":\"panel.models.comm_manager.CommManager\"},{\"attributes\":{\"active_drag\":\"auto\",\"active_inspect\":\"auto\",\"active_multi\":null,\"active_scroll\":\"auto\",\"active_tap\":\"auto\",\"tools\":[{\"id\":\"129548\"},{\"id\":\"129565\"},{\"id\":\"129566\"},{\"id\":\"129567\"},{\"id\":\"129568\"},{\"id\":\"129569\"}]},\"id\":\"129571\",\"type\":\"Toolbar\"},{\"attributes\":{},\"id\":\"129556\",\"type\":\"CategoricalScale\"},{\"attributes\":{},\"id\":\"129554\",\"type\":\"LinearScale\"},{\"attributes\":{},\"id\":\"129559\",\"type\":\"BasicTicker\"},{\"attributes\":{},\"id\":\"129566\",\"type\":\"PanTool\"},{\"attributes\":{},\"id\":\"129596\",\"type\":\"UnionRenderers\"},{\"attributes\":{},\"id\":\"129569\",\"type\":\"ResetTool\"},{\"attributes\":{\"end\":91.27580402955695,\"reset_end\":91.27580402955695,\"reset_start\":-75.4334804466888,\"start\":-75.4334804466888,\"tags\":[[[\"importance\",\"importance\",null]]]},\"id\":\"129546\",\"type\":\"Range1d\"},{\"attributes\":{\"overlay\":{\"id\":\"129570\"}},\"id\":\"129568\",\"type\":\"BoxZoomTool\"},{\"attributes\":{\"axis\":{\"id\":\"129562\"},\"dimension\":1,\"grid_line_color\":null,\"ticker\":null},\"id\":\"129564\",\"type\":\"Grid\"},{\"attributes\":{},\"id\":\"129563\",\"type\":\"CategoricalTicker\"},{\"attributes\":{\"axis\":{\"id\":\"129558\"},\"grid_line_color\":null,\"ticker\":null},\"id\":\"129561\",\"type\":\"Grid\"},{\"attributes\":{\"data_source\":{\"id\":\"129578\"},\"glyph\":{\"id\":\"129581\"},\"hover_glyph\":null,\"muted_glyph\":{\"id\":\"129583\"},\"nonselection_glyph\":{\"id\":\"129582\"},\"selection_glyph\":null,\"view\":{\"id\":\"129585\"}},\"id\":\"129584\",\"type\":\"GlyphRenderer\"},{\"attributes\":{},\"id\":\"129565\",\"type\":\"SaveTool\"},{\"attributes\":{\"child\":{\"id\":\"129549\"},\"name\":\"from_model\",\"title\":\"from_model\"},\"id\":\"129606\",\"type\":\"Panel\"},{\"attributes\":{},\"id\":\"129588\",\"type\":\"CategoricalTickFormatter\"},{\"attributes\":{\"axis_label\":\"Features\",\"bounds\":\"auto\",\"formatter\":{\"id\":\"129588\"},\"major_label_orientation\":\"horizontal\",\"ticker\":{\"id\":\"129563\"}},\"id\":\"129562\",\"type\":\"CategoricalAxis\"},{\"attributes\":{\"text\":\"Feature Importances from LassoCV\",\"text_color\":{\"value\":\"black\"},\"text_font_size\":{\"value\":\"12pt\"}},\"id\":\"129550\",\"type\":\"Title\"},{\"attributes\":{\"fill_alpha\":{\"value\":0.1},\"fill_color\":{\"value\":\"#1f77b3\"},\"height\":{\"value\":0.8},\"line_alpha\":{\"value\":0.1},\"right\":{\"field\":\"importance\"},\"y\":{\"field\":\"index\"}},\"id\":\"129582\",\"type\":\"HBar\"},{\"attributes\":{\"height\":568,\"margin\":[5,5,5,5],\"name\":\"shap_values\",\"text\":\"&lt;img src=&quot;data:image/png;base64,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&quot; width=&quot;576px&quot; height=&quot;568px&quot; alt=&quot;&quot;&gt;&lt;/img&gt;\",\"width\":576},\"id\":\"129607\",\"type\":\"panel.models.markup.HTML\"},{\"attributes\":{\"factors\":[\"latitude\",\"longitude\",\"population\",\"INLAND\",\"total_rooms\",\"NEAR BAY\",\"1H OCEAN\",\"ISLAND\",\"population_per_household\",\"NEAR OCEAN\",\"rooms_per_household\",\"bedrooms_per_room\",\"housing_median_age\",\"total_bedrooms\",\"households\",\"median_income\"],\"tags\":[[[\"index\",\"index\",null]]]},\"id\":\"129547\",\"type\":\"FactorRange\"},{\"attributes\":{\"axis_label\":\"Feature Importance [determined by coeff * mean(x)]\",\"bounds\":\"auto\",\"formatter\":{\"id\":\"129587\"},\"major_label_orientation\":\"horizontal\",\"ticker\":{\"id\":\"129559\"}},\"id\":\"129558\",\"type\":\"LinearAxis\"},{\"attributes\":{\"fill_color\":{\"value\":\"#1f77b3\"},\"height\":{\"value\":0.8},\"right\":{\"field\":\"importance\"},\"y\":{\"field\":\"index\"}},\"id\":\"129581\",\"type\":\"HBar\"},{\"attributes\":{\"fill_alpha\":{\"value\":0.2},\"fill_color\":{\"value\":\"#1f77b3\"},\"height\":{\"value\":0.8},\"line_alpha\":{\"value\":0.2},\"right\":{\"field\":\"importance\"},\"y\":{\"field\":\"index\"}},\"id\":\"129583\",\"type\":\"HBar\"}],\"root_ids\":[\"129545\",\"129633\"]},\"title\":\"Bokeh Application\",\"version\":\"2.2.3\"}};\n",
       "  var render_items = [{\"docid\":\"9451ac6b-2897-4b52-9c37-d99f1b677aa1\",\"root_ids\":[\"129545\"],\"roots\":{\"129545\":\"8e31e828-1d7c-4192-855f-d030202eb401\"}}];\n",
       "  root.Bokeh.embed.embed_items_notebook(docs_json, render_items);\n",
       "  }\n",
       "if (root.Bokeh !== undefined) {\n",
       "    embed_document(root);\n",
       "  } else {\n",
       "    var attempts = 0;\n",
       "    var timer = setInterval(function(root) {\n",
       "      if (root.Bokeh !== undefined) {\n",
       "        clearInterval(timer);\n",
       "        embed_document(root);\n",
       "      } else if (document.readyState == \"complete\") {\n",
       "        attempts++;\n",
       "        if (attempts > 100) {\n",
       "          clearInterval(timer);\n",
       "          console.log(\"Bokeh: ERROR: Unable to run BokehJS code because BokehJS library is missing\");\n",
       "        }\n",
       "      }\n",
       "    }, 10, root)\n",
       "  }\n",
       "})(window);</script>"
      ],
      "text/plain": [
       "Tabs\n",
       "    [0] HoloViews(Bars, name='from_model')\n",
       "    [1] Matplotlib(Figure, name='shap_values')"
      ]
     },
     "execution_count": 93,
     "metadata": {
      "application/vnd.holoviews_exec.v0+json": {
       "id": "129545"
      }
     },
     "output_type": "execute_result"
    }
   ],
   "source": [
    "out = eda.get_feature_importances(train_X, train_y)\n",
    "display_as_tabs([(k, v) for k,v in out.items()])"
   ]
  },
  {
   "cell_type": "markdown",
   "metadata": {},
   "source": [
    "Key drivers report like feature importance, bivariate plots can be obtained as below"
   ]
  },
  {
   "cell_type": "code",
   "execution_count": 94,
   "metadata": {},
   "outputs": [],
   "source": [
    "reports.key_drivers(train_X,train_y,'./key_drivers_report.html')"
   ]
  },
  {
   "cell_type": "markdown",
   "metadata": {},
   "source": [
    "**Dev Notes**\n",
    "<details>\n",
    "    \n",
    "- The SHAP plots and bivariate plots in key drivers reports can be obtained by including quick=False as a parameter to key_drivers function call. \n",
    "- SHAP plots and bivariate plots often take long depending on data shape.\n",
    "- The plot with shap is present [here](https://drive.google.com/file/d/1JOTMBLiv3LEqZ-kxZz0RokW9v5UyiGva/view?usp=sharing)\n",
    "\n",
    "</details>"
   ]
  },
  {
   "cell_type": "markdown",
   "metadata": {},
   "source": [
    "\n",
    "All the plots like feature analysis, interaction, key drivers can be obtained as a single plot using data exploration method as shown below. The output from this is available [here](https://drive.google.com/file/d/1_3rE5u3qFHdeoL3VrFNTG-aBtHFALnI7/view?usp=sharing)"
   ]
  },
  {
   "cell_type": "code",
   "execution_count": 95,
   "metadata": {},
   "outputs": [
    {
     "name": "stderr",
     "output_type": "stream",
     "text": [
      "p-value may not be accurate for N > 5000.\n"
     ]
    }
   ],
   "source": [
    "reports.data_exploration(train_X,train_y,'./data_exploration_report.html')"
   ]
  },
  {
   "cell_type": "code",
   "execution_count": 96,
   "metadata": {},
   "outputs": [],
   "source": [
    "# saving the list of relevant columns\n",
    "#save_pipeline(curated_columns, op.abspath(op.join(artifacts_folder, 'curated_columns.joblib')))\n",
    "\n",
    "# save the feature pipeline\n",
    "save_pipeline(features_transformer, op.abspath(op.join(artifacts_folder, 'features.joblib')))"
   ]
  },
  {
   "cell_type": "code",
   "execution_count": null,
   "metadata": {},
   "outputs": [],
   "source": []
  },
  {
   "cell_type": "markdown",
   "metadata": {},
   "source": [
    "# 4 Modelling"
   ]
  },
  {
   "cell_type": "markdown",
   "metadata": {},
   "source": [
    "## 4.1 Modelling - Linear Regression"
   ]
  },
  {
   "cell_type": "markdown",
   "metadata": {},
   "source": [
    "### 4.1.1 Feature Selection(Specific to Regression)\n",
    "\n",
    "- Selecting Features specific to regression\n",
    "- VIF : measure of the amount of multi-collinearity in a set of multiple regressor variables. \n",
    "- On a case to case basis VIF thresholds change. Generally 5 or 10 are acceptable levels.\n",
    "- Usually on a recursive basis when removing the most collinear variable, there can be shuffle in VIF. \n",
    "- Often this section will not be part of the production code."
   ]
  },
  {
   "cell_type": "code",
   "execution_count": 97,
   "metadata": {},
   "outputs": [],
   "source": [
    "cols = list(train_X.columns)\n",
    "vif = eda.calc_vif(train_X)\n",
    "while max(vif.VIF) > 15:\n",
    "    #removing the largest variable from VIF\n",
    "    cols.remove(vif[(vif.VIF==vif.VIF.max())].variables.tolist()[0])\n",
    "    vif = eda.calc_vif(train_X[cols])"
   ]
  },
  {
   "cell_type": "code",
   "execution_count": 98,
   "metadata": {},
   "outputs": [],
   "source": [
    "reg_vars = vif.query('VIF < 15').variables\n",
    "reg_vars = list(reg_vars)"
   ]
  },
  {
   "cell_type": "markdown",
   "metadata": {},
   "source": [
    "### 4.1.2 Data transformations"
   ]
  },
  {
   "cell_type": "code",
   "execution_count": 99,
   "metadata": {},
   "outputs": [],
   "source": [
    "# Custom Transformations like these can be utilised\n",
    "def _custom_data_transform(df, cols2keep=None):\n",
    "    \"\"\"Transformation to drop some columns in the data\n",
    "    \n",
    "    Parameters\n",
    "    ----------\n",
    "        df - pd.DataFrame\n",
    "        cols2keep - columns to keep in the dataframe\n",
    "    \"\"\"\n",
    "    cols2keep = cols2keep or []\n",
    "    if len(cols2keep):\n",
    "        return (df\n",
    "                .select_columns(cols2keep))\n",
    "    else:\n",
    "        return df"
   ]
  },
  {
   "cell_type": "markdown",
   "metadata": {},
   "source": [
    "### 4.1.3 Model training pipeline\n",
    "\n",
    "- Here we focus on creating a collection of pipelines that can be used for training respective models.\n",
    "- Each model pipeline will essentially be of the form\n",
    "```\n",
    "[\n",
    "('preprocessing', preprocessing_pipeline),\n",
    "('feature_selection', feature_selection_pipeline),\n",
    "('estimator', estimator),\n",
    "]\n",
    "```"
   ]
  },
  {
   "cell_type": "markdown",
   "metadata": {},
   "source": [
    "### 4.1.4 Model Pipeline Build\n",
    "\n",
    "- This will be part of the production code (training only)."
   ]
  },
  {
   "cell_type": "code",
   "execution_count": 100,
   "metadata": {},
   "outputs": [
    {
     "data": {
      "text/plain": [
       "Pipeline(steps=[('',\n",
       "                 FunctionTransformer(func=<function _custom_data_transform at 0x7f8ad12224c0>,\n",
       "                                     kw_args={'cols2keep': ['longitude',\n",
       "                                                            'housing_median_age',\n",
       "                                                            'total_bedrooms',\n",
       "                                                            'population',\n",
       "                                                            'median_income',\n",
       "                                                            'rooms_per_household',\n",
       "                                                            'population_per_household',\n",
       "                                                            'bedrooms_per_room',\n",
       "                                                            '1H OCEAN',\n",
       "                                                            'INLAND', 'ISLAND',\n",
       "                                                            'NEAR BAY',\n",
       "                                                            'NEAR OCEAN']})),\n",
       "                ('estimator', SKLStatsmodelOLS())])"
      ]
     },
     "execution_count": 100,
     "metadata": {},
     "output_type": "execute_result"
    }
   ],
   "source": [
    "reg_ppln_ols = Pipeline([\n",
    "    ('',FunctionTransformer(_custom_data_transform, kw_args={'cols2keep':reg_vars})),\n",
    "    ('estimator', SKLStatsmodelOLS())\n",
    "])\n",
    "reg_ppln_ols.fit(train_X, train_y.values.ravel())\n"
   ]
  },
  {
   "cell_type": "code",
   "execution_count": 101,
   "metadata": {},
   "outputs": [
    {
     "data": {
      "text/html": [
       "<table class=\"simpletable\">\n",
       "<caption>OLS Regression Results</caption>\n",
       "<tr>\n",
       "  <th>Dep. Variable:</th>            <td>y</td>        <th>  R-squared:         </th> <td>   0.651</td> \n",
       "</tr>\n",
       "<tr>\n",
       "  <th>Model:</th>                   <td>OLS</td>       <th>  Adj. R-squared:    </th> <td>   0.650</td> \n",
       "</tr>\n",
       "<tr>\n",
       "  <th>Method:</th>             <td>Least Squares</td>  <th>  F-statistic:       </th> <td>   2560.</td> \n",
       "</tr>\n",
       "<tr>\n",
       "  <th>Date:</th>             <td>Tue, 31 May 2022</td> <th>  Prob (F-statistic):</th>  <td>  0.00</td>  \n",
       "</tr>\n",
       "<tr>\n",
       "  <th>Time:</th>                 <td>15:58:26</td>     <th>  Log-Likelihood:    </th> <td> -14748.</td> \n",
       "</tr>\n",
       "<tr>\n",
       "  <th>No. Observations:</th>      <td> 16512</td>      <th>  AIC:               </th> <td>2.952e+04</td>\n",
       "</tr>\n",
       "<tr>\n",
       "  <th>Df Residuals:</th>          <td> 16499</td>      <th>  BIC:               </th> <td>2.962e+04</td>\n",
       "</tr>\n",
       "<tr>\n",
       "  <th>Df Model:</th>              <td>    12</td>      <th>                     </th>     <td> </td>    \n",
       "</tr>\n",
       "<tr>\n",
       "  <th>Covariance Type:</th>      <td>nonrobust</td>    <th>                     </th>     <td> </td>    \n",
       "</tr>\n",
       "</table>\n",
       "<table class=\"simpletable\">\n",
       "<tr>\n",
       "              <td></td>                <th>coef</th>     <th>std err</th>      <th>t</th>      <th>P>|t|</th>  <th>[0.025</th>    <th>0.975]</th>  \n",
       "</tr>\n",
       "<tr>\n",
       "  <th>intercept</th>                <td>    0.2683</td> <td>    0.049</td> <td>    5.428</td> <td> 0.000</td> <td>    0.171</td> <td>    0.365</td>\n",
       "</tr>\n",
       "<tr>\n",
       "  <th>longitude</th>                <td>   -0.0355</td> <td>    0.005</td> <td>   -6.591</td> <td> 0.000</td> <td>   -0.046</td> <td>   -0.025</td>\n",
       "</tr>\n",
       "<tr>\n",
       "  <th>housing_median_age</th>       <td>    0.1468</td> <td>    0.005</td> <td>   27.576</td> <td> 0.000</td> <td>    0.136</td> <td>    0.157</td>\n",
       "</tr>\n",
       "<tr>\n",
       "  <th>total_bedrooms</th>           <td>    0.4143</td> <td>    0.010</td> <td>   40.504</td> <td> 0.000</td> <td>    0.394</td> <td>    0.434</td>\n",
       "</tr>\n",
       "<tr>\n",
       "  <th>population</th>               <td>   -0.3587</td> <td>    0.010</td> <td>  -35.044</td> <td> 0.000</td> <td>   -0.379</td> <td>   -0.339</td>\n",
       "</tr>\n",
       "<tr>\n",
       "  <th>median_income</th>            <td>    0.7066</td> <td>    0.006</td> <td>  114.362</td> <td> 0.000</td> <td>    0.695</td> <td>    0.719</td>\n",
       "</tr>\n",
       "<tr>\n",
       "  <th>rooms_per_household</th>      <td>   -0.0294</td> <td>    0.005</td> <td>   -5.512</td> <td> 0.000</td> <td>   -0.040</td> <td>   -0.019</td>\n",
       "</tr>\n",
       "<tr>\n",
       "  <th>population_per_household</th> <td>    0.0006</td> <td>    0.005</td> <td>    0.123</td> <td> 0.902</td> <td>   -0.009</td> <td>    0.010</td>\n",
       "</tr>\n",
       "<tr>\n",
       "  <th>bedrooms_per_room</th>        <td>    0.0782</td> <td>    0.006</td> <td>   13.056</td> <td> 0.000</td> <td>    0.066</td> <td>    0.090</td>\n",
       "</tr>\n",
       "<tr>\n",
       "  <th>1H OCEAN</th>                 <td>   -0.0973</td> <td>    0.050</td> <td>   -1.951</td> <td> 0.051</td> <td>   -0.195</td> <td>    0.000</td>\n",
       "</tr>\n",
       "<tr>\n",
       "  <th>INLAND</th>                   <td>   -0.6691</td> <td>    0.050</td> <td>  -13.363</td> <td> 0.000</td> <td>   -0.767</td> <td>   -0.571</td>\n",
       "</tr>\n",
       "<tr>\n",
       "  <th>ISLAND</th>                   <td>    1.1582</td> <td>    0.247</td> <td>    4.698</td> <td> 0.000</td> <td>    0.675</td> <td>    1.641</td>\n",
       "</tr>\n",
       "<tr>\n",
       "  <th>NEAR BAY</th>                 <td>   -0.1356</td> <td>    0.051</td> <td>   -2.648</td> <td> 0.008</td> <td>   -0.236</td> <td>   -0.035</td>\n",
       "</tr>\n",
       "<tr>\n",
       "  <th>NEAR OCEAN</th>               <td>    0.0120</td> <td>    0.051</td> <td>    0.238</td> <td> 0.812</td> <td>   -0.087</td> <td>    0.111</td>\n",
       "</tr>\n",
       "</table>\n",
       "<table class=\"simpletable\">\n",
       "<tr>\n",
       "  <th>Omnibus:</th>       <td>3812.519</td> <th>  Durbin-Watson:     </th> <td>   1.988</td> \n",
       "</tr>\n",
       "<tr>\n",
       "  <th>Prob(Omnibus):</th>  <td> 0.000</td>  <th>  Jarque-Bera (JB):  </th> <td>13993.356</td>\n",
       "</tr>\n",
       "<tr>\n",
       "  <th>Skew:</th>           <td> 1.126</td>  <th>  Prob(JB):          </th> <td>    0.00</td> \n",
       "</tr>\n",
       "<tr>\n",
       "  <th>Kurtosis:</th>       <td> 6.907</td>  <th>  Cond. No.          </th> <td>9.33e+15</td> \n",
       "</tr>\n",
       "</table><br/><br/>Warnings:<br/>[1] Standard Errors assume that the covariance matrix of the errors is correctly specified.<br/>[2] The smallest eigenvalue is 3.97e-28. This might indicate that there are<br/>strong multicollinearity problems or that the design matrix is singular."
      ],
      "text/plain": [
       "<class 'statsmodels.iolib.summary.Summary'>\n",
       "\"\"\"\n",
       "                            OLS Regression Results                            \n",
       "==============================================================================\n",
       "Dep. Variable:                      y   R-squared:                       0.651\n",
       "Model:                            OLS   Adj. R-squared:                  0.650\n",
       "Method:                 Least Squares   F-statistic:                     2560.\n",
       "Date:                Tue, 31 May 2022   Prob (F-statistic):               0.00\n",
       "Time:                        15:58:26   Log-Likelihood:                -14748.\n",
       "No. Observations:               16512   AIC:                         2.952e+04\n",
       "Df Residuals:                   16499   BIC:                         2.962e+04\n",
       "Df Model:                          12                                         \n",
       "Covariance Type:            nonrobust                                         \n",
       "============================================================================================\n",
       "                               coef    std err          t      P>|t|      [0.025      0.975]\n",
       "--------------------------------------------------------------------------------------------\n",
       "intercept                    0.2683      0.049      5.428      0.000       0.171       0.365\n",
       "longitude                   -0.0355      0.005     -6.591      0.000      -0.046      -0.025\n",
       "housing_median_age           0.1468      0.005     27.576      0.000       0.136       0.157\n",
       "total_bedrooms               0.4143      0.010     40.504      0.000       0.394       0.434\n",
       "population                  -0.3587      0.010    -35.044      0.000      -0.379      -0.339\n",
       "median_income                0.7066      0.006    114.362      0.000       0.695       0.719\n",
       "rooms_per_household         -0.0294      0.005     -5.512      0.000      -0.040      -0.019\n",
       "population_per_household     0.0006      0.005      0.123      0.902      -0.009       0.010\n",
       "bedrooms_per_room            0.0782      0.006     13.056      0.000       0.066       0.090\n",
       "1H OCEAN                    -0.0973      0.050     -1.951      0.051      -0.195       0.000\n",
       "INLAND                      -0.6691      0.050    -13.363      0.000      -0.767      -0.571\n",
       "ISLAND                       1.1582      0.247      4.698      0.000       0.675       1.641\n",
       "NEAR BAY                    -0.1356      0.051     -2.648      0.008      -0.236      -0.035\n",
       "NEAR OCEAN                   0.0120      0.051      0.238      0.812      -0.087       0.111\n",
       "==============================================================================\n",
       "Omnibus:                     3812.519   Durbin-Watson:                   1.988\n",
       "Prob(Omnibus):                  0.000   Jarque-Bera (JB):            13993.356\n",
       "Skew:                           1.126   Prob(JB):                         0.00\n",
       "Kurtosis:                       6.907   Cond. No.                     9.33e+15\n",
       "==============================================================================\n",
       "\n",
       "Warnings:\n",
       "[1] Standard Errors assume that the covariance matrix of the errors is correctly specified.\n",
       "[2] The smallest eigenvalue is 3.97e-28. This might indicate that there are\n",
       "strong multicollinearity problems or that the design matrix is singular.\n",
       "\"\"\""
      ]
     },
     "execution_count": 101,
     "metadata": {},
     "output_type": "execute_result"
    }
   ],
   "source": [
    "reg_ppln_ols['estimator'].summary()"
   ]
  },
  {
   "cell_type": "markdown",
   "metadata": {},
   "source": [
    "### 4.1.5 Model Evaluation(Linear Model)\n",
    "\n",
    "This will be part of the production code."
   ]
  },
  {
   "cell_type": "code",
   "execution_count": 102,
   "metadata": {},
   "outputs": [],
   "source": [
    "reg_ppln = Pipeline([\n",
    "    ('', FunctionTransformer(_custom_data_transform, kw_args={'cols2keep':reg_vars})),\n",
    "    ('Linear Regression', SKLStatsmodelOLS())\n",
    "])\n",
    "#test_X = test_X[curated_columns]"
   ]
  },
  {
   "cell_type": "code",
   "execution_count": 103,
   "metadata": {},
   "outputs": [],
   "source": [
    "reg_linear_report = RegressionReport(model=reg_ppln, x_train=train_X, y_train=train_y, x_test= test_X, y_test= test_y, refit=True)\n",
    "reg_linear_report.get_report(include_shap=False, file_path='regression_linear_model_report')"
   ]
  },
  {
   "cell_type": "markdown",
   "metadata": {},
   "source": [
    "**Dev Notes**\n",
    "Use SHAP for variable interpretability.\n",
    "<details>\n",
    "\n",
    "    1. Use SHAP=True to generate variable interpretability plots in the report\n",
    "    2. SHAP is recommended for non parameteric models such as RF, xgboost.\n",
    "    3. However, SHAP reports are time consuming depending on no.of records and model complexity.\n",
    "    \n",
    "A sample of regerssion report with SHAP can be found [here](https://drive.google.com/file/d/18RlQTsT1ze09Cgz-qpb4ha_cvyWbN5F5/view?usp=sharing).\n",
    "</details>"
   ]
  },
  {
   "cell_type": "markdown",
   "metadata": {},
   "source": [
    "### 4.1.6 Residual Analysis\n",
    "- After scoring the model, it is recommended to do a residual analysis to know the distribution of errors\n",
    "- we took a threshold of 30% above which it is marked as over prediction or underprediction\n",
    "- This will not be part of the production code."
   ]
  },
  {
   "cell_type": "code",
   "execution_count": 104,
   "metadata": {},
   "outputs": [],
   "source": [
    "test_X2 = test_X.copy()\n",
    "test_X2['median_house_value'] = test_y['median_house_value']"
   ]
  },
  {
   "cell_type": "code",
   "execution_count": 105,
   "metadata": {},
   "outputs": [],
   "source": [
    "threshold=0.03\n",
    "residual_analysis = test_X2.copy()\n",
    "residual_analysis['prediction'] = reg_ppln_ols.predict(test_X2)\n",
    "residual_analysis['actuals'] = test_y.reset_index(drop = True).iloc[:,0].values\n",
    "residual_analysis['forecast_flag'] = 'good'\n",
    "residual_analysis.loc[((residual_analysis['prediction'] > (1+threshold) * residual_analysis['actuals'])\\\n",
    "                       ),'forecast_flag'] = 'over predict'\n",
    "residual_analysis.loc[((residual_analysis['prediction'] < (1-threshold) * residual_analysis['actuals'])\\\n",
    "                       ),'forecast_flag'] = 'under predict'"
   ]
  },
  {
   "cell_type": "code",
   "execution_count": 106,
   "metadata": {},
   "outputs": [
    {
     "data": {
      "text/html": [
       "<div>\n",
       "<style scoped>\n",
       "    .dataframe tbody tr th:only-of-type {\n",
       "        vertical-align: middle;\n",
       "    }\n",
       "\n",
       "    .dataframe tbody tr th {\n",
       "        vertical-align: top;\n",
       "    }\n",
       "\n",
       "    .dataframe thead th {\n",
       "        text-align: right;\n",
       "    }\n",
       "</style>\n",
       "<table border=\"1\" class=\"dataframe\">\n",
       "  <thead>\n",
       "    <tr style=\"text-align: right;\">\n",
       "      <th></th>\n",
       "      <th>longitude</th>\n",
       "      <th>latitude</th>\n",
       "      <th>housing_median_age</th>\n",
       "      <th>total_rooms</th>\n",
       "      <th>total_bedrooms</th>\n",
       "      <th>population</th>\n",
       "      <th>households</th>\n",
       "      <th>median_income</th>\n",
       "      <th>rooms_per_household</th>\n",
       "      <th>population_per_household</th>\n",
       "      <th>bedrooms_per_room</th>\n",
       "      <th>1H OCEAN</th>\n",
       "      <th>INLAND</th>\n",
       "      <th>ISLAND</th>\n",
       "      <th>NEAR BAY</th>\n",
       "      <th>NEAR OCEAN</th>\n",
       "      <th>median_house_value</th>\n",
       "      <th>prediction</th>\n",
       "      <th>actuals</th>\n",
       "      <th>forecast_flag</th>\n",
       "    </tr>\n",
       "  </thead>\n",
       "  <tbody>\n",
       "    <tr>\n",
       "      <th>4123</th>\n",
       "      <td>-1.399135</td>\n",
       "      <td>0.907261</td>\n",
       "      <td>0.352047</td>\n",
       "      <td>-0.284950</td>\n",
       "      <td>-0.643372</td>\n",
       "      <td>-0.623338</td>\n",
       "      <td>-0.577240</td>\n",
       "      <td>1.249267</td>\n",
       "      <td>0.593065</td>\n",
       "      <td>-0.043951</td>\n",
       "      <td>-1.045994</td>\n",
       "      <td>0.0</td>\n",
       "      <td>0.0</td>\n",
       "      <td>0.0</td>\n",
       "      <td>0.0</td>\n",
       "      <td>1.0</td>\n",
       "      <td>2.525770</td>\n",
       "      <td>1.122269</td>\n",
       "      <td>2.525770</td>\n",
       "      <td>under predict</td>\n",
       "    </tr>\n",
       "    <tr>\n",
       "      <th>4124</th>\n",
       "      <td>0.841196</td>\n",
       "      <td>-0.738336</td>\n",
       "      <td>0.511349</td>\n",
       "      <td>-0.522933</td>\n",
       "      <td>-0.657632</td>\n",
       "      <td>-0.360994</td>\n",
       "      <td>-0.648812</td>\n",
       "      <td>-0.443610</td>\n",
       "      <td>0.195629</td>\n",
       "      <td>0.083741</td>\n",
       "      <td>-0.534635</td>\n",
       "      <td>1.0</td>\n",
       "      <td>0.0</td>\n",
       "      <td>0.0</td>\n",
       "      <td>0.0</td>\n",
       "      <td>0.0</td>\n",
       "      <td>-0.304938</td>\n",
       "      <td>-0.287679</td>\n",
       "      <td>-0.304938</td>\n",
       "      <td>over predict</td>\n",
       "    </tr>\n",
       "    <tr>\n",
       "      <th>4125</th>\n",
       "      <td>0.606685</td>\n",
       "      <td>-0.827161</td>\n",
       "      <td>-0.683414</td>\n",
       "      <td>-0.071448</td>\n",
       "      <td>-0.144276</td>\n",
       "      <td>-0.185018</td>\n",
       "      <td>0.026456</td>\n",
       "      <td>1.206412</td>\n",
       "      <td>-0.217910</td>\n",
       "      <td>-0.070992</td>\n",
       "      <td>-0.296351</td>\n",
       "      <td>1.0</td>\n",
       "      <td>0.0</td>\n",
       "      <td>0.0</td>\n",
       "      <td>0.0</td>\n",
       "      <td>0.0</td>\n",
       "      <td>1.109549</td>\n",
       "      <td>0.891468</td>\n",
       "      <td>1.109549</td>\n",
       "      <td>under predict</td>\n",
       "    </tr>\n",
       "    <tr>\n",
       "      <th>4126</th>\n",
       "      <td>-1.199551</td>\n",
       "      <td>0.757661</td>\n",
       "      <td>-0.603764</td>\n",
       "      <td>-0.768887</td>\n",
       "      <td>-0.948533</td>\n",
       "      <td>-0.961254</td>\n",
       "      <td>-0.944436</td>\n",
       "      <td>2.135098</td>\n",
       "      <td>0.486726</td>\n",
       "      <td>-0.041659</td>\n",
       "      <td>-0.844628</td>\n",
       "      <td>1.0</td>\n",
       "      <td>0.0</td>\n",
       "      <td>0.0</td>\n",
       "      <td>0.0</td>\n",
       "      <td>0.0</td>\n",
       "      <td>1.212248</td>\n",
       "      <td>1.505185</td>\n",
       "      <td>1.212248</td>\n",
       "      <td>over predict</td>\n",
       "    </tr>\n",
       "    <tr>\n",
       "      <th>4127</th>\n",
       "      <td>0.681529</td>\n",
       "      <td>-0.827161</td>\n",
       "      <td>0.511349</td>\n",
       "      <td>-0.891864</td>\n",
       "      <td>-0.603444</td>\n",
       "      <td>-0.059784</td>\n",
       "      <td>-0.552345</td>\n",
       "      <td>-1.236918</td>\n",
       "      <td>-0.941164</td>\n",
       "      <td>0.144894</td>\n",
       "      <td>1.510960</td>\n",
       "      <td>1.0</td>\n",
       "      <td>0.0</td>\n",
       "      <td>0.0</td>\n",
       "      <td>0.0</td>\n",
       "      <td>0.0</td>\n",
       "      <td>-0.904735</td>\n",
       "      <td>-0.734734</td>\n",
       "      <td>-0.904735</td>\n",
       "      <td>over predict</td>\n",
       "    </tr>\n",
       "  </tbody>\n",
       "</table>\n",
       "</div>"
      ],
      "text/plain": [
       "      longitude  latitude  housing_median_age  total_rooms  total_bedrooms  \\\n",
       "4123  -1.399135  0.907261            0.352047    -0.284950       -0.643372   \n",
       "4124   0.841196 -0.738336            0.511349    -0.522933       -0.657632   \n",
       "4125   0.606685 -0.827161           -0.683414    -0.071448       -0.144276   \n",
       "4126  -1.199551  0.757661           -0.603764    -0.768887       -0.948533   \n",
       "4127   0.681529 -0.827161            0.511349    -0.891864       -0.603444   \n",
       "\n",
       "      population  households  median_income  rooms_per_household  \\\n",
       "4123   -0.623338   -0.577240       1.249267             0.593065   \n",
       "4124   -0.360994   -0.648812      -0.443610             0.195629   \n",
       "4125   -0.185018    0.026456       1.206412            -0.217910   \n",
       "4126   -0.961254   -0.944436       2.135098             0.486726   \n",
       "4127   -0.059784   -0.552345      -1.236918            -0.941164   \n",
       "\n",
       "      population_per_household  bedrooms_per_room  1H OCEAN  INLAND  ISLAND  \\\n",
       "4123                 -0.043951          -1.045994       0.0     0.0     0.0   \n",
       "4124                  0.083741          -0.534635       1.0     0.0     0.0   \n",
       "4125                 -0.070992          -0.296351       1.0     0.0     0.0   \n",
       "4126                 -0.041659          -0.844628       1.0     0.0     0.0   \n",
       "4127                  0.144894           1.510960       1.0     0.0     0.0   \n",
       "\n",
       "      NEAR BAY  NEAR OCEAN  median_house_value  prediction   actuals  \\\n",
       "4123       0.0         1.0            2.525770    1.122269  2.525770   \n",
       "4124       0.0         0.0           -0.304938   -0.287679 -0.304938   \n",
       "4125       0.0         0.0            1.109549    0.891468  1.109549   \n",
       "4126       0.0         0.0            1.212248    1.505185  1.212248   \n",
       "4127       0.0         0.0           -0.904735   -0.734734 -0.904735   \n",
       "\n",
       "      forecast_flag  \n",
       "4123  under predict  \n",
       "4124   over predict  \n",
       "4125  under predict  \n",
       "4126   over predict  \n",
       "4127   over predict  "
      ]
     },
     "execution_count": 106,
     "metadata": {},
     "output_type": "execute_result"
    }
   ],
   "source": [
    "residual_analysis.tail()"
   ]
  },
  {
   "cell_type": "code",
   "execution_count": 107,
   "metadata": {},
   "outputs": [
    {
     "data": {},
     "metadata": {},
     "output_type": "display_data"
    },
    {
     "data": {
      "application/vnd.holoviews_exec.v0+json": "",
      "text/html": [
       "<div id='160296'>\n",
       "\n",
       "\n",
       "\n",
       "\n",
       "\n",
       "  <div class=\"bk-root\" id=\"89004ca0-a210-4a28-beb9-cc5237a58b20\" data-root-id=\"160296\"></div>\n",
       "</div>\n",
       "<script type=\"application/javascript\">(function(root) {\n",
       "  function embed_document(root) {\n",
       "  var docs_json = {\"f4ce72de-2dba-4d89-ae68-85e88e090b19\":{\"roots\":{\"references\":[{\"attributes\":{\"data_source\":{\"id\":\"160337\"},\"glyph\":{\"id\":\"160340\"},\"hover_glyph\":null,\"muted_glyph\":{\"id\":\"160342\"},\"nonselection_glyph\":{\"id\":\"160341\"},\"selection_glyph\":null,\"view\":{\"id\":\"160344\"}},\"id\":\"160343\",\"type\":\"GlyphRenderer\"},{\"attributes\":{\"data_source\":{\"id\":\"160374\"},\"glyph\":{\"id\":\"160377\"},\"hover_glyph\":null,\"muted_glyph\":{\"id\":\"160379\"},\"nonselection_glyph\":{\"id\":\"160378\"},\"selection_glyph\":null,\"view\":{\"id\":\"160381\"}},\"id\":\"160380\",\"type\":\"GlyphRenderer\"},{\"attributes\":{\"end\":3.5038817280869345,\"reset_end\":3.5038817280869345,\"reset_start\":-2.2313019378910415,\"start\":-2.2313019378910415,\"tags\":[[[\"median_house_value\",\"median_house_value\",null]]]},\"id\":\"160298\",\"type\":\"Range1d\"},{\"attributes\":{},\"id\":\"160313\",\"type\":\"BasicTicker\"},{\"attributes\":{},\"id\":\"160375\",\"type\":\"Selection\"},{\"attributes\":{\"bottom_units\":\"screen\",\"fill_alpha\":0.5,\"fill_color\":\"lightgrey\",\"left_units\":\"screen\",\"level\":\"overlay\",\"line_alpha\":1.0,\"line_color\":\"black\",\"line_dash\":[4,4],\"line_width\":2,\"right_units\":\"screen\",\"top_units\":\"screen\"},\"id\":\"160325\",\"type\":\"BoxAnnotation\"},{\"attributes\":{\"overlay\":{\"id\":\"160325\"}},\"id\":\"160323\",\"type\":\"BoxZoomTool\"},{\"attributes\":{\"fill_alpha\":0.2,\"fill_color\":\"#1f77b3\",\"line_alpha\":0.2,\"x\":{\"field\":\"x\"},\"y\":{\"field\":\"y\"}},\"id\":\"160342\",\"type\":\"Patch\"},{\"attributes\":{\"source\":{\"id\":\"160374\"}},\"id\":\"160381\",\"type\":\"CDSView\"},{\"attributes\":{\"callback\":null,\"renderers\":[{\"id\":\"160343\"},{\"id\":\"160361\"},{\"id\":\"160380\"}],\"tags\":[\"hv_created\"],\"tooltips\":[[\"forecast_flag\",\"@{forecast_flag}\"],[\"median_house_value\",\"@{median_house_value}\"],[\"Density\",\"@{median_house_value_density}\"]]},\"id\":\"160300\",\"type\":\"HoverTool\"},{\"attributes\":{\"align\":null,\"below\":[{\"id\":\"160312\"}],\"center\":[{\"id\":\"160315\"},{\"id\":\"160319\"},{\"id\":\"160353\"}],\"left\":[{\"id\":\"160316\"}],\"margin\":null,\"min_border_bottom\":10,\"min_border_left\":10,\"min_border_right\":10,\"min_border_top\":10,\"plot_height\":400,\"plot_width\":800,\"renderers\":[{\"id\":\"160343\"},{\"id\":\"160361\"},{\"id\":\"160380\"}],\"sizing_mode\":\"fixed\",\"title\":{\"id\":\"160304\"},\"toolbar\":{\"id\":\"160326\"},\"x_range\":{\"id\":\"160298\"},\"x_scale\":{\"id\":\"160308\"},\"y_range\":{\"id\":\"160299\"},\"y_scale\":{\"id\":\"160310\"}},\"id\":\"160303\",\"subtype\":\"Figure\",\"type\":\"Plot\"},{\"attributes\":{},\"id\":\"160317\",\"type\":\"BasicTicker\"},{\"attributes\":{},\"id\":\"160321\",\"type\":\"PanTool\"},{\"attributes\":{},\"id\":\"160336\",\"type\":\"BasicTickFormatter\"},{\"attributes\":{\"source\":{\"id\":\"160355\"}},\"id\":\"160362\",\"type\":\"CDSView\"},{\"attributes\":{\"fill_alpha\":0.2,\"fill_color\":\"#2ba02b\",\"line_alpha\":0.2,\"x\":{\"field\":\"x\"},\"y\":{\"field\":\"y\"}},\"id\":\"160379\",\"type\":\"Patch\"},{\"attributes\":{\"axis_label\":\"density\",\"bounds\":\"auto\",\"formatter\":{\"id\":\"160336\"},\"major_label_orientation\":\"horizontal\",\"ticker\":{\"id\":\"160317\"}},\"id\":\"160316\",\"type\":\"LinearAxis\"},{\"attributes\":{\"axis\":{\"id\":\"160312\"},\"grid_line_color\":null,\"ticker\":null},\"id\":\"160315\",\"type\":\"Grid\"},{\"attributes\":{\"label\":{\"value\":\"good\"},\"renderers\":[{\"id\":\"160380\"}]},\"id\":\"160394\",\"type\":\"LegendItem\"},{\"attributes\":{\"data\":{\"x\":{\"__ndarray__\":\"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\",\"dtype\":\"float64\",\"order\":\"little\",\"shape\":[200]},\"y\":{\"__ndarray__\":\"AAAAAAAAAAAAAAAAAAAAAAAAAAAAAAAAAAAAAAAAAAAAAAAAAAAAAAAAAAAAAAAAAAAAAAAAAAAAAAAAAAAAAAAAAAAAAAAAAAAAAAAAAAAAAAAAAAAAAAAAAAAAAAAAAAAAAAAAAAAAAAAAAAAAAAAAAAAAAAAAAAAAAAAAAAAAAAAAAAAAAAAAAAAAAAAAAAAAAAAAAAAAAAAAAAAAAAAAAAAAAAAAAAAAAAAAAAAAAAAAAAAAAAAAAAAAAAAAAAAAAAAAAAAAAAAAAAAAAAAAAAAAAAAAAAAAAAAAAAAAAAAAAAAAAAAAAAAAAAAAAAAAAAAAAAAAAAAAAAAAAAAAAAAAAAAAAAAAAAAAAAAAAAAAAAAAAAAAAAAAAAAAAAAAAAAAAAAAAAAAAAAAAAAAAAAAAAAAAAAAAAAAAAAAAAAAAAAAAAAAAAAAAAAAAAAAAAAAAAAAAAAAAAAAAAAAAAAAAAAAAAAAAAAAAAAAAAAAAAAAAAAAAAAAAAAAAAAAAAAAAAAAAAAAAAAAAAAAAAAAAAAAAAAAAAAAAAAAAAAAAAAAAAAAAAAAAAAAAAAAAAAAAAAAAAAAAAAAAAAAAAAAAAAAAAAAAAAAAAAAAAAAAAAAAAAAAAAAAAAAAAAAAAAAAAAAAAAAAAAAAAAAAAAAAAAAAAAAAAAAAAAAAAAAAAAAAAAAAAAAAAAAAAAAAAAAAAAAAAAAAAAAAAAAAAAAAAAAAAAAAAAAAAAAAAAAAAAAAAAAAAAAAAAAAAAAAAAAAAAAAAAAAAAAAAAAAAAAAAAAAAAAAAAAAAAAAAAAAAAAAAAAAAAAAAAAAAAAAAAAAAAAAAAAAAAAAAAAAAAAAAAAAAAAAAAAAAAAAAAAAAAAAAAAAAAAAAAAAAAAAAAAAAAAAAAAAAAAAAAAAAAAAAAAAAAAAAAAAAAAAAAAAAAAAAAAAAAAAAAAAAAAAAAAAAAAAAAAAAAAAAAAAAAAAAAAAAAAAAAAAAAAAAAAAAAAAAAAAAAAAAAAAAAAAAAAAAAAAAAAAAAAAAAAAAAAAAAAAAAAAAAAAAABDazc6RleP1qSiLCccWY/0djT28FtcD/M2Fy20px3P1ATyffSqIA/tTmHaVMUhz9cEOgSO2SPP7WPlOzu9ZQ/z/hg59J7mz9/OsDOIrGhP474imSfXaY/iay0/abDqz/VB6NtTOywP+/KS5ekQrQ/P5EjnKLStz8+5e/dooO7P57c2Eh+N78/1uhn3BBmwT9nZygR4Q7DP9O8XEfBhMQ/DIkExya4xT9CPtXGy5zGPzKFgI3eKsc/YNCnM9xfxz9Bdz66/T7HPzNAcLkq0cY//4s5DXMkxj9/4c9oHkvFP0ko7KlrWsQ/LxkJviBpwz9aRsBUDo7CP9Az96mo3sE/WttYRtFtwT+BBi3s5UrBP1JJ/VQggcE/HaNpDkoXwj/lkth5wA/DP1DoQCa/aMQ/aHWelOIcxj+KO5Pw0iPIP+6dt0cFc8o/XugKOoL+zD9qEcvhornPP++Zic/bS9E/+kbaIUjG0j8JGQ6vcEbUP4+F6kJDx9U/dKAPe1JE1z+F1yj42bnYP5BC4YS4JNo/NC9h32KC2z++T2Pn0NDcP/UbCNplDt4/0jYcY9M53z8tUY59+yjgPzyEN7/YquA/T/ruEd0h4T+3wfXdN43hPy0RbYPW6+E/ipnAOVM84j+pvAQh7HziP4oowb2Fq+I/sQCtKbvF4j86RcC//MjiP23yfSK8suI/IkvveqKA4j8JbikKzDDiP3axvO0CwuE/SwlDhPIz4T87oTBOTYfgP3qIF97Ae98/lV2uzyO13T/3YZj5kcLbP7+Rpz+Frdk/2H6YsKuA1z+2vLhgW0fVP+rAQwb+DNM/m7phH4Hc0D/aUNIQrH/NPy9+VNEVf8k/cgbqWwTFxT+XTYfYlVvCPwdRxzFlkr4/By/5VW4huT8pZW/lmWO0P40klOfIUrA/DjDTTQ/JqT/jyXEPcxakP3wKFX313J4/xZF9H+Jflz8oEPlp8HKRP3Nfqm3nq4k/BEPJNt6agj+lgYSA8496P5zolAY8rHI/J45dxxrZaT8x6TljUpxhPxNky/f5nVc/JgitWFoqTz9vmpMMDTtEPw==\",\"dtype\":\"float64\",\"order\":\"little\",\"shape\":[200]}},\"selected\":{\"id\":\"160375\"},\"selection_policy\":{\"id\":\"160392\"}},\"id\":\"160374\",\"type\":\"ColumnDataSource\"},{\"attributes\":{\"children\":[{\"id\":\"160297\"},{\"id\":\"160303\"},{\"id\":\"160503\"}],\"margin\":[0,0,0,0],\"name\":\"Row418477\",\"tags\":[\"embedded\"]},\"id\":\"160296\",\"type\":\"Row\"},{\"attributes\":{},\"id\":\"160310\",\"type\":\"LinearScale\"},{\"attributes\":{\"active_drag\":\"auto\",\"active_inspect\":\"auto\",\"active_multi\":null,\"active_scroll\":\"auto\",\"active_tap\":\"auto\",\"tools\":[{\"id\":\"160300\"},{\"id\":\"160320\"},{\"id\":\"160321\"},{\"id\":\"160322\"},{\"id\":\"160323\"},{\"id\":\"160324\"}]},\"id\":\"160326\",\"type\":\"Toolbar\"},{\"attributes\":{},\"id\":\"160334\",\"type\":\"BasicTickFormatter\"},{\"attributes\":{\"fill_alpha\":0.5,\"fill_color\":\"#1f77b3\",\"line_alpha\":0.7,\"x\":{\"field\":\"x\"},\"y\":{\"field\":\"y\"}},\"id\":\"160341\",\"type\":\"Patch\"},{\"attributes\":{},\"id\":\"160351\",\"type\":\"UnionRenderers\"},{\"attributes\":{},\"id\":\"160320\",\"type\":\"SaveTool\"},{\"attributes\":{},\"id\":\"160392\",\"type\":\"UnionRenderers\"},{\"attributes\":{\"axis\":{\"id\":\"160316\"},\"dimension\":1,\"grid_line_color\":null,\"ticker\":null},\"id\":\"160319\",\"type\":\"Grid\"},{\"attributes\":{},\"id\":\"160356\",\"type\":\"Selection\"},{\"attributes\":{\"data\":{\"x\":{\"__ndarray__\":\"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\",\"dtype\":\"float64\",\"order\":\"little\",\"shape\":[200]},\"y\":{\"__ndarray__\":\"AAAAAAAAAAAAAAAAAAAAAAAAAAAAAAAAAAAAAAAAAAAAAAAAAAAAAAAAAAAAAAAAAAAAAAAAAAAAAAAAAAAAAAAAAAAAAAAAAAAAAAAAAAAAAAAAAAAAAAAAAAAAAAAAAAAAAAAAAAAAAAAAAAAAAAAAAAAAAAAAAAAAAAAAAAAAAAAAAAAAAAAAAAAAAAAAAAAAAAAAAAAAAAAAAAAAAAAAAAAAAAAAAAAAAAAAAAAAAAAAAAAAAAAAAAAAAAAAAAAAAAAAAAAAAAAAAAAAAAAAAAAAAAAAAAAAAAAAAAAAAAAAAAAAAAAAAAAAAAAAAAAAAAAAAAAAAAAAAAAAAAAAAAAAAAAAAAAAAAAAAAAAAAAAAAAAAAAAAAAAAAAAAAAAAAAAAAAAAAAAAAAAAAAAAAAAAAAAAAAAAAAAAAAAAAAAAAAAAAAAAAAAAAAAAAAAAAAAAAAAAAAAAAAAAAAAAAAAAAAAAAAAAAAAAAAAAAAAAAAAAAAAAAAAAAAAAAAAAAAAAAAAAAAAAAAAAAAAAAAAAAAAAAAAAAAAAAAAAAAAAAAAAAAAAAAAAAAAAAAAAAAAAAAAAAAAAAAAAAAAAAAAAAAAAAAAAAAAAAAAAAAAAAAAAAAAAAAAAAAAAAAAAAAAAAAAAAAAAAAAAAAAAAAAAAAAAAAAAAAAAAAAAAAAAAAAAAAAAAAAAAAAAAAAAAAAAAAAAAAAAAAAAAAAAAAAAAAAAAAAAAAAAAAAAAAAAAAAAAAAAAAAAAAAAAAAAAAAAAAAAAAAAAAAAAAAAAAAAAAAAAAAAAAAAAAAAAAAAAAAAAAAAAAAAAAAAAAAAAAAAAAAAAAAAAAAAAAAAAAAAAAAAAAAAAAAAAAAAAAAAAAAAAAAAAAAAAAAAAAAAAAAAAAAAAAAAAAAAAAAAAAAAAAAAAAAAAAAAAAAAAAAAAAAAAAAAAAAAAAAAAAAAAAAAAAAAAAAAAAAAAAAAAAAAAAAAAAAAAAAAAAAAAAAAAAAAAAAAAAAAAAAAAAAAAAAAAAAAAAAAAAAAAAAAAAAAAAAAAAAAAAAAAAUnfcAkJJVPwtmsnOTfGQ/yO6oRoaLcj/yPGsbGQGAP81PJ0r0Voo/hn1yjSuslD/VHQGZavWeP+82IPMWIKY/bO9YNjIzrj/dgPvuHrKzP1D16+OPkrg/VDqz1ddbvT/Wug/g1tLAP0+WeKcIicI/w03sGSSwwz9AWWA64TzEP2ZIW6V/OsQ/6wziz+bGwz+IcCIH4QrDP7lppgAEMcI/m+HNyPhdwT+92Dfc+qvAP3+hWy0KKsA/tEZvNhK8vz9hiEvOkpC/P2xHwlsFzr8/XAAScaU4wD9rJpJnprzAPytVdcvucsE/WOAB33Nawj+jgkhfkm/DP3D40LO9qsQ/OqpB2vH/xT8nMaW6K1/HP+Bdu9f2tcg/2Y6vKuLxyT+s6DMxcAPLPxYeJgvn4Ms/vq96JFaIzD/VwGJGQgDNP6/wzL6tVs0/BnDR+JGezT+J1ulQQuzNPyboRHp6Uc4/AIcekffZzj8pMUwiX4nPP+exd6FzLdA/uCgnO2Gh0D/j2ubkcBjRP4nX+xspitE/4WlrZzTv0T9eA3Emj0LSPyATRmMogtI/0nlI4/yu0j8OV2k5zszSP7paHdCY4dI/ol75YNr00j/OhUlTpw7TP6u0eTGKNtM/35pSPzty0z+mbpiUXsTTP4dz2RmSK9Q/s5p4Qxii1D/8bp5dUR7VPz2v4koDlNU/S58qgTj21T++h9qlVTnWP87qzmf1VNY/DhnLXyZF1j9cxHxtyQrWP3/hbgb/qtU/GFwcBMUt1T+CXphaEpzUPwUFSAnZ/dM/XSAFollY0z/CE/4bHq3SP9gcX0DK+dE/62EFNsM40T84YdFliWLQP7XYJK4L384/aVcnjPmzzD/ziFVTnT/KPw0AtYBeh8c/xm/XLAybxD8oLSKdmpPBP7NVCnHrH70/op+oAQRhtz/sRXMeliSyPzct6EfuK6s/Xrkxr/iZoz8aSWOMLTWbP3ThHGJAJZI/0d/uQ3M8hz/isHXrCIt8PxFvNcVZznA/NV04vz72Yj9NhglKOH1UPyzn7ezgMUU/ZYbgAqL7ND8tKXV+JuAjPw==\",\"dtype\":\"float64\",\"order\":\"little\",\"shape\":[200]}},\"selected\":{\"id\":\"160356\"},\"selection_policy\":{\"id\":\"160371\"}},\"id\":\"160355\",\"type\":\"ColumnDataSource\"},{\"attributes\":{\"fill_alpha\":0.5,\"fill_color\":\"#2ba02b\",\"line_alpha\":0.7,\"x\":{\"field\":\"x\"},\"y\":{\"field\":\"y\"}},\"id\":\"160377\",\"type\":\"Patch\"},{\"attributes\":{\"data_source\":{\"id\":\"160355\"},\"glyph\":{\"id\":\"160358\"},\"hover_glyph\":null,\"muted_glyph\":{\"id\":\"160360\"},\"nonselection_glyph\":{\"id\":\"160359\"},\"selection_glyph\":null,\"view\":{\"id\":\"160362\"}},\"id\":\"160361\",\"type\":\"GlyphRenderer\"},{\"attributes\":{\"margin\":[5,5,5,5],\"name\":\"HSpacer418481\",\"sizing_mode\":\"stretch_width\"},\"id\":\"160297\",\"type\":\"Spacer\"},{\"attributes\":{\"label\":{\"value\":\"over predict\"},\"renderers\":[{\"id\":\"160343\"}]},\"id\":\"160354\",\"type\":\"LegendItem\"},{\"attributes\":{\"fill_alpha\":0.5,\"fill_color\":\"#1f77b3\",\"line_alpha\":0.7,\"x\":{\"field\":\"x\"},\"y\":{\"field\":\"y\"}},\"id\":\"160340\",\"type\":\"Patch\"},{\"attributes\":{\"fill_alpha\":0.2,\"fill_color\":\"#ff7e0e\",\"line_alpha\":0.2,\"x\":{\"field\":\"x\"},\"y\":{\"field\":\"y\"}},\"id\":\"160360\",\"type\":\"Patch\"},{\"attributes\":{},\"id\":\"160324\",\"type\":\"ResetTool\"},{\"attributes\":{\"data\":{\"x\":{\"__ndarray__\":\"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\",\"dtype\":\"float64\",\"order\":\"little\",\"shape\":[200]},\"y\":{\"__ndarray__\":\"AAAAAAAAAAAAAAAAAAAAAAAAAAAAAAAAAAAAAAAAAAAAAAAAAAAAAAAAAAAAAAAAAAAAAAAAAAAAAAAAAAAAAAAAAAAAAAAAAAAAAAAAAAAAAAAAAAAAAAAAAAAAAAAAAAAAAAAAAAAAAAAAAAAAAAAAAAAAAAAAAAAAAAAAAAAAAAAAAAAAAAAAAAAAAAAAAAAAAAAAAAAAAAAAAAAAAAAAAAAAAAAAAAAAAAAAAAAAAAAAAAAAAAAAAAAAAAAAAAAAAAAAAAAAAAAAAAAAAAAAAAAAAAAAAAAAAAAAAAAAAAAAAAAAAAAAAAAAAAAAAAAAAAAAAAAAAAAAAAAAAAAAAAAAAAAAAAAAAAAAAAAAAAAAAAAAAAAAAAAAAAAAAAAAAAAAAAAAAAAAAAAAAAAAAAAAAAAAAAAAAAAAAAAAAAAAAAAAAAAAAAAAAAAAAAAAAAAAAAAAAAAAAAAAAAAAAAAAAAAAAAAAAAAAAAAAAAAAAAAAAAAAAAAAAAAAAAAAAAAAAAAAAAAAAAAAAAAAAAAAAAAAAAAAAAAAAAAAAAAAAAAAAAAAAAAAAAAAAAAAAAAAAAAAAAAAAAAAAAAAAAAAAAAAAAAAAAAAAAAAAAAAAAAAAAAAAAAAAAAAAAAAAAAAAAAAAAAAAAAAAAAAAAAAAAAAAAAAAAAAAAAAAAAAAAAAAAAAAAAAAAAAAAAAAAAAAAAAAAAAAAAAAAAAAAAAAAAAAAAAAAAAAAAAAAAAAAAAAAAAAAAAAAAAAAAAAAAAAAAAAAAAAAAAAAAAAAAAAAAAAAAAAAAAAAAAAAAAAAAAAAAAAAAAAAAAAAAAAAAAAAAAAAAAAAAAAAAAAAAAAAAAAAAAAAAAAAAAAAAAAAAAAAAAAAAAAAAAAAAAAAAAAAAAAAAAAAAAAAAAAAAAAAAAAAAAAAAAAAAAAAAAAAAAAAAAAAAAAAAAAAAAAAAAAAAAAAAAAAAAAAAAAAAAAAAAAAAAAAAAAAAAAAAAAAAAAAAAAAAAAAAAAAAAAAAAAAAAAAAAAAAAAAAAAAAAAAAAAAAAAAAAAACBth8o+w9BP6SeXdY72lU/yq9gvXYTaT8vyGOewsh5P7FwhIKGwoc/cV5BwhGgkz9+fhSssRGdP0hey28AUKM/iOYIq2wJpz8BbtjP/LKoP0pk4bzI2ac/NYXIjPzQpD/VQJZxTIagP2FLXBAwJZg/cuaw0jKbkD9LLbYk7G6GPyMOlMML338/OKAi2feoeT8cS7C1NAZ4P35iLLYWCHk/q5tvdlU7ez+/yd6OPat9P396O2RK4n8/69YDr/30gD/JE8VguB2CP21EdvOXzYM//E6hT+5yhj9/2DmarWuKP3SAJfTD648/QLDWcP92kz+NyC+8cpuXPzYMVorhNJw/EHh4/i+JoD/Nb4EkvQSjP0qmnU2XeqU/qECL7DbXpz/ilFqnxQSqP8ZBLItG8qs/12VJdHikrT/gbu3vw0mvP3aRdhz0obA//RGtPGYNsj/JS6fAWCu0P3CDYgD7J7c/lDrb1CAGuz8LRzID952/P8h1oAuLVsI/i44ywoT4xD+xmEEvlqDHP5asJuc4Tso/JRLqoGQRzT+8d0ox4/zPP9N68SInitE/hxbuDVcg0z+MIr5osarUP+1DdsAJE9Y/CiB6yVhR1z8Rg+0uL3TYP93KS1VFndk/zQAYDKLy2j/eBlXl+IvcPxp4MLZxZt4/adEN9n4y4D+Wi/UtyS3hP+R2zCHrDuI/WXWoifvE4j+0WMKVhEbjP+19feF7keM/7eNzY4uq4z80VmohO5zjP5s1AtR8deM/Plw6K/tG4z8aZFdkTB/jP1GiXK8AB+M/XqEk6cX94j+7mn8tePniP3dDmB6B5+I/ElxTGKqw4j8EjLnR7j7iPxDAuF58g+E/Z6NNM/154D8IsXKyBk/eP5txg0NGLds/ll6QmSWp1z+wO2ZXZuPTPw8y5ffgB9A/bZq7/wmcyD9uobtzr+DBP7Q5JhYpeLg/7UkwQpJ2rz8x/piynfyiP5KcIN5jh5U/yTeyL/D7hj+3MKFf6il3P06aW/dWFGY/dguhOtnnUz8cfPDlH+5AP/4KSS5PCCs/LSs2TGYfFD+Pmteuarv7Pg==\",\"dtype\":\"float64\",\"order\":\"little\",\"shape\":[200]}},\"selected\":{\"id\":\"160338\"},\"selection_policy\":{\"id\":\"160351\"}},\"id\":\"160337\",\"type\":\"ColumnDataSource\"},{\"attributes\":{},\"id\":\"160338\",\"type\":\"Selection\"},{\"attributes\":{\"label\":{\"value\":\"under predict\"},\"renderers\":[{\"id\":\"160361\"}]},\"id\":\"160373\",\"type\":\"LegendItem\"},{\"attributes\":{\"fill_alpha\":0.5,\"fill_color\":\"#2ba02b\",\"line_alpha\":0.7,\"x\":{\"field\":\"x\"},\"y\":{\"field\":\"y\"}},\"id\":\"160378\",\"type\":\"Patch\"},{\"attributes\":{},\"id\":\"160371\",\"type\":\"UnionRenderers\"},{\"attributes\":{\"margin\":[5,5,5,5],\"name\":\"HSpacer418482\",\"sizing_mode\":\"stretch_width\"},\"id\":\"160503\",\"type\":\"Spacer\"},{\"attributes\":{\"fill_alpha\":0.5,\"fill_color\":\"#ff7e0e\",\"line_alpha\":0.7,\"x\":{\"field\":\"x\"},\"y\":{\"field\":\"y\"}},\"id\":\"160358\",\"type\":\"Patch\"},{\"attributes\":{\"axis_label\":\"unit_cost\",\"bounds\":\"auto\",\"formatter\":{\"id\":\"160334\"},\"major_label_orientation\":\"horizontal\",\"ticker\":{\"id\":\"160313\"}},\"id\":\"160312\",\"type\":\"LinearAxis\"},{\"attributes\":{\"source\":{\"id\":\"160337\"}},\"id\":\"160344\",\"type\":\"CDSView\"},{\"attributes\":{\"click_policy\":\"mute\",\"items\":[{\"id\":\"160354\"},{\"id\":\"160373\"},{\"id\":\"160394\"}],\"title\":\"forecast_flag\"},\"id\":\"160353\",\"type\":\"Legend\"},{\"attributes\":{\"end\":0.6760226158697534,\"reset_end\":0.6760226158697534,\"reset_start\":0.0,\"tags\":[[[\"median_house_value_density\",\"Density\",null]]]},\"id\":\"160299\",\"type\":\"Range1d\"},{\"attributes\":{},\"id\":\"160322\",\"type\":\"WheelZoomTool\"},{\"attributes\":{},\"id\":\"160308\",\"type\":\"LinearScale\"},{\"attributes\":{\"fill_alpha\":0.5,\"fill_color\":\"#ff7e0e\",\"line_alpha\":0.7,\"x\":{\"field\":\"x\"},\"y\":{\"field\":\"y\"}},\"id\":\"160359\",\"type\":\"Patch\"},{\"attributes\":{\"text\":\"median_house_value(density)\",\"text_color\":{\"value\":\"black\"},\"text_font_size\":{\"value\":\"12pt\"}},\"id\":\"160304\",\"type\":\"Title\"}],\"root_ids\":[\"160296\"]},\"title\":\"Bokeh Application\",\"version\":\"2.2.3\"}};\n",
       "  var render_items = [{\"docid\":\"f4ce72de-2dba-4d89-ae68-85e88e090b19\",\"root_ids\":[\"160296\"],\"roots\":{\"160296\":\"89004ca0-a210-4a28-beb9-cc5237a58b20\"}}];\n",
       "  root.Bokeh.embed.embed_items_notebook(docs_json, render_items);\n",
       "  }\n",
       "if (root.Bokeh !== undefined) {\n",
       "    embed_document(root);\n",
       "  } else {\n",
       "    var attempts = 0;\n",
       "    var timer = setInterval(function(root) {\n",
       "      if (root.Bokeh !== undefined) {\n",
       "        clearInterval(timer);\n",
       "        embed_document(root);\n",
       "      } else if (document.readyState == \"complete\") {\n",
       "        attempts++;\n",
       "        if (attempts > 100) {\n",
       "          clearInterval(timer);\n",
       "          console.log(\"Bokeh: ERROR: Unable to run BokehJS code because BokehJS library is missing\");\n",
       "        }\n",
       "      }\n",
       "    }, 10, root)\n",
       "  }\n",
       "})(window);</script>"
      ],
      "text/plain": [
       ":NdOverlay   [forecast_flag]\n",
       "   :Distribution   [median_house_value]   (Density)"
      ]
     },
     "execution_count": 107,
     "metadata": {
      "application/vnd.holoviews_exec.v0+json": {
       "id": "160296"
      }
     },
     "output_type": "execute_result"
    }
   ],
   "source": [
    "residual_analysis.hvplot.kde(y=\"median_house_value\",by=\"forecast_flag\", ## Grouping by Predictions\n",
    "                                width=800, height=400,\n",
    "                                alpha=0.7,\n",
    "                                ylabel=\"density\",\n",
    "                                xlabel=\"unit_cost\",\n",
    "                                title=f'median_house_value(density)',legend='top_right')"
   ]
  },
  {
   "cell_type": "markdown",
   "metadata": {},
   "source": [
    "- From the above plot we can infer that the higher \"over predictions\" are happening for unit_cost > 200.\n",
    "- similarly, the higher \"under predictions\" are happening for unit_cost is zero.\n",
    "\n",
    "This can help us tune the model by a separate model for unit_cost > 200\n"
   ]
  },
  {
   "cell_type": "markdown",
   "metadata": {},
   "source": [
    "# 4.2 Modelling - XGBoost"
   ]
  },
  {
   "cell_type": "markdown",
   "metadata": {
    "jupyter": {
     "source_hidden": true
    }
   },
   "source": [
    "## 4.2.1 Model training pipeline\n",
    "\n",
    "Here we focus on creating a collection of pipelines that can be used for tranining respective models.\n",
    "\n",
    "Each model pipeline will essentially be of the form\n",
    "```\n",
    "[\n",
    "('preprocessing', preprocessing_pipeline),\n",
    "('feature_selection', feature_selection_pipeline),\n",
    "('estimator', estimator),\n",
    "]\n",
    "```"
   ]
  },
  {
   "cell_type": "markdown",
   "metadata": {},
   "source": [
    "### 4.2.2 Model Pipeline Build"
   ]
  },
  {
   "cell_type": "code",
   "execution_count": 108,
   "metadata": {},
   "outputs": [
    {
     "data": {
      "text/plain": [
       "Pipeline(steps=[('XGBoost',\n",
       "                 XGBRegressor(base_score=0.5, booster='gbtree',\n",
       "                              colsample_bylevel=1, colsample_bynode=1,\n",
       "                              colsample_bytree=1, gamma=0, gpu_id=-1,\n",
       "                              importance_type='gain',\n",
       "                              interaction_constraints='',\n",
       "                              learning_rate=0.300000012, max_delta_step=0,\n",
       "                              max_depth=6, min_child_weight=1, missing=nan,\n",
       "                              monotone_constraints='()', n_estimators=100,\n",
       "                              n_jobs=0, num_parallel_tree=1, random_state=0,\n",
       "                              reg_alpha=0, reg_lambda=1, scale_pos_weight=1,\n",
       "                              subsample=1, tree_method='exact',\n",
       "                              validate_parameters=1, verbosity=None))])"
      ]
     },
     "execution_count": 108,
     "metadata": {},
     "output_type": "execute_result"
    }
   ],
   "source": [
    "# let's find features for some decent defaults\n",
    "estimator = XGBRegressor()\n",
    "xgb_training_pipe_init = Pipeline([\n",
    "    ('XGBoost', XGBRegressor())\n",
    "])\n",
    "xgb_training_pipe_init.fit(train_X, train_y)"
   ]
  },
  {
   "cell_type": "markdown",
   "metadata": {},
   "source": [
    "### 4.2.3 Model Tuning"
   ]
  },
  {
   "cell_type": "code",
   "execution_count": 109,
   "metadata": {},
   "outputs": [
    {
     "data": {
      "text/plain": [
       "<AxesSubplot:>"
      ]
     },
     "execution_count": 109,
     "metadata": {},
     "output_type": "execute_result"
    },
    {
     "data": {
      "image/png": "[encoded data removed]",
      "text/plain": [
       "<Figure size 432x288 with 1 Axes>"
      ]
     },
     "metadata": {
      "needs_background": "light"
     },
     "output_type": "display_data"
    }
   ],
   "source": [
    "# Understanding the Feature Importance\n",
    "%matplotlib inline\n",
    "imp = pd.DataFrame({'importance': xgb_training_pipe_init['XGBoost'].feature_importances_})\n",
    "imp.index = train_X.columns\n",
    "imp.sort_values('importance',inplace=True)\n",
    "imp.plot(kind='barh')"
   ]
  },
  {
   "cell_type": "markdown",
   "metadata": {},
   "source": [
    "'condition','model_family','days_since_last_purchase','first_time_customer','sales_person', are considered to be important and in grid search"
   ]
  },
  {
   "cell_type": "markdown",
   "metadata": {},
   "source": [
    "##### Pipeline build based on new importance features"
   ]
  },
  {
   "cell_type": "code",
   "execution_count": 110,
   "metadata": {},
   "outputs": [],
   "source": [
    "# let's find features for some decent defaults\n",
    "imp_features = ['INLAND','median_income','NEAR OCEAN','1H OCEAN','latitude','NEAR BAY']\n",
    "\n",
    "estimator = XGBRegressor()\n",
    "xgb_training_pipe2 = Pipeline([\n",
    "    ('', FunctionTransformer(_custom_data_transform, kw_args={'cols2keep':imp_features})),\n",
    "    ('XGBoost', XGBRegressor())\n",
    "])"
   ]
  },
  {
   "cell_type": "markdown",
   "metadata": {},
   "source": [
    "#### Grid Search of the Estimator"
   ]
  },
  {
   "cell_type": "code",
   "execution_count": 111,
   "metadata": {},
   "outputs": [
    {
     "name": "stdout",
     "output_type": "stream",
     "text": [
      "Fitting 2 folds for each of 1 candidates, totalling 2 fits\n"
     ]
    },
    {
     "name": "stderr",
     "output_type": "stream",
     "text": [
      "[Parallel(n_jobs=4)]: Using backend LokyBackend with 4 concurrent workers.\n",
      "[Parallel(n_jobs=4)]: Done   2 out of   2 | elapsed:    4.0s finished\n"
     ]
    },
    {
     "name": "stdout",
     "output_type": "stream",
     "text": [
      "0.8175509713473252\n",
      "{'gamma': 0.03, 'learning_rate': 0.1, 'max_depth': 3, 'min_child_weight': 6, 'n_estimators': 500}\n",
      "CPU times: user 10.4 s, sys: 609 ms, total: 11 s\n",
      "Wall time: 5.58 s\n"
     ]
    }
   ],
   "source": [
    "%%time\n",
    "parameters = {\n",
    "   'gamma':[0.03],\n",
    "   'min_child_weight':[6],\n",
    "   'learning_rate':[0.1],\n",
    "   'max_depth':[3],\n",
    "   'n_estimators':[500], \n",
    "}\n",
    "est = XGBRegressor()\n",
    "xgb_grid = GridSearchCV(est,\n",
    "                        parameters,\n",
    "                        cv = 2,\n",
    "                        n_jobs = 4,\n",
    "                        verbose=True)\n",
    "\n",
    "xgb_grid.fit(train_X, train_y)\n",
    "\n",
    "print(xgb_grid.best_score_)\n",
    "print(xgb_grid.best_params_)"
   ]
  },
  {
   "cell_type": "markdown",
   "metadata": {},
   "source": [
    "#### Pipeline Build using the best estimator"
   ]
  },
  {
   "cell_type": "code",
   "execution_count": 112,
   "metadata": {},
   "outputs": [
    {
     "data": {
      "text/plain": [
       "Pipeline(steps=[('',\n",
       "                 FunctionTransformer(func=<function _custom_data_transform at 0x7f8ad12224c0>,\n",
       "                                     kw_args={'cols2keep': ['INLAND',\n",
       "                                                            'median_income',\n",
       "                                                            'NEAR OCEAN',\n",
       "                                                            '1H OCEAN',\n",
       "                                                            'latitude',\n",
       "                                                            'NEAR BAY']})),\n",
       "                ('XGBoost',\n",
       "                 XGBRegressor(base_score=0.5, booster='gbtree',\n",
       "                              colsample_bylevel=1, colsample_bynode=1,\n",
       "                              colsample_bytree=1, gamma=0.03, gpu_id=-1,\n",
       "                              importance_type='gain',\n",
       "                              interaction_constraints='', learning_rate=0.1,\n",
       "                              max_delta_step=0, max_depth=3, min_child_weight=6,\n",
       "                              missing=nan, monotone_constraints='()',\n",
       "                              n_estimators=500, n_jobs=0, num_parallel_tree=1,\n",
       "                              random_state=0, reg_alpha=0, reg_lambda=1,\n",
       "                              scale_pos_weight=1, subsample=1,\n",
       "                              tree_method='exact', validate_parameters=1,\n",
       "                              verbosity=None))])"
      ]
     },
     "execution_count": 112,
     "metadata": {},
     "output_type": "execute_result"
    }
   ],
   "source": [
    "xgb_pipeline_final = Pipeline([\n",
    "    ('', FunctionTransformer(_custom_data_transform, kw_args={'cols2keep':imp_features})),\n",
    "    ('XGBoost', xgb_grid.best_estimator_)\n",
    "])\n",
    "xgb_pipeline_final.fit(train_X, train_y)"
   ]
  },
  {
   "cell_type": "code",
   "execution_count": 113,
   "metadata": {},
   "outputs": [],
   "source": [
    "reg_tree_report = RegressionReport(model=xgb_pipeline_final, x_train=train_X, y_train=train_y, x_test= test_X, y_test= test_y)\n",
    "reg_tree_report.get_report(include_shap=False, file_path='regression_tree_model_report')"
   ]
  },
  {
   "cell_type": "markdown",
   "metadata": {},
   "source": [
    "The Regression report containing the feature importances are available [here](https://drive.google.com/file/d/1-VvhnH-TELL_SYQP1SA91KeGbSI48bCl/view?usp=sharing)"
   ]
  },
  {
   "cell_type": "markdown",
   "metadata": {},
   "source": [
    "# 5 Model Comparison"
   ]
  },
  {
   "cell_type": "markdown",
   "metadata": {},
   "source": [
    "Now, a comparison report of the  linear (vs) tree -based model  approach can be generated as follows.\n",
    "\n",
    "This code will not be part of the production code."
   ]
  },
  {
   "cell_type": "code",
   "execution_count": 114,
   "metadata": {},
   "outputs": [
    {
     "name": "stderr",
     "output_type": "stream",
     "text": [
      "`rcond` parameter will change to the default of machine precision times ``max(M, N)`` where M and N are the input matrix dimensions.\n",
      "To use the future default and silence this warning we advise to pass `rcond=None`, to keep using the old, explicitly pass `rcond=-1`.\n"
     ]
    }
   ],
   "source": [
    "model_pipelines = [reg_ppln, xgb_pipeline_final]\n",
    "model_comparison_report = RegressionComparison(models=model_pipelines,x=train_X, y=train_y)\n",
    "metrics = model_comparison_report.get_report(file_path='regression_comparison')"
   ]
  },
  {
   "cell_type": "code",
   "execution_count": 115,
   "metadata": {},
   "outputs": [
    {
     "data": {
      "text/html": [
       "<div>\n",
       "<style scoped>\n",
       "    .dataframe tbody tr th:only-of-type {\n",
       "        vertical-align: middle;\n",
       "    }\n",
       "\n",
       "    .dataframe tbody tr th {\n",
       "        vertical-align: top;\n",
       "    }\n",
       "\n",
       "    .dataframe thead th {\n",
       "        text-align: right;\n",
       "    }\n",
       "</style>\n",
       "<table border=\"1\" class=\"dataframe\">\n",
       "  <thead>\n",
       "    <tr style=\"text-align: right;\">\n",
       "      <th>metric</th>\n",
       "      <th>MAPE</th>\n",
       "      <th>WMAPE</th>\n",
       "      <th>MAE</th>\n",
       "      <th>RMSE</th>\n",
       "      <th>R^2</th>\n",
       "    </tr>\n",
       "  </thead>\n",
       "  <tbody>\n",
       "    <tr>\n",
       "      <th>, Linear Regression</th>\n",
       "      <td>2.1614</td>\n",
       "      <td>1.113826e+16</td>\n",
       "      <td>0.4278</td>\n",
       "      <td>0.5911</td>\n",
       "      <td>0.6506</td>\n",
       "    </tr>\n",
       "    <tr>\n",
       "      <th>, XGBoost</th>\n",
       "      <td>1.9826</td>\n",
       "      <td>9.611831e+15</td>\n",
       "      <td>0.3692</td>\n",
       "      <td>0.5287</td>\n",
       "      <td>0.7204</td>\n",
       "    </tr>\n",
       "  </tbody>\n",
       "</table>\n",
       "</div>"
      ],
      "text/plain": [
       "metric                 MAPE         WMAPE     MAE    RMSE     R^2\n",
       ", Linear Regression  2.1614  1.113826e+16  0.4278  0.5911  0.6506\n",
       ", XGBoost            1.9826  9.611831e+15  0.3692  0.5287  0.7204"
      ]
     },
     "execution_count": 115,
     "metadata": {},
     "output_type": "execute_result"
    }
   ],
   "source": [
    "model_comparison_report.performance_metrics"
   ]
  },
  {
   "cell_type": "markdown",
   "metadata": {},
   "source": [
    "A report comparing the performance, metrics between Linear model and Tree model are available [here](https://drive.google.com/file/d/1t2VtBffSH5gfhxyaXZrfNufuRgMFZhc9/view?usp=sharing)"
   ]
  },
  {
   "cell_type": "markdown",
   "metadata": {},
   "source": [
    "**Dev NOTES**\n",
    "<details>\n",
    "\n",
    "the above metrics are absolute nos and not %ges"
   ]
  },
  {
   "cell_type": "markdown",
   "metadata": {},
   "source": [
    "In this example we are choosing LM model for pipelining. General criteria for choosing production models is:\n",
    "\n",
    "- Parametric models (aka whitebox models) such as Linear Regression are easier to explain to non-technical audience.\n",
    "- Generally these are accepted fast and adoption is quicker.\n",
    "- If the downstream calls for optimization using these models parametric models are easier to implement.\n",
    "- When accuracy is primary goal without explainability, the above two takes a backseat"
   ]
  }
 ],
 "metadata": {
  "kernelspec": {
   "display_name": "Python 3",
   "language": "python",
   "name": "python3"
  },
  "language_info": {
   "codemirror_mode": {
    "name": "ipython",
    "version": 3
   },
   "file_extension": ".py",
   "mimetype": "text/x-python",
   "name": "python",
   "nbconvert_exporter": "python",
   "pygments_lexer": "ipython3",
   "version": "3.8.11"
  }
 },
 "nbformat": 4,
 "nbformat_minor": 4
}
